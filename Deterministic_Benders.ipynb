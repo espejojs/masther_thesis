{
 "cells": [
  {
   "cell_type": "code",
   "execution_count": 1,
   "metadata": {
    "collapsed": false
   },
   "outputs": [],
   "source": [
    "import numpy as np\n",
    "import pfnet as pf\n",
    "from scipy.sparse import triu,bmat,coo_matrix,eye,spdiags\n",
    "import matplotlib.pyplot as plt\n",
    "from scikits.sparse.cholmod import cholesky\n",
    "\n",
    "\n",
    "%matplotlib inline  "
   ]
  },
  {
   "cell_type": "code",
   "execution_count": 2,
   "metadata": {
    "collapsed": false
   },
   "outputs": [],
   "source": [
    "net=pf.Network()\n",
    "net.load('PFNET-multi_period/data/ieee14.mat')\n",
    "# net.load('PFNET-multi_period/data/ieee300.mat')\n"
   ]
  },
  {
   "cell_type": "code",
   "execution_count": 3,
   "metadata": {
    "collapsed": false
   },
   "outputs": [],
   "source": [
    "penetration=50.\n",
    "net.add_vargens(net.get_gen_buses(),#[net.get_bus(1)], \n",
    "                penetration, 50., 10, 0.1)"
   ]
  },
  {
   "cell_type": "code",
   "execution_count": 4,
   "metadata": {
    "collapsed": false
   },
   "outputs": [],
   "source": [
    "# Problem set up\n",
    "\n",
    "total_load = sum([l.P for l in net.loads])\n",
    "total_capacity=sum([gen.P_max for gen in net.generators])\n",
    "uncertainty = 100.*sum([g.P_std for g in net.var_generators])/sum([g.P_max for g in net.var_generators])\n",
    "corr_value = net.vargen_corr_value \n",
    "corr_radius = net.vargen_corr_radius\n",
    "\n",
    "for br in net.branches:\n",
    "    if br.ratingA==0:\n",
    "        br.ratingA = 15\n",
    "\n",
    "for gen in net.generators:\n",
    "    gen.P_min = 0.\n",
    "    gen.P_max = np.maximum(gen.P_max,0.)\n",
    "    assert(gen.P_min <= gen.P_max)\n",
    "\n",
    "\n",
    "num_w = net.num_buses-net.get_num_slack_buses() # voltage angles\n",
    "num_p = net.get_num_P_adjust_gens()             #net.get_num_generators()         # adjustable generators\n",
    "num_r = net.num_var_generators                       # renewable generators\n",
    "num_bus = net.num_buses                         # buses\n",
    "num_br = net.num_branches                       # branches\n",
    "num_l = net.num_loads"
   ]
  },
  {
   "cell_type": "code",
   "execution_count": 5,
   "metadata": {
    "collapsed": false
   },
   "outputs": [],
   "source": [
    "# [gen.P_max for gen in net.generators]\n"
   ]
  },
  {
   "cell_type": "code",
   "execution_count": 6,
   "metadata": {
    "collapsed": false
   },
   "outputs": [],
   "source": [
    "capacity_per=np.ones(5)/5\n",
    "# capacity_per=np.array([0.23494860499265785, 0.40279001468428781, 0.08208516886930984, 0.23906020558002939, 0.041116005873715125])\n",
    "#([0.25, 0.50, 0.15, 0.05, 0.05 ])#\n",
    "capacity_per_cumsum=np.cumsum(capacity_per)\n",
    "sorted_gen=np.array(sorted([gen.P_max  for gen in net.generators]))\n",
    "gen_cumsum=np.cumsum(sorted_gen)\n",
    "gen_bounds=np.zeros(len(capacity_per)+1)\n",
    "gen_bounds[0]=100\n",
    "for idx,cap in enumerate(capacity_per_cumsum):\n",
    "    gen_bounds[idx+1]=np.min(sorted_gen[gen_cumsum/total_capacity>=(1-cap)])\n",
    "gen_bounds[-1]=0\n",
    "parameters=[('Nuclear', 0.029917833750000022, 3.0741044999999803, 100, 400.0, 280.0, 280.0, 24.0, 168.0, 40000.0),\n",
    "('Coal', 0.11954207142857155, 12.270104999999957, 140, 350.0, 140.0, 140.0, 5.0, 8.0, 12064.0),\n",
    "('IGCC', 0.25331129032258076, 10.655729999999988, 54, 155.0, 70.0, 80.0, 16.0, 24.0, 2058.0),\n",
    "('CCGT', 0.14437728426395943, 7.7242649999999946, 104, 197.0, 310.0, 310.0, 3.0, 4.0, 230.0),\n",
    "('OCGT', 2.2680749999999974, 13.795700000000027, 8, 20.0, 90.0, 100.0, 1.0, 2.0, 46.0)]\n"
   ]
  },
  {
   "cell_type": "code",
   "execution_count": 7,
   "metadata": {
    "collapsed": false
   },
   "outputs": [],
   "source": [
    "# gen_bounds"
   ]
  },
  {
   "cell_type": "code",
   "execution_count": 8,
   "metadata": {
    "collapsed": false
   },
   "outputs": [],
   "source": [
    "# for i in range(0,len(gen_bounds)-1):\n",
    "#     print np.sum([gen.P_max/total_capacity for gen in net.generators if gen.P_max>gen_bounds[i+1] and gen.P_max < gen_bounds[i] ])"
   ]
  },
  {
   "cell_type": "code",
   "execution_count": 9,
   "metadata": {
    "collapsed": false
   },
   "outputs": [],
   "source": [
    "min_down=np.zeros([num_p])\n",
    "min_up=np.zeros([num_p])\n",
    "ramp_up=np.zeros([num_p])\n",
    "ramp_down=np.zeros([num_p])\n",
    "on_off_cost=np.zeros([num_p])\n",
    "\n",
    "gen_tech=np.chararray([num_p],itemsize=10)\n",
    "for i in reversed(range(0,len(gen_bounds)-1)): \n",
    "    for gen in net.generators:\n",
    "        if gen.P_max >= gen_bounds[i+1] and gen.P_max < gen_bounds[i]:\n",
    "            aggregator= (np.maximum(gen.P_max/(parameters[i][4]/net.base_power),0))\n",
    "#             print aggregator,parameters[i][0],gen.index\n",
    "            gen.P_max= aggregator*parameters[i][4]/net.base_power\n",
    "            gen.P_min= aggregator*parameters[i][3]/net.base_power\n",
    "            gen.cost_coeff_Q2= net.base_power**2*parameters[i][1]/aggregator\n",
    "            gen.cost_coeff_Q1= net.base_power*parameters[i][2]/aggregator\n",
    "            gen.dP_max= parameters[i][5]/net.base_power*aggregator\n",
    "            \n",
    "            ramp_up[gen.index]=(aggregator*parameters[i][5])/net.base_power\n",
    "            ramp_down[gen.index]=(aggregator*parameters[i][6])/net.base_power\n",
    "            min_down[gen.index]= parameters[i][7]\n",
    "            min_up[gen.index] = parameters[i][8]\n",
    "            on_off_cost[gen.index] =parameters[i][9]*aggregator\n",
    "            \n",
    "            gen_tech[gen.index] = parameters[i][0]\n",
    "            \n",
    "name_techno=list(set([techno[0] for techno in parameters]))"
   ]
  },
  {
   "cell_type": "code",
   "execution_count": 10,
   "metadata": {
    "collapsed": false
   },
   "outputs": [],
   "source": [
    "# gen_tech"
   ]
  },
  {
   "cell_type": "code",
   "execution_count": 11,
   "metadata": {
    "collapsed": false
   },
   "outputs": [
    {
     "name": "stdout",
     "output_type": "stream",
     "text": [
      "('Nuclear', 0.43034697048161569)\n",
      "('IGCC', 0.18125323666494039)\n",
      "('CCGT', 0.38839979285344378)\n",
      "('OCGT', 0.0)\n",
      "('Coal', 0.0)\n"
     ]
    }
   ],
   "source": [
    "for name in name_techno:\n",
    "    print (name,np.sum([ gen.P_max for idx,gen in enumerate( net.generators) if gen_tech[idx]==name ])/total_capacity)"
   ]
  },
  {
   "cell_type": "code",
   "execution_count": 12,
   "metadata": {
    "collapsed": false
   },
   "outputs": [
    {
     "name": "stdout",
     "output_type": "stream",
     "text": [
      "1 Nuclear\n",
      "1 IGCC\n",
      "3 CCGT\n",
      "0 OCGT\n",
      "0 Coal\n"
     ]
    }
   ],
   "source": [
    "for idx, name in enumerate(name_techno):\n",
    "    print sum([1 for i in range(num_p) if gen_tech[i]==name]),name"
   ]
  },
  {
   "cell_type": "code",
   "execution_count": 13,
   "metadata": {
    "collapsed": false
   },
   "outputs": [],
   "source": [
    "# sorted([(gen.index , gen.P_max) for idx , gen in enumerate( net.generators)],\n",
    "#        key = lambda x: float(x[1]),reverse=True)\n",
    "    "
   ]
  },
  {
   "cell_type": "code",
   "execution_count": 14,
   "metadata": {
    "collapsed": true
   },
   "outputs": [],
   "source": [
    "net.clear_flags()\n",
    "net.set_flags(pf.OBJ_BUS,\n",
    "              pf.FLAG_VARS,\n",
    "              pf.BUS_PROP_NOT_SLACK,\n",
    "              pf.BUS_VAR_VANG)\n",
    "net.set_flags(pf.OBJ_GEN,\n",
    "              pf.FLAG_VARS,\n",
    "              pf.GEN_PROP_P_ADJUST,\n",
    "              pf.GEN_VAR_P)\n",
    "net.set_flags(pf.OBJ_VARGEN,\n",
    "              pf.FLAG_VARS,\n",
    "              pf.VARGEN_PROP_ANY,\n",
    "              pf.VARGEN_VAR_P)\n",
    "net.set_flags(pf.OBJ_LOAD,\n",
    "              pf.FLAG_VARS,\n",
    "              pf.LOAD_PROP_ANY,\n",
    "              pf.LOAD_VAR_P)"
   ]
  },
  {
   "cell_type": "code",
   "execution_count": 15,
   "metadata": {
    "collapsed": false
   },
   "outputs": [],
   "source": [
    "x = net.get_var_values()\n",
    "Pw = net.get_var_projection(pf.OBJ_BUS,pf.BUS_VAR_VANG)\n",
    "Pp = net.get_var_projection(pf.OBJ_GEN,pf.GEN_VAR_P)\n",
    "Pr = net.get_var_projection(pf.OBJ_VARGEN,pf.VARGEN_VAR_P)\n",
    "Pd = net.get_var_projection(pf.OBJ_LOAD,pf.LOAD_VAR_P)\n"
   ]
  },
  {
   "cell_type": "code",
   "execution_count": 16,
   "metadata": {
    "collapsed": false
   },
   "outputs": [],
   "source": [
    "pf_eq = pf.Constraint(pf.CONSTR_TYPE_DCPF,net)\n",
    "pf_eq.analyze()\n",
    "pf_eq.eval(x)\n",
    "AA = pf_eq.A.copy()\n",
    "bb = pf_eq.b.copy()"
   ]
  },
  {
   "cell_type": "code",
   "execution_count": 17,
   "metadata": {
    "collapsed": false
   },
   "outputs": [],
   "source": [
    "fl_lim = pf.Constraint(pf.CONSTR_TYPE_DC_FLOW_LIM,net)\n",
    "fl_lim.analyze()\n",
    "fl_lim.eval(x)\n",
    "GG = fl_lim.G.copy()\n",
    "hl = fl_lim.l.copy()\n",
    "hu = fl_lim.u.copy()"
   ]
  },
  {
   "cell_type": "code",
   "execution_count": 18,
   "metadata": {
    "collapsed": false
   },
   "outputs": [],
   "source": [
    "cost = pf.Function(pf.FUNC_TYPE_GEN_COST,1.,net)\n",
    "cost.analyze()\n",
    "cost.eval(x)\n",
    "H = (cost.Hphi + cost.Hphi.T - triu(cost.Hphi)) # symmetric\n",
    "g = cost.gphi - H*x\n",
    "l = net.get_var_values(pf.LOWER_LIMITS)\n",
    "u = net.get_var_values(pf.UPPER_LIMITS)"
   ]
  },
  {
   "cell_type": "code",
   "execution_count": 19,
   "metadata": {
    "collapsed": false
   },
   "outputs": [],
   "source": [
    "p_max = Pp*u\n",
    "p_min = Pp*l\n",
    "w_max = 5*np.ones(num_w)\n",
    "w_min = -5*np.ones(num_w)\n",
    "r_max = Pr*u\n",
    "r_base = Pr*x\n",
    "z_max = hu\n",
    "z_min = hl \n",
    "H0 = Pp*H*Pp.T # change costs\n",
    "g0 = Pp*g\n",
    "#H1 = self.H0*self.parameters['cost_factor']\n",
    "g1 = np.zeros(num_p)\n",
    "G = AA*Pp.T\n",
    "R = AA*Pr.T\n",
    "A = -AA*Pw.T\n",
    "Dm = -AA*Pd.T\n",
    "J = GG*Pw.T \n",
    "b = bb\n",
    "ll= Pd*x #np.array([l.P for l in net.loads]) # check "
   ]
  },
  {
   "cell_type": "code",
   "execution_count": 20,
   "metadata": {
    "collapsed": false
   },
   "outputs": [],
   "source": [
    "rr_cov = Pr*net.create_vargen_P_sigma(corr_radius,corr_value)*Pr.T\n",
    "r_cov = (rr_cov+rr_cov.T-triu(rr_cov)).tocsc()\n",
    "factor = cholesky(r_cov)\n",
    "LL,D = factor.L_D()\n",
    "P = factor.P()\n",
    "PT = coo_matrix((np.ones(P.size),(P,np.arange(P.size))),shape=D.shape)\n",
    "D = D.tocoo()\n",
    "Dh = coo_matrix((np.sqrt(D.data),(D.row,D.col)),shape=D.shape)\n",
    "L = PT*LL*Dh"
   ]
  },
  {
   "cell_type": "code",
   "execution_count": 21,
   "metadata": {
    "collapsed": false
   },
   "outputs": [],
   "source": [
    "from cvxpy import *\n",
    "import mosek\n",
    "import gurobi\n",
    "import pickle"
   ]
  },
  {
   "cell_type": "code",
   "execution_count": 22,
   "metadata": {
    "collapsed": true
   },
   "outputs": [],
   "source": [
    "# opt_res=pickle.load( open( \"deterministic_pwl.p\", \"rb\" ) )"
   ]
  },
  {
   "cell_type": "code",
   "execution_count": 23,
   "metadata": {
    "collapsed": true
   },
   "outputs": [],
   "source": [
    "PWL=True"
   ]
  },
  {
   "cell_type": "code",
   "execution_count": 24,
   "metadata": {
    "collapsed": false
   },
   "outputs": [
    {
     "data": {
      "image/png": "[encoded data removed]",
      "text/plain": [
       "<matplotlib.figure.Figure at 0x7f7fa2056ad0>"
      ]
     },
     "metadata": {},
     "output_type": "display_data"
    }
   ],
   "source": [
    "# PWL approximation\n",
    "pwl_cost=[]\n",
    "if PWL:\n",
    "    pwl_points=3\n",
    "    pwl_cost=np.zeros([num_p,pwl_points])\n",
    "    for gen_id in range(num_p):\n",
    "        xx=np.linspace(p_min[gen_id]*0,p_max[gen_id],pwl_points+1)\n",
    "        y=np.zeros(pwl_points+1)\n",
    "        for i in range(0,pwl_points+1):\n",
    "            y[i]=0.5*H0.diagonal()[gen_id]*xx[i]**2+g0[gen_id]*xx[i]\n",
    "            pwl_cost[gen_id][i-1]=((y[i]-y[i-1])/(xx[i]-xx[i-1]))\n",
    "        plt.plot(xx,y)\n",
    "\n",
    "    for gen_id in range(num_p):\n",
    "        for i in range(1,pwl_points):\n",
    "            assert pwl_cost[gen_id][i]>pwl_cost[gen_id][i-1]"
   ]
  },
  {
   "cell_type": "code",
   "execution_count": 25,
   "metadata": {
    "collapsed": false
   },
   "outputs": [],
   "source": [
    "norm_factor=24*num_p\n",
    "H0=H0/(norm_factor)\n",
    "g0=g0/(norm_factor)\n",
    "pwl_cost=pwl_cost/norm_factor\n",
    "on_off_cost=on_off_cost/norm_factor"
   ]
  },
  {
   "cell_type": "code",
   "execution_count": 26,
   "metadata": {
    "collapsed": false
   },
   "outputs": [],
   "source": [
    "load_data=np.genfromtxt('BPA_data/day6.csv',delimiter=',',names=True)\n",
    "r_test=np.flipud(load_data['wind'])*total_load*(penetration/100)/num_r"
   ]
  },
  {
   "cell_type": "code",
   "execution_count": 27,
   "metadata": {
    "collapsed": false
   },
   "outputs": [],
   "source": [
    "np.random.seed(seed=100)\n",
    "n_h=24\n",
    "p=Variable(num_p,n_h)\n",
    "w=Variable(num_w,n_h)\n",
    "# z=Variable(num_br,n_h)\n",
    "s=Variable(num_r,n_h)\n",
    "load=Variable(num_l,n_h)\n",
    "# on_off=Variable(num_p,n_h)\n",
    "\n",
    "on_off=Bool(num_p,n_h)\n",
    "Pforecast=total_load\n",
    "Load_Penalty=np.max(pwl_cost)*1e1\n",
    "# p_min = p_max*0.0\n",
    "rampup = ramp_up #p_max/(H0.diagonal()/np.max(H0))*0.04 \n",
    "rampdown=  ramp_down #p_max/(H0.diagonal()/np.max(H0))*0.04 \n",
    "\n",
    "if PWL:\n",
    "    gk=Variable(num_p*pwl_points,n_h)\n",
    "\n",
    "theta=Variable(1)\n",
    "on_off_value=np.zeros((num_p,n_h))\n",
    "\n",
    "ontime=np.zeros(num_p)-25\n",
    "on_off_init=np.zeros(num_p)"
   ]
  },
  {
   "cell_type": "code",
   "execution_count": 28,
   "metadata": {
    "collapsed": false
   },
   "outputs": [],
   "source": [
    "PWL=True"
   ]
  },
  {
   "cell_type": "code",
   "execution_count": 29,
   "metadata": {
    "collapsed": false
   },
   "outputs": [],
   "source": [
    "def eval_obj (on_off=on_off.value,p=p.value,on_off_init=on_off_init,PWL=PWL,\n",
    "              on_off_cost=on_off_cost,pwl_cost=pwl_cost,H0=H0,g0=g0,\n",
    "              load=load.value,b=b):\n",
    "    obj_eval=0\n",
    "    for i in range(1,n_h):\n",
    "        obj_eval = obj_eval + np.sum(on_off_cost*np.maximum(on_off[:,i] - on_off[:,i-1],0))\n",
    "    obj_eval = obj_eval + np.sum((on_off_cost)*np.maximum(on_off[:,0].T - on_off_init,0).T)\n",
    "\n",
    "#     for i in range (n_h):\n",
    "#         if PWL:\n",
    "#             for j in range(pwl_points):\n",
    "#                 for k in range(num_p):\n",
    "#                     obj_eval=obj_eval + gk[k+(num_p*j),i]*pwl_cost[k,j]\n",
    "#         else:\n",
    "#             obj_eval=obj_eval + 0.5*p[:,i].T*H0*p[:,i]\n",
    "#             obj_eval=obj_eval + g0*p[:,i]# check \n",
    "\n",
    "#         obj_eval=obj_eval + Load_Penalty*np.linalg.norm(load[:,i]-b[:,i],1)\n",
    "        \n",
    "    return obj_eval\n",
    "\n",
    "def max_bend(lam,lmax=1e6):\n",
    "    return np.maximum(np.minimum(lam,lmax),0.)"
   ]
  },
  {
   "cell_type": "code",
   "execution_count": 30,
   "metadata": {
    "collapsed": false,
    "scrolled": true
   },
   "outputs": [
    {
     "data": {
      "image/png": "[encoded data removed]",
      "text/plain": [
       "<matplotlib.figure.Figure at 0x7f7fa3507f90>"
      ]
     },
     "metadata": {},
     "output_type": "display_data"
    }
   ],
   "source": [
    "mult=2.5\n",
    "n_samples=50\n",
    "scenarios=np.zeros([n_samples,n_h])\n",
    "scenarios_bus=np.zeros([num_r,n_h,n_samples])\n",
    "for j in range(n_samples):\n",
    "    b=[]\n",
    "    b=np.zeros([num_l,n_h])\n",
    "    r=[]\n",
    "    r=np.zeros([num_r,n_h])\n",
    "    for i in range (n_h):\n",
    "        b[:,i]=mult*np.abs(ll)*load_data['load'][i]#/load_data['load'][0]\n",
    "        r[:,i]=0.*mult*np.minimum(np.maximum(r_test[i]*np.ones(num_r)\n",
    "                                     +L*np.random.randn(num_r)*np.sqrt(r_test[i])*np.sqrt((i*1.+1)/(n_h)),1e-3),r_max)\n",
    "    scenarios_bus[:,:,j]=r\n",
    "    scenarios[j,:]=sum(r)\n",
    "    plt.plot(sum(r)/total_load,color='gray')\n",
    "\n",
    "plt.plot(np.mean(scenarios,0)/total_load,color='r',linewidth=3.0)\n",
    "plt.plot(r_test*num_r/total_load,color='k',linewidth=3.0)\n",
    "plt.show()"
   ]
  },
  {
   "cell_type": "code",
   "execution_count": 31,
   "metadata": {
    "collapsed": false
   },
   "outputs": [],
   "source": [
    "# plt.plot(np.sum(np.mean(scenarios_bus,2),0))\n",
    "# plt.plot(np.sum(r,0))\n",
    "# plt.show()\n",
    "r=np.mean(scenarios_bus,2)"
   ]
  },
  {
   "cell_type": "code",
   "execution_count": 32,
   "metadata": {
    "collapsed": false
   },
   "outputs": [],
   "source": [
    "# ((rampup/p_max)/60)*100"
   ]
  },
  {
   "cell_type": "code",
   "execution_count": 33,
   "metadata": {
    "collapsed": false
   },
   "outputs": [],
   "source": [
    "def sensitivity(on_off_value,Constraints,Objective,Q_eval,n_h=n_h,p_max=p_max,p_min=p_min):\n",
    "    delta_u=[]\n",
    "    u_plus_delta_u=[]\n",
    "    \n",
    "    Constraints=list(Constraints)\n",
    "    for i in range(n_h):\n",
    "        delta_u.append(np.matrix(np.random.randn(num_p)).T)\n",
    "        u_plus_delta_u.append(np.minimum(np.maximum(on_off_value[:,i]+delta_u[-1]/20,0),5))\n",
    "        delta_u[-1]=- on_off_value[:,i] + u_plus_delta_u[-1]\n",
    "        \n",
    "#     zeta_du=np.sum([np.dot((Constraints[i].dual_value).T,delta_u[i])\n",
    "#             +np.dot((Constraints[i+n_h].dual_value).T,delta_u[i])\n",
    "#             for i in range(n_h) ])\n",
    "    \n",
    "    zeta_du=np.sum([-(np.diag(p_max)*Constraints[i].dual_value).T*(delta_u[i]) \n",
    "                    +(np.diag(p_min)*Constraints[i+n_h].dual_value).T*(delta_u[i])\n",
    "                    for i in range(n_h) ])\n",
    "\n",
    "    \n",
    "    for i in range (n_h):\n",
    "        Constraints[i]=(p[:,i]<=mul_elemwise(p_max[:],u_plus_delta_u[i]))\n",
    "    for i in range (n_h):\n",
    "        Constraints[i+n_h]=(p[:,i]>=mul_elemwise(p_min[:],u_plus_delta_u[i]))\n",
    "        \n",
    "    prob = []\n",
    "    prob = Problem(Minimize(Objective), Constraints)\n",
    "    Q_deltau=prob.solve(solver=GUROBI)\n",
    "    \n",
    "    return Q_deltau >= Q_eval + zeta_du\n",
    "\n"
   ]
  },
  {
   "cell_type": "code",
   "execution_count": 34,
   "metadata": {
    "collapsed": false
   },
   "outputs": [],
   "source": [
    "# sensitivity(on_off_value=on_off_value,Constraints=Constraints,Objective=Objective,Q_eval=Q_eval) "
   ]
  },
  {
   "cell_type": "code",
   "execution_count": 35,
   "metadata": {
    "collapsed": false
   },
   "outputs": [],
   "source": [
    "#Benders\n",
    "Q=[]\n",
    "Qd=[]\n",
    "T=[]\n",
    "T.append(-1e9)\n",
    "cost=[]\n",
    "upper=[]\n",
    "lower=[]\n",
    "o1=[]\n",
    "o2=[]\n",
    "lower.append(-1e9)\n",
    "tr_reg=1\n",
    "\n",
    "# init constraints first stage\n",
    "Constraints_FS=[]\n",
    "\n",
    "# for i in range(n_h):\n",
    "#     Constraints_FS.append(sum(abs(on_off[:,i]-on_off_value[:,i]))<=tr_reg)\n",
    "\n",
    "for j in range (num_p):\n",
    "    if on_off_init[j]==1:\n",
    "        indi= 1\n",
    "        rang= range(0,min(n_h,int(min_up[j]-ontime[j]-1)))\n",
    "        if rang != []:\n",
    "            Constraints_FS.append(on_off[j,rang]>=indi)\n",
    "    else:\n",
    "        indi= 1\n",
    "        rang= range(0,min(n_h,int(min_down[j]+ontime[j]-1)))\n",
    "        if rang != []:\n",
    "            Constraints_FS.append(on_off[j,rang]<=1-indi)\n",
    "    \n",
    "for i in range(1,n_h):\n",
    "    for j in range (num_p):\n",
    "        indi=(on_off[j,i] - on_off[j,i-1])\n",
    "        rang= range(i,min(n_h,int(i+min_up[j]-1)))\n",
    "#         affected=on_off[j,rang]\n",
    "#         print type(affected)\n",
    "        Constraints_FS.append(on_off[j,rang]>=indi)\n",
    "        \n",
    "for i in range(1,n_h):\n",
    "    for j in range (num_p):\n",
    "        indi=(on_off[j,i-1]-on_off[j,i] )\n",
    "        rang= range(i,min(n_h,int(i+min_down[j]-1)))\n",
    "        if rang != []:\n",
    "            Constraints_FS.append(on_off[j,rang]<=1-indi)\n",
    "            \n",
    "# for i in range(n_h):\n",
    "#     Constraints_FS.append(on_off[:,i]<=1)\n",
    "#     Constraints_FS.append(on_off[:,i]>=0)\n",
    "\n",
    "#init objective first stage\n",
    "Objective_FS=0\n",
    "\n",
    "for i in range(1,n_h):\n",
    "    Objective_FS=Objective_FS + sum(mul_elemwise(on_off_cost[:],max_elemwise(on_off[:,i] - on_off[:,i-1],0)))\n",
    "\n",
    "Objective_FS=Objective_FS + sum(mul_elemwise(on_off_cost[:],max_elemwise(on_off[:,0] - on_off_init,0)))\n",
    "Objective_FS=Objective_FS+theta  \n",
    "Objective_FS=Objective_FS\n",
    "\n",
    "# init constraints second stage\n",
    "\n",
    "Constraints=[]\n",
    "for i in range (n_h):\n",
    "    Constraints.append(p[:,i]<=mul_elemwise(p_max[:],on_off_value[:,i]))\n",
    "for i in range (n_h):\n",
    "    Constraints.append(p[:,i]>=mul_elemwise(p_min[:],on_off_value[:,i]))\n",
    "\n",
    "for i in range (n_h):\n",
    "    if PWL:\n",
    "        for j in range (pwl_points):\n",
    "            Constraints.append(gk[num_p*j:num_p*(j+1),i]<=p_max/(pwl_points))\n",
    "            Constraints.append(gk[num_p*j:num_p*(j+1),i]>=0)\n",
    "    \n",
    "        Constraints.append( p[:,i]== np.sum ([gk[num_p*j:num_p*(j+1),i] for j in range(pwl_points)]) )\n",
    "       \n",
    "    Constraints.append(G*p[:,i]+R*s[:,i]-A*w[:,i]==Dm*load[:,i])\n",
    "    Constraints.append(w[:,i]<=w_max)\n",
    "    Constraints.append(w[:,i]>=w_min)\n",
    "    Constraints.append(J*w[:,i]<=z_max)\n",
    "    Constraints.append(J*w[:,i]>=z_min)\n",
    "    Constraints.append(s[:,i]<=r[:,i])\n",
    "    Constraints.append(s[:,i]>=0)\n",
    "    Constraints.append(load[:,i]>=0)\n",
    "    Constraints.append(load[:,i]<=b[:,i])\n",
    "for i in range(1,n_h):\n",
    "    Constraints.append(p[:,i]-p[:,i-1]<=rampup[:])\n",
    "    Constraints.append(p[:,i]-p[:,i-1]>=-rampdown[:])   \n",
    "    \n",
    "\n",
    "# init objective secon stage\n",
    "\n",
    "Objective=0\n",
    "for i in range (n_h):\n",
    "    if PWL:\n",
    "        for j in range(pwl_points):\n",
    "            for k in range(num_p):\n",
    "                Objective=Objective + gk[k+(num_p*j),i]*pwl_cost[k,j]\n",
    "    else:\n",
    "        Objective=Objective + quad_form(p[:,i],H0*0.5)\n",
    "        Objective=Objective + g0*p[:,i]# check \n",
    "        \n",
    "    Objective=Objective + Load_Penalty*norm(load[:,i]-b[:,i],1)\n",
    "Objective=Objective#/10"
   ]
  },
  {
   "cell_type": "code",
   "execution_count": 36,
   "metadata": {
    "collapsed": false
   },
   "outputs": [],
   "source": [
    "# np.all([sensitivity(on_off_value=on_off_value,Constraints=Constraints,Objective=Objective,Q_eval=Q_eval) for i in range(10)])"
   ]
  },
  {
   "cell_type": "code",
   "execution_count": 37,
   "metadata": {
    "collapsed": false,
    "scrolled": false
   },
   "outputs": [
    {
     "name": "stdout",
     "output_type": "stream",
     "text": [
      "| k \t| upper \t\t| lower \t\t| 1.Tu\n",
      "Problem\n",
      "  Name                   :                 \n",
      "  Objective sense        : min             \n",
      "  Type                   : LO (linear optimization problem)\n",
      "  Constraints            : 4526            \n",
      "  Cones                  : 0               \n",
      "  Scalar variables       : 1440            \n",
      "  Matrix variables       : 0               \n",
      "  Integer variables      : 0               \n",
      "\n",
      "Optimizer started.\n",
      "Interior-point optimizer started.\n",
      "Presolve started.\n",
      "Linear dependency checker started.\n",
      "Linear dependency checker terminated.\n",
      "Eliminator started.\n",
      "Freed constraints in eliminator : 144\n",
      "Eliminator terminated.\n",
      "Eliminator started.\n",
      "Freed constraints in eliminator : 96\n",
      "Eliminator terminated.\n",
      "Eliminator - tries                  : 2                 time                   : 0.00            \n",
      "Lin. dep.  - tries                  : 1                 time                   : 0.00            \n",
      "Lin. dep.  - number                 : 0               \n",
      "Presolve terminated. Time: 0.05    \n",
      "Optimizer  - threads                : 4               \n",
      "Optimizer  - solved problem         : the dual        \n",
      "Optimizer  - Constraints            : 504\n",
      "Optimizer  - Cones                  : 0\n",
      "Optimizer  - Scalar variables       : 1633              conic                  : 0               \n",
      "Optimizer  - Semi-definite variables: 0                 scalarized             : 0               \n",
      "Factor     - setup time             : 0.00              dense det. time        : 0.00            \n",
      "Factor     - ML order time          : 0.00              GP order time          : 0.00            \n",
      "Factor     - nonzeros before factor : 2905              after factor           : 2953            \n",
      "Factor     - dense dim.             : 1                 flops                  : 4.92e+04        \n",
      "ITE PFEAS    DFEAS    GFEAS    PRSTATUS   POBJ              DOBJ              MU       TIME  \n",
      "0   1.3e+01  6.4e+02  1.1e+03  1.00e+00   8.301729233e+04   6.906959777e+04   1.0e+00  0.06  \n",
      "1   1.3e+01  6.4e+02  8.1e+00  0.00e+00   6.365285126e+03   6.275613503e+03   3.7e+00  0.07  \n",
      "2   4.6e+00  2.3e+02  2.9e+00  -9.93e-01  -1.216089237e+05  -1.216757454e+05  1.3e+00  0.07  \n",
      "3   3.9e+00  2.0e+02  2.5e+00  -3.75e-01  4.990275124e+04   4.983477022e+04   1.1e+00  0.08  \n",
      "4   2.6e-01  1.3e+01  1.6e-01  -2.24e-01  6.438795937e+04   6.437838031e+04   7.4e-02  0.08  \n",
      "5   2.1e-02  1.1e+00  1.4e-02  1.05e+00   8.151360600e+04   8.151283550e+04   6.2e-03  0.08  \n",
      "6   1.9e-03  9.6e-02  1.2e-03  1.20e+00   8.289704697e+04   8.289698637e+04   5.5e-04  0.08  \n",
      "7   2.4e-05  1.2e-03  1.5e-05  1.05e+00   8.301579018e+04   8.301578952e+04   7.0e-06  0.08  \n",
      "8   1.2e-07  6.3e-06  9.8e-08  1.00e+00   8.301728458e+04   8.301728458e+04   3.6e-08  0.08  \n",
      "Basis identification started.\n",
      "Primal basis identification phase started.\n",
      "ITER      TIME\n",
      "24        0.00    \n",
      "Primal basis identification phase terminated. Time: 0.00\n",
      "Dual basis identification phase started.\n",
      "ITER      TIME\n",
      "0         0.00    \n",
      "Dual basis identification phase terminated. Time: 0.00\n",
      "Basis identification terminated. Time: 0.01\n",
      "Interior-point optimizer terminated. Time: 0.09. \n",
      "\n",
      "Optimizer terminated. Time: 0.13    \n",
      "\n",
      "Interior-point solution summary\n",
      "  Problem status  : PRIMAL_AND_DUAL_FEASIBLE\n",
      "  Solution status : OPTIMAL\n",
      "  Primal.  obj: 8.3017284584e+04    nrm: 2e+00    Viol.  con: 6e-06    var: 0e+00  \n",
      "  Dual.    obj: 8.3017284576e+04    nrm: 7e+02    Viol.  con: 2e-09    var: 2e-05  \n",
      "\n",
      "Basic solution summary\n",
      "  Problem status  : PRIMAL_AND_DUAL_FEASIBLE\n",
      "  Solution status : OPTIMAL\n",
      "  Primal.  obj: 8.3017292334e+04    nrm: 2e+00    Viol.  con: 6e-14    var: 0e+00  \n",
      "  Dual.    obj: 8.3017292334e+04    nrm: 6e+02    Viol.  con: 4e-13    var: 6e-12  \n",
      "| 0 \t| 8.302e+04 \t\t| -1.000e+09 \t\t| 0 \t\t| 0\n"
     ]
    }
   ],
   "source": [
    "on_off_value=np.matrix(np.zeros((num_p,n_h)))\n",
    "stop=0\n",
    "gap=1e-1\n",
    "mosek_params = {\n",
    "#                  mosek.dparam.basis_tol_x: 1e-8,\n",
    "                 mosek.dparam.intpnt_co_tol_dfeas:1,\n",
    "                 mosek.iparam.intpnt_max_iterations: 30,\n",
    "                 \"MSK_IPAR_OPTIMIZER\": 2.3\n",
    "             }\n",
    "# mosek_params={}\n",
    "ini=0\n",
    "final=1\n",
    "eps=0#1e-2\n",
    "sens=0\n",
    "\n",
    "print \"| k\", \"\\t|\", \"upper\", \"\\t\\t|\",\"lower\", \"\\t\\t|\",\"1.Tu\"\n",
    "\n",
    "for k in range (ini,final):\n",
    "    if k != 0:\n",
    "        on_off_value=np.rint(on_off.value)#\n",
    "        eps=0\n",
    "    \n",
    "    for i in range (n_h):\n",
    "        Constraints[i]=(p[:,i]<=mul_elemwise(p_max[:],on_off_value[:,i]+eps)) #sensitivity\n",
    "    for i in range (n_h):\n",
    "        Constraints[i+n_h]=(p[:,i]>=mul_elemwise(p_min[:],on_off_value[:,i]))\n",
    "        \n",
    "    prob = []\n",
    "    prob = Problem(Minimize(Objective), Constraints)\n",
    "    Q_eval=prob.solve(solver= MOSEK, #verbose=True,\n",
    "#                       BarQCPConvTol=1e-8,\n",
    "#                       BarIterLimit=10000\n",
    "                     )\n",
    "    Qd.append(np.sum([np.dot((np.diag(p_max)*Constraints[i].dual_value).T,on_off_value[:,i])\n",
    "                    -np.dot((np.diag(p_min)*Constraints[i+n_h].dual_value).T,on_off_value[:,i])\n",
    "                    for i in range(n_h) ]))\n",
    "    Q.append(Q_eval)\n",
    "    \n",
    "#     for i in range (2*n_h):\n",
    "#         for j in range (num_p):\n",
    "#             if Constraints[i].dual_value[j] <=1:\n",
    "#                 Constraints[i].dual_value[j]=0\n",
    "    \n",
    "#     sens=np.all([sensitivity(on_off_value=on_off_value,Constraints=Constraints,Objective=Objective,Q_eval=Q_eval) \n",
    "#                  for i in range(20)])\n",
    "    \n",
    "    cost.append(eval_obj(on_off=on_off_value)+Q_eval)\n",
    "    upper.append(int(np.sum(on_off_value)))\n",
    "    print \"|\",k,\"\\t|\", \"%.3e\" % cost[-1],\"\\t\\t|\", \"%.3e\" % lower[-1],\"\\t\\t|\",int(np.sum(on_off_value)),\"\\t\\t|\",sens\n",
    "   \n",
    "\n",
    "    if  stop==1 or cost[-1]<=lower[-1]+1:\n",
    "        print \"stop\"\n",
    "        break\n",
    "    \n",
    "                \n",
    "    if k ==-1:\n",
    "        uu=magnanti_cut(Q_eval=Q_eval,p=p,on_off_value=on_off_value)\n",
    "\n",
    "        benders_cut=sum([-(np.diag(p_max)*uu[:,i].value).T*(on_off[:,i]-on_off_value[:,i]) \n",
    "                        +(np.diag(p_min)*uu[:,i+n_h].value).T*(on_off[:,i]-on_off_value[:,i])\n",
    "                        for i in range(n_h)])\n",
    "    else:\n",
    "        benders_cut=sum([-(np.diag(p_max)*Constraints[i].dual_value).T*(on_off[:,i]-on_off_value[:,i]) \n",
    "                        +(np.diag(p_min)*Constraints[i+n_h].dual_value).T*(on_off[:,i]-on_off_value[:,i])\n",
    "                        for i in range(n_h) ])\n",
    "    \n",
    "    alpha=1.#*(10./(k+1))\n",
    "\n",
    "#     for i in range (n_h):\n",
    "#         Constraints_FS[i]=(sum(abs(on_off[:,i]-on_off_value[:,i]))<=tr_reg)\n",
    "    \n",
    "    Constraints_FS.append(theta>=Q_eval+alpha*benders_cut)\n",
    "    \n",
    "    prob_FS = []\n",
    "    prob_FS = Problem(Minimize(Objective_FS), Constraints_FS)\n",
    "    F_eval=prob_FS.solve(solver=GUROBI,MIPGap=gap)\n",
    "    lower.append(F_eval)\n",
    "    T.append(theta.value)\n",
    "    \n",
    "#     plot=plot_bars(on_off=on_off.value)\n",
    "#     plot.clear()\n",
    "    \n",
    "    if k==final-2:\n",
    "        stop=1\n",
    "    \n"
   ]
  },
  {
   "cell_type": "code",
   "execution_count": 518,
   "metadata": {
    "collapsed": true
   },
   "outputs": [],
   "source": [
    "# cc=list(Constraints)\n",
    "# p_value=p.value\n",
    "# oon=on_off.value\n",
    "# gk_value=gk.value"
   ]
  },
  {
   "cell_type": "code",
   "execution_count": 99,
   "metadata": {
    "collapsed": false
   },
   "outputs": [],
   "source": [
    "# np.linalg.norm(gk_value-gk.value)"
   ]
  },
  {
   "cell_type": "code",
   "execution_count": 106,
   "metadata": {
    "collapsed": false
   },
   "outputs": [],
   "source": [
    "# p_max"
   ]
  },
  {
   "cell_type": "code",
   "execution_count": 436,
   "metadata": {
    "collapsed": false
   },
   "outputs": [
    {
     "data": {
      "text/plain": [
       "array([  1.61928002e-01,   3.31175216e-01,   3.33866116e-01,\n",
       "         1.40704539e-08,   2.29059998e-07])"
      ]
     },
     "execution_count": 436,
     "metadata": {},
     "output_type": "execute_result"
    }
   ],
   "source": [
    "np.linalg.norm(p_value-p.value,np.inf,axis=1)"
   ]
  },
  {
   "cell_type": "code",
   "execution_count": 437,
   "metadata": {
    "collapsed": false
   },
   "outputs": [
    {
     "data": {
      "text/plain": [
       "array([ 0.,  0.,  0.,  0.,  0.])"
      ]
     },
     "execution_count": 437,
     "metadata": {},
     "output_type": "execute_result"
    }
   ],
   "source": [
    "np.linalg.norm(oon-on_off.value,1,axis=1)"
   ]
  },
  {
   "cell_type": "code",
   "execution_count": 215,
   "metadata": {
    "collapsed": false
   },
   "outputs": [],
   "source": [
    "# p_value-p.value"
   ]
  },
  {
   "cell_type": "code",
   "execution_count": 438,
   "metadata": {
    "collapsed": false
   },
   "outputs": [
    {
     "name": "stdout",
     "output_type": "stream",
     "text": [
      "1942.49024967\n"
     ]
    }
   ],
   "source": [
    "oo=0\n",
    "for i in range(2*n_h):\n",
    "    oo=oo+np.linalg.norm(Constraints[i].dual_value-cc[i].dual_value,1)\n",
    "print oo"
   ]
  },
  {
   "cell_type": "code",
   "execution_count": 439,
   "metadata": {
    "collapsed": false
   },
   "outputs": [
    {
     "name": "stdout",
     "output_type": "stream",
     "text": [
      "189\n",
      "85\n"
     ]
    }
   ],
   "source": [
    "print np.sum([np.sum(Constraints[i].dual_value>0)for i in range(2*n_h)])\n",
    "print np.sum([np.sum(cc[i].dual_value>0)for i in range(2*n_h)])"
   ]
  },
  {
   "cell_type": "code",
   "execution_count": 264,
   "metadata": {
    "collapsed": true
   },
   "outputs": [],
   "source": [
    "for i in range (2*n_h):\n",
    "    for j in range (num_p):\n",
    "        if Constraints[i].dual_value[j] <=30:\n",
    "            Constraints[i].dual_value[j]=0"
   ]
  },
  {
   "cell_type": "code",
   "execution_count": 279,
   "metadata": {
    "collapsed": false,
    "scrolled": false
   },
   "outputs": [],
   "source": [
    "# for i in range(2*n_h):\n",
    "#     print Constraints[i].dual_value"
   ]
  },
  {
   "cell_type": "code",
   "execution_count": 167,
   "metadata": {
    "collapsed": false
   },
   "outputs": [],
   "source": [
    "# for i in range(n_h):\n",
    "# #     print np.dot((np.diag(p_max)*Constraints[i].dual_value).T,on_off_value[:,i])\n",
    "#     print Constraints[i+n_h].dual_value \n",
    "# #     print on_off_value[:,i]"
   ]
  },
  {
   "cell_type": "code",
   "execution_count": 154,
   "metadata": {
    "collapsed": false
   },
   "outputs": [],
   "source": [
    "# for i in range(n_h):\n",
    "#     print -np.dot((np.diag(p_min)*Constraints[i+n_h].dual_value).T,on_off_value[:,i])"
   ]
  },
  {
   "cell_type": "code",
   "execution_count": 155,
   "metadata": {
    "collapsed": false
   },
   "outputs": [],
   "source": [
    "# for i in range(n_h):\n",
    "#     print -np.dot((np.diag(p_min)*Constraints[i+n_h].dual_value).T,on_off_value[:,i])"
   ]
  },
  {
   "cell_type": "code",
   "execution_count": 45,
   "metadata": {
    "collapsed": false
   },
   "outputs": [
    {
     "data": {
      "text/plain": [
       "[<matplotlib.lines.Line2D at 0x7f8f797a5dd0>]"
      ]
     },
     "execution_count": 45,
     "metadata": {},
     "output_type": "execute_result"
    },
    {
     "data": {
      "image/png": "[encoded data removed]",
      "text/plain": [
       "<matplotlib.figure.Figure at 0x7f8f810630d0>"
      ]
     },
     "metadata": {},
     "output_type": "display_data"
    }
   ],
   "source": [
    "plt.plot(Qd[0::])"
   ]
  },
  {
   "cell_type": "code",
   "execution_count": 165,
   "metadata": {
    "collapsed": false
   },
   "outputs": [],
   "source": [
    "# np.where(Constraints[0].dual_value!=0)[0]"
   ]
  },
  {
   "cell_type": "code",
   "execution_count": 166,
   "metadata": {
    "collapsed": false
   },
   "outputs": [],
   "source": [
    "# Constraints[0].dual_value"
   ]
  },
  {
   "cell_type": "code",
   "execution_count": 68,
   "metadata": {
    "collapsed": false
   },
   "outputs": [
    {
     "data": {
      "image/png": "[encoded data removed]",
      "text/plain": [
       "<matplotlib.figure.Figure at 0x7f8f7b2f9090>"
      ]
     },
     "metadata": {},
     "output_type": "display_data"
    },
    {
     "name": "stdout",
     "output_type": "stream",
     "text": [
      "1.64699226441e-14\n"
     ]
    }
   ],
   "source": [
    "plt.plot(((np.array(cost)-np.array(lower))/np.abs(lower))*100)\n",
    "plt.show()\n",
    "print np.min((((np.array(cost)-np.array(lower))/np.abs(lower))*100))"
   ]
  },
  {
   "cell_type": "code",
   "execution_count": 62,
   "metadata": {
    "collapsed": false
   },
   "outputs": [
    {
     "data": {
      "image/png": "[encoded data removed]",
      "text/plain": [
       "<matplotlib.figure.Figure at 0x7f8f7c497950>"
      ]
     },
     "metadata": {},
     "output_type": "display_data"
    }
   ],
   "source": [
    "#2.329e+05\n",
    "optimal=3.279e+05/norm_factor#3.279e+05\n",
    "plt.plot(((np.array(cost[1::])-optimal)/np.abs(optimal))*100)\n",
    "plt.show()"
   ]
  },
  {
   "cell_type": "code",
   "execution_count": 49,
   "metadata": {
    "collapsed": false
   },
   "outputs": [],
   "source": [
    "# ((np.array(np.min(cost[3::]))-optimal)/np.abs(optimal))*100"
   ]
  },
  {
   "cell_type": "code",
   "execution_count": 502,
   "metadata": {
    "collapsed": false
   },
   "outputs": [],
   "source": [
    "# ii=40\n",
    "# x=range(ii,len(cost[:]))\n",
    "# y=(((np.array(cost[ii:])-np.array(lower[ii:]))/np.abs(lower[ii:]))*100)\n",
    "# z = np.polyfit(x, y, 1)\n"
   ]
  },
  {
   "cell_type": "code",
   "execution_count": 503,
   "metadata": {
    "collapsed": false
   },
   "outputs": [],
   "source": [
    "# -z[1]/z[0]"
   ]
  },
  {
   "cell_type": "code",
   "execution_count": 504,
   "metadata": {
    "collapsed": false
   },
   "outputs": [],
   "source": [
    "# plt.plot(upper)"
   ]
  },
  {
   "cell_type": "code",
   "execution_count": 73,
   "metadata": {
    "collapsed": false
   },
   "outputs": [],
   "source": [
    "# result={}\n",
    "# result['upper']=cost\n",
    "# result['lower']=lower\n",
    "# result['1Tu']=upper\n",
    "# result['optimal']=optimal/norm_factor\n",
    "# result['p']=p\n",
    "# result['on_off']=on_off\n",
    "# result['load']=load"
   ]
  },
  {
   "cell_type": "code",
   "execution_count": 74,
   "metadata": {
    "collapsed": true
   },
   "outputs": [],
   "source": [
    "# pickle.dump( result, open( \"pickle/deterministic_benders_ieee14_no_renewable_25_mosek_converge_final.p\", \"wb\" ) )"
   ]
  },
  {
   "cell_type": "code",
   "execution_count": 52,
   "metadata": {
    "collapsed": false
   },
   "outputs": [],
   "source": [
    "# (((np.array(cost[-1])-np.array(lower[-1]))/np.abs(lower[-1]))*100)"
   ]
  },
  {
   "cell_type": "code",
   "execution_count": 39,
   "metadata": {
    "collapsed": false
   },
   "outputs": [],
   "source": [
    "# print \"%.3e\" %np.min(cost)"
   ]
  },
  {
   "cell_type": "code",
   "execution_count": 62,
   "metadata": {
    "collapsed": false
   },
   "outputs": [],
   "source": [
    "# on_off.value"
   ]
  },
  {
   "cell_type": "code",
   "execution_count": 63,
   "metadata": {
    "collapsed": false
   },
   "outputs": [
    {
     "data": {
      "image/png": "[encoded data removed]",
      "text/plain": [
       "<matplotlib.figure.Figure at 0x7f8f7b31f690>"
      ]
     },
     "metadata": {},
     "output_type": "display_data"
    }
   ],
   "source": [
    "plt.plot(cost[0::])\n",
    "plt.plot(lower[0::])\n",
    "plt.plot(range(len(cost)),np.ones(len(cost))*(optimal))\n",
    "plt.ylim(1e3,5e3)\n",
    "plt.show()"
   ]
  },
  {
   "cell_type": "code",
   "execution_count": 95,
   "metadata": {
    "collapsed": false
   },
   "outputs": [],
   "source": [
    "# lwidth=1.5\n",
    "# plt.figure(figsize=(5,5))\n",
    "# plt.plot(np.array(cost[0::])/optimal,linewidth=lwidth)\n",
    "# plt.plot(np.array(lower[0::])/optimal,linewidth=lwidth)\n",
    "# plt.plot(range(len(cost)),np.ones(len(cost)),linewidth=lwidth)\n",
    "# plt.ylim(0.5,1.5)\n",
    "# plt.xlabel('Iterations')\n",
    "# plt.ylabel('Normalized cost')\n",
    "# plt.legend(['Upper bound','Lower bound','Optimal'],loc='best')\n",
    "# plt.savefig('./images/benders_convergence'+'.pdf',dpi=300)\n",
    "# plt.show()"
   ]
  },
  {
   "cell_type": "code",
   "execution_count": 64,
   "metadata": {
    "collapsed": false
   },
   "outputs": [
    {
     "name": "stdout",
     "output_type": "stream",
     "text": [
      "[94]\n"
     ]
    }
   ],
   "source": [
    "print np.where(cost==np.min(cost))[0]\n",
    "# print np.where(np.array(cost)<=1.617e+05+1e1)[0]"
   ]
  },
  {
   "cell_type": "code",
   "execution_count": 65,
   "metadata": {
    "collapsed": false
   },
   "outputs": [
    {
     "name": "stdout",
     "output_type": "stream",
     "text": [
      "2739.5103672\n",
      "2732.5\n"
     ]
    }
   ],
   "source": [
    "print np.min(cost)\n",
    "print optimal"
   ]
  },
  {
   "cell_type": "code",
   "execution_count": 81,
   "metadata": {
    "collapsed": false
   },
   "outputs": [
    {
     "data": {
      "image/png": "[encoded data removed]",
      "text/plain": [
       "<matplotlib.figure.Figure at 0x7fd05a68f8d0>"
      ]
     },
     "metadata": {},
     "output_type": "display_data"
    }
   ],
   "source": [
    "plt.plot(cost[2::])\n",
    "plt.show()"
   ]
  },
  {
   "cell_type": "code",
   "execution_count": 36,
   "metadata": {
    "collapsed": false
   },
   "outputs": [],
   "source": [
    "# eval_obj(on_off=opt_res['on_off'],p=opt_res['p'],PWL=False).tolist()"
   ]
  },
  {
   "cell_type": "code",
   "execution_count": 69,
   "metadata": {
    "collapsed": false,
    "scrolled": false
   },
   "outputs": [
    {
     "data": {
      "image/png": "[encoded data removed]",
      "text/plain": [
       "<matplotlib.figure.Figure at 0x7f8f79a77350>"
      ]
     },
     "metadata": {},
     "output_type": "display_data"
    }
   ],
   "source": [
    "colors=['#d7191c','#fdae61','#abdda4','#2b83ba'] #['#ef8a62','#f7f7f7','#67a9cf','#008837']\n",
    "plt.figure(figsize=(10,10))\n",
    "plt.fill_between(range(n_h),np.zeros(n_h),np.squeeze(np.asarray(sum(p.value))),color=colors[3])\n",
    "plt.fill_between(range(n_h),np.squeeze(np.asarray(sum(p.value))),\n",
    "                 np.squeeze(np.asarray(sum(p.value)+sum(s.value))),\n",
    "                 color=colors[1])\n",
    "\n",
    "plt.fill_between(range(n_h),np.squeeze(np.asarray(sum(b))),\n",
    "                 np.squeeze(np.asarray(sum(load.value))),\n",
    "                 color=colors[0])\n",
    "plt.plot(range(n_h),np.squeeze(np.asarray(sum(b))),color='k',linewidth=3.0)\n",
    "plt.fill_between(range(n_h),np.zeros(n_h),-np.squeeze(np.asarray(-sum(s.value)+sum(r))),color=colors[2])\n",
    "plt.legend(['Demand','Generation','Renewable','Demand not served','Curtailed Renewable '],loc='best')\n",
    "plt.show()"
   ]
  },
  {
   "cell_type": "code",
   "execution_count": 70,
   "metadata": {
    "collapsed": false,
    "scrolled": false
   },
   "outputs": [
    {
     "name": "stdout",
     "output_type": "stream",
     "text": [
      "[('Nuclear', 79.299956192474667), ('IGCC', 17.12289231802761), ('CCGT', 32.559352760644899), ('OCGT', 0.0), ('Coal', 0.0)]\n"
     ]
    },
    {
     "data": {
      "image/png": "[encoded data removed]",
      "text/plain": [
       "<matplotlib.figure.Figure at 0x7f8f7ab44b90>"
      ]
     },
     "metadata": {},
     "output_type": "display_data"
    }
   ],
   "source": [
    "total_p_gen=np.sum(p.value,1)\n",
    "total_share=[]\n",
    "\n",
    "for name in name_techno:\n",
    "    total_share.append((name,np.sum([ total_p_gen[i] for i in range(num_p) if gen_tech[i]==name  ])))\n",
    "print total_share\n",
    "# sorted_name_techno=[x[0] for x in sorted(total_share,key =lambda x: x[1],reverse=True)]\n",
    "sorted_name_techno=['Nuclear','IGCC','Coal','CCGT','OCGT']\n",
    "colors=['#1b9e77','#d95f02','#7570b3','#e7298a','#66a61e']#list((['#f0f9e8','#bae4bc','#7bccc4','#43a2ca','#0868ac']))\n",
    "share_per_hour=np.zeros([len(name_techno)+1,n_h])\n",
    "plt.figure(figsize=(10,10))\n",
    "for idx,name in enumerate(sorted_name_techno):\n",
    "    share_per_hour[idx+1]=np.sum([ np.squeeze(np.asarray(p.value[i])) for i in range(num_p) if gen_tech[i]==name ],0)\n",
    "share_per_hour=np.cumsum(share_per_hour,0)\n",
    "for idx,name in enumerate(sorted_name_techno):\n",
    "    plt.fill_between(range(n_h),share_per_hour[idx],share_per_hour[idx+1],color=colors[idx])\n",
    "plt.legend(sorted_name_techno,loc='best')\n",
    "plt.show()"
   ]
  },
  {
   "cell_type": "code",
   "execution_count": 55,
   "metadata": {
    "collapsed": false
   },
   "outputs": [],
   "source": [
    "# (on_off.value)"
   ]
  },
  {
   "cell_type": "code",
   "execution_count": 56,
   "metadata": {
    "collapsed": true
   },
   "outputs": [],
   "source": [
    "# for i in range (n_h):\n",
    "#     Constraints[i]=(p[:,i]<=mul_elemwise(p_max[:],on_off_value[:,i]))\n",
    "# for i in range (n_h):\n",
    "#     Constraints[i+n_h]=(p[:,i]>=mul_elemwise(p_min[:],on_off_value[:,i]))\n",
    "\n",
    "# prob = []\n",
    "# prob = Problem(Minimize(Objective), Constraints)\n",
    "# Q_eval=prob.solve(solver=GUROBI, #verbose=True,\n",
    "# #                       BarQCPConvTol=1e-8,\n",
    "# #                       BarIterLimit=10000\n",
    "#                  )"
   ]
  },
  {
   "cell_type": "code",
   "execution_count": 57,
   "metadata": {
    "collapsed": false
   },
   "outputs": [],
   "source": [
    "# eval_obj(on_off=on_off_value)+Q_eval"
   ]
  },
  {
   "cell_type": "code",
   "execution_count": 71,
   "metadata": {
    "collapsed": false,
    "scrolled": false
   },
   "outputs": [
    {
     "data": {
      "image/png": "[encoded data removed]",
      "text/plain": [
       "<matplotlib.figure.Figure at 0x7f8f7aed0fd0>"
      ]
     },
     "metadata": {},
     "output_type": "display_data"
    }
   ],
   "source": [
    "\n",
    "N = n_h\n",
    "ind = np.arange(N)  # the x locations for the groups\n",
    "width = 1\n",
    "aux=[]\n",
    "aux.append(np.zeros(N).T)\n",
    "cumsum_aux=np.zeros(N)\n",
    "fig, ax = plt.subplots(figsize=(10,10))\n",
    "# rects = ax.bar(ind, strategy1_optMean, width, color=color[0])\n",
    "for idx,name in enumerate(sorted_name_techno):\n",
    "#     print name\n",
    "    aux.append(np.array([np.sum(np.ceil(on_off.value[j,i]) for j in range (num_p) if gen_tech[j]==name) for i in range(n_h)]))\n",
    "    cumsum_aux=np.cumsum(aux,0)\n",
    "#     print aux[-1]\n",
    "    rects = ax.bar(ind, aux[idx+1], width, color=colors[idx],bottom=cumsum_aux[idx])\n",
    "plt.legend(sorted_name_techno,loc='best')  \n",
    "plt.show()\n"
   ]
  },
  {
   "cell_type": "code",
   "execution_count": 263,
   "metadata": {
    "collapsed": false
   },
   "outputs": [],
   "source": [
    "def magnanti_cut(Q_eval,p,on_off_value,p_max=p_max,p_min=p_min,n_h=n_h):\n",
    "    p_value=p.value\n",
    "    dual_u=Variable(num_p,2*n_h)\n",
    "    Cons_dual=[]\n",
    "    Cons_dual.append(np.sum([dual_u[:,i].T*((np.diag(p_max)*on_off_value[:,i])) \n",
    "                        +dual_u[:,i+n_h].T*(-(np.diag(p_min)*on_off_value[:,i]))\n",
    "                        for i in range(n_h) ]) == Q_eval )\n",
    "    for i in range(2*n_h):\n",
    "        Cons_dual.append(dual_u[:,i]>=0)\n",
    "    \n",
    "    Obj_dual=0\n",
    "    for i in range(n_h):\n",
    "        Obj_dual=Obj_dual + sum(mul_elemwise(p_max,dual_u[:,i]))\n",
    "        Obj_dual=Obj_dual + sum(mul_elemwise(p_min,dual_u[:,i+n_h]))\n",
    "        \n",
    "    dual_problem=[]\n",
    "    dual_problem=Problem(Minimize(Obj_dual), Cons_dual)\n",
    "    dual_sol=dual_problem.solve(solver=MOSEK)\n",
    "    return dual_u"
   ]
  },
  {
   "cell_type": "code",
   "execution_count": 79,
   "metadata": {
    "collapsed": false
   },
   "outputs": [],
   "source": [
    "# for name in sorted_name_techno:\n",
    "#     print name\n",
    "#     print [np.sum(np.rint(on_off.value[j,i])for j in range (num_p)if gen_tech[j]==name) for i in range(n_h)  ]"
   ]
  },
  {
   "cell_type": "code",
   "execution_count": 80,
   "metadata": {
    "collapsed": false
   },
   "outputs": [],
   "source": [
    "# def plot_bars(on_off=on_off.value,colors=colors):\n",
    "#     N = n_h\n",
    "#     ind = np.arange(N)  # the x locations for the groups\n",
    "#     width = 1\n",
    "#     aux=[]\n",
    "#     aux.append(np.zeros(N).T)\n",
    "#     cumsum_aux=np.zeros(N)\n",
    "#     fig, ax = plt.subplots(figsize=(10,10))\n",
    "#     # rects = ax.bar(ind, strategy1_optMean, width, color=color[0])\n",
    "#     for idx,name in enumerate(sorted_name_techno):\n",
    "#     #     print name\n",
    "#         aux.append(np.array([np.sum(np.rint(on_off[j,i]) for j in range (num_p) if gen_tech[j]==name) for i in range(n_h)]))\n",
    "#         cumsum_aux=np.cumsum(aux,0)\n",
    "#     #     print aux[-1]\n",
    "#         rects = ax.bar(ind, aux[idx+1], width, color=colors[idx],bottom=cumsum_aux[idx])\n",
    "#     plt.legend(sorted_name_techno,loc='best')  \n",
    "#     plt.show()\n",
    "#     return plt.gcf()"
   ]
  },
  {
   "cell_type": "code",
   "execution_count": 77,
   "metadata": {
    "collapsed": false
   },
   "outputs": [],
   "source": [
    "# [np.sum(np.rint(on_off.value[:,i]))for i in range(n_h)]"
   ]
  },
  {
   "cell_type": "code",
   "execution_count": 78,
   "metadata": {
    "collapsed": false
   },
   "outputs": [],
   "source": [
    "# [np.sum(opt_res['on_off'][:,i]) for i in range(n_h)]"
   ]
  },
  {
   "cell_type": "code",
   "execution_count": 89,
   "metadata": {
    "collapsed": false
   },
   "outputs": [
    {
     "data": {
      "image/png": "[encoded data removed]",
      "text/plain": [
       "<matplotlib.figure.Figure at 0x7f6a3cf3ddd0>"
      ]
     },
     "metadata": {},
     "output_type": "display_data"
    }
   ],
   "source": [
    "n_points=50\n",
    "for gen_id in range(num_p):\n",
    "#     gen_id=10\n",
    "    xx=np.linspace(p_min[gen_id]*0,p_max[gen_id],n_points)\n",
    "    y=np.zeros(n_points)\n",
    "    for i in range(n_points):\n",
    "        y[i]=0.5*H0.diagonal()[gen_id]*xx[i]**2+g0[gen_id]*xx[i]\n",
    "    plt.plot(xx,y)"
   ]
  },
  {
   "cell_type": "code",
   "execution_count": 36,
   "metadata": {
    "collapsed": false
   },
   "outputs": [],
   "source": [
    "# assert((p.value<=np.transpose([p_max*1.1 for i in range (n_h)])).all())\n",
    "# assert((p.value>=np.transpose([p_min*0.9 for i in range (n_h)])).all())\n",
    "# assert((w.value<=np.transpose([w_max for i in range (n_h)])).all())\n",
    "# assert((w.value>=np.transpose([w_min for i in range (n_h)])).all())\n",
    "# assert((z.value<=np.transpose([z_max for i in range (n_h)])).all())\n",
    "# assert((z.value>=np.transpose([z_min for i in range (n_h)])).all())\n"
   ]
  },
  {
   "cell_type": "markdown",
   "metadata": {
    "collapsed": true
   },
   "source": [
    "# TEST"
   ]
  },
  {
   "cell_type": "code",
   "execution_count": 58,
   "metadata": {
    "collapsed": true
   },
   "outputs": [],
   "source": [
    "PWL=False"
   ]
  },
  {
   "cell_type": "code",
   "execution_count": 82,
   "metadata": {
    "collapsed": false
   },
   "outputs": [
    {
     "data": {
      "image/png": "[encoded data removed]",
      "text/plain": [
       "<matplotlib.figure.Figure at 0x7f6a3d1948d0>"
      ]
     },
     "metadata": {},
     "output_type": "display_data"
    }
   ],
   "source": [
    "n_samples=50\n",
    "scenarios=np.zeros([n_samples,n_h])\n",
    "for j in range(n_samples):\n",
    "    b=[]\n",
    "    b=np.zeros([num_l,n_h])\n",
    "    r=[]\n",
    "    r=np.zeros([num_r,n_h])\n",
    "    for i in range (n_h):\n",
    "        b[:,i]=ll*load_data['load'][i]/load_data['load'][0]\n",
    "        r[:,i]=np.minimum(np.maximum(r_test[i]*np.ones(num_r)\n",
    "                                     +L*np.random.randn(num_r)*np.sqrt(r_test[i])*np.sqrt((i*1.+1)/(n_h)),1e-3),r_max)\n",
    "    scenarios[j,:]=sum(r)\n",
    "#     plt.plot(sum(r)/total_load,color='gray')\n",
    "\n",
    "# plt.plot(np.mean(scenarios,0)/total_load,color='r',linewidth=3.0)\n",
    "# plt.plot(r_test*num_r/total_load,color='k',linewidth=3.0)\n",
    "# plt.show()\n",
    "\n",
    "plt.plot(np.sum(r,0))\n",
    "plt.show()"
   ]
  },
  {
   "cell_type": "code",
   "execution_count": 75,
   "metadata": {
    "collapsed": false
   },
   "outputs": [],
   "source": [
    "on_off_value= on_off.value\n",
    "p_value=p.value\n",
    "q=Variable(num_p,n_h)\n"
   ]
  },
  {
   "cell_type": "code",
   "execution_count": 83,
   "metadata": {
    "collapsed": true
   },
   "outputs": [],
   "source": [
    "Constraints=[]\n",
    "for i in range (n_h):\n",
    "    if PWL:\n",
    "        for j in range (pwl_points):\n",
    "            Constraints.append(gk[num_p*j:num_p*(j+1),i]<=p_max/(pwl_points))\n",
    "            Constraints.append(gk[num_p*j:num_p*(j+1),i]>=0)\n",
    "    \n",
    "        Constraints.append( p[:,i]== np.sum ([gk[num_p*j:num_p*(j+1),i] for j in range(pwl_points)]) )\n",
    "       \n",
    "    Constraints.append(G*(q[:,i]+p_value[:,i])+R*s[:,i]-A*w[:,i]==Dm*load[:,i])\n",
    "#     Constraints.append(G*p[:,i]+R*s[:,i]-A*w[:,i]==Dm*load[:,i])\n",
    "    Constraints.append(J*w[:,i]==z[:,i])\n",
    "#     Constraints.append(p[:,i]<=p_max)\n",
    "#     Constraints.append(p[:,i]>=p_min)\n",
    "    Constraints.append(w[:,i]<=w_max)\n",
    "    Constraints.append(w[:,i]>=w_min)\n",
    "    Constraints.append(z[:,i]<=z_max)\n",
    "    Constraints.append(z[:,i]>=z_min)\n",
    "    Constraints.append(s[:,i]<=r[:,i])\n",
    "    Constraints.append(s[:,i]>=0)\n",
    "    \n",
    "#     Constraints.append(load[:,i]>=0)\n",
    "    Constraints.append(load[:,i]<=b[:,i])\n",
    "    \n",
    "    for j in range (num_p):\n",
    "        Constraints.append((p_value[j,i]+q[j,i])<=p_max[j]*on_off_value[j,i])\n",
    "        Constraints.append((p_value[j,i]+q[j,i])>=p_min[j]*on_off_value[j,i])\n",
    "#         Constraints.append(p[j,i]<=p_max[j]*on_off_value[j,i])\n",
    "#         Constraints.append(p[j,i]>=p_min[j]*on_off_value[j,i])\n",
    "\n",
    "\n"
   ]
  },
  {
   "cell_type": "code",
   "execution_count": 84,
   "metadata": {
    "collapsed": true
   },
   "outputs": [],
   "source": [
    "for i in range(1,n_h):\n",
    "    for j in range (num_p):\n",
    "        Constraints.append(q[j,i]-q[j,i-1]<=rampup[j])\n",
    "        Constraints.append(q[j,i]-q[j,i-1]>=-rampdown[j])\n"
   ]
  },
  {
   "cell_type": "code",
   "execution_count": 85,
   "metadata": {
    "collapsed": true
   },
   "outputs": [],
   "source": [
    "Objective=0\n",
    "for i in range (n_h):\n",
    "    if PWL:\n",
    "        for j in range(pwl_points):\n",
    "            for k in range(num_p):\n",
    "                Objective=Objective + gk[k+(num_p*j),i]*pwl_cost[k,j]\n",
    "    else:\n",
    "        Objective=Objective + quad_form(q[:,i],H0*0.5)\n",
    "        Objective=Objective + g0*q[:,i]# check \n",
    "        \n",
    "    Objective=Objective + Load_Penalty*norm(load[:,i]-b[:,i],1)"
   ]
  },
  {
   "cell_type": "code",
   "execution_count": 86,
   "metadata": {
    "collapsed": true
   },
   "outputs": [],
   "source": [
    "prob2 = []\n",
    "prob2 = Problem(Minimize(Objective), Constraints)"
   ]
  },
  {
   "cell_type": "code",
   "execution_count": 87,
   "metadata": {
    "collapsed": false
   },
   "outputs": [
    {
     "data": {
      "text/plain": [
       "25988650.59813121"
      ]
     },
     "execution_count": 87,
     "metadata": {},
     "output_type": "execute_result"
    }
   ],
   "source": [
    "prob2.solve(solver=MOSEK)"
   ]
  },
  {
   "cell_type": "code",
   "execution_count": 88,
   "metadata": {
    "collapsed": false
   },
   "outputs": [
    {
     "data": {
      "image/png": "[encoded data removed]",
      "text/plain": [
       "<matplotlib.figure.Figure at 0x7f6a3d2f4810>"
      ]
     },
     "metadata": {},
     "output_type": "display_data"
    }
   ],
   "source": [
    "colors=['#d7191c','#fdae61','#abdda4','#2b83ba'] #['#ef8a62','#f7f7f7','#67a9cf','#008837']\n",
    "plt.figure(figsize=(10,10))\n",
    "plt.fill_between(range(n_h),np.zeros(n_h),np.squeeze(np.asarray(sum(p_value+q.value))),color=colors[3])\n",
    "plt.fill_between(range(n_h),np.squeeze(np.asarray(sum(p_value+q.value))),\n",
    "                 np.squeeze(np.asarray(sum(p_value+q.value)+sum(s.value))),\n",
    "                 color=colors[1])\n",
    "\n",
    "plt.fill_between(range(n_h),np.squeeze(np.asarray(sum(b))),\n",
    "                 np.squeeze(np.asarray(sum(load.value))),\n",
    "                 color=colors[0])\n",
    "plt.plot(range(n_h),np.squeeze(np.asarray(sum(b))),color='k',linewidth=3.0)\n",
    "plt.fill_between(range(n_h),np.zeros(n_h),-np.squeeze(np.asarray(-sum(s.value)+sum(r))),color=colors[2])\n",
    "plt.legend(['Demand','Generation','Renewable','Demand not served','Curtailed Renewable '],loc='best')\n",
    "plt.show()"
   ]
  },
  {
   "cell_type": "code",
   "execution_count": 72,
   "metadata": {
    "collapsed": false
   },
   "outputs": [
    {
     "name": "stdout",
     "output_type": "stream",
     "text": [
      "[('Nuclear', 2888.7064967830174), ('IGCC', 132.21693613322151), ('CCGT', 1808.2671060120858), ('OCGT', 20.559999999999999), ('Coal', 567.97460130014224)]\n"
     ]
    },
    {
     "data": {
      "image/png": "[encoded data removed]",
      "text/plain": [
       "<matplotlib.figure.Figure at 0x7f6a2c981c50>"
      ]
     },
     "metadata": {},
     "output_type": "display_data"
    }
   ],
   "source": [
    "total_p_gen=np.sum(p.value,1)\n",
    "total_share=[]\n",
    "\n",
    "for name in name_techno:\n",
    "    total_share.append((name,np.sum([ total_p_gen[i] for i in range(num_p) if gen_tech[i]==name  ])))\n",
    "print total_share\n",
    "sorted_name_techno=[x[0] for x in sorted(total_share,key =lambda x: x[1],reverse=True)]\n",
    "colors=['#1b9e77','#d95f02','#7570b3','#e7298a','#66a61e']#list((['#f0f9e8','#bae4bc','#7bccc4','#43a2ca','#0868ac']))\n",
    "share_per_hour=np.zeros([len(name_techno)+1,n_h])\n",
    "plt.figure(figsize=(10,10))\n",
    "for idx,name in enumerate(sorted_name_techno):\n",
    "    share_per_hour[idx+1]=np.sum([ np.squeeze(np.asarray(p.value[i])) for i in range(num_p) if gen_tech[i]==name ],0)\n",
    "share_per_hour=np.cumsum(share_per_hour,0)\n",
    "for idx,name in enumerate(sorted_name_techno):\n",
    "    plt.fill_between(range(n_h),share_per_hour[idx],share_per_hour[idx+1],color=colors[idx])\n",
    "plt.legend(sorted_name_techno,loc='best')\n",
    "plt.show()"
   ]
  },
  {
   "cell_type": "code",
   "execution_count": 81,
   "metadata": {
    "collapsed": false
   },
   "outputs": [
    {
     "data": {
      "text/plain": [
       "matrix([[ 49.,  37.,  37.,  37.,  38.,  44.,  47.,  49.,  49.,  49.,  49.,\n",
       "          49.,  49.,  49.,  47.,  47.,  47.,  47.,  47.,  47.,  47.,  48.,\n",
       "          46.,  40.]])"
      ]
     },
     "execution_count": 81,
     "metadata": {},
     "output_type": "execute_result"
    }
   ],
   "source": [
    "np.sum(on_off_value,0)"
   ]
  },
  {
   "cell_type": "code",
   "execution_count": null,
   "metadata": {
    "collapsed": true
   },
   "outputs": [],
   "source": []
  }
 ],
 "metadata": {
  "kernelspec": {
   "display_name": "Python 2",
   "language": "python",
   "name": "python2"
  },
  "language_info": {
   "codemirror_mode": {
    "name": "ipython",
    "version": 2
   },
   "file_extension": ".py",
   "mimetype": "text/x-python",
   "name": "python",
   "nbconvert_exporter": "python",
   "pygments_lexer": "ipython2",
   "version": "2.7.12"
  }
 },
 "nbformat": 4,
 "nbformat_minor": 1
}
