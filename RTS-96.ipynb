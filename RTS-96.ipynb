{
 "cells": [
  {
   "cell_type": "code",
   "execution_count": 1,
   "metadata": {
    "collapsed": true
   },
   "outputs": [],
   "source": [
    "import xlrd\n",
    "import numpy as np\n",
    "import matplotlib.pyplot as plt\n",
    "\n",
    "%matplotlib inline "
   ]
  },
  {
   "cell_type": "code",
   "execution_count": 2,
   "metadata": {
    "collapsed": true
   },
   "outputs": [],
   "source": [
    "xl_workbook = xlrd.open_workbook('BPA_data/Input_data_UC.xlsx')"
   ]
  },
  {
   "cell_type": "code",
   "execution_count": 3,
   "metadata": {
    "collapsed": false
   },
   "outputs": [
    {
     "data": {
      "text/plain": [
       "[u'Lines', u'Generators', u'Loads']"
      ]
     },
     "execution_count": 3,
     "metadata": {},
     "output_type": "execute_result"
    }
   ],
   "source": [
    "xl_workbook.sheet_names()"
   ]
  },
  {
   "cell_type": "code",
   "execution_count": 4,
   "metadata": {
    "collapsed": true
   },
   "outputs": [],
   "source": [
    "sheet_names = xl_workbook.sheet_names()"
   ]
  },
  {
   "cell_type": "code",
   "execution_count": 5,
   "metadata": {
    "collapsed": true
   },
   "outputs": [],
   "source": [
    "xl_sheet = xl_workbook.sheet_by_name(sheet_names[2])"
   ]
  },
  {
   "cell_type": "code",
   "execution_count": 6,
   "metadata": {
    "collapsed": false
   },
   "outputs": [],
   "source": [
    "ll=xl_sheet.col(xl_sheet.ncols-1)[1::]"
   ]
  },
  {
   "cell_type": "code",
   "execution_count": 7,
   "metadata": {
    "collapsed": true
   },
   "outputs": [],
   "source": [
    "aa=np.zeros([len(ll)])\n",
    "for i in range(len(ll)):\n",
    "    aa[i]=float(str(ll[i]).split(':')[1])\n",
    "    "
   ]
  },
  {
   "cell_type": "code",
   "execution_count": 8,
   "metadata": {
    "collapsed": false
   },
   "outputs": [],
   "source": [
    "load_data=np.genfromtxt('BPA_data/day0.csv',delimiter=',',names=True)"
   ]
  },
  {
   "cell_type": "code",
   "execution_count": 9,
   "metadata": {
    "collapsed": false
   },
   "outputs": [
    {
     "data": {
      "text/plain": [
       "(24,)"
      ]
     },
     "execution_count": 9,
     "metadata": {},
     "output_type": "execute_result"
    }
   ],
   "source": [
    "load_data['wind'].flatten().shape"
   ]
  },
  {
   "cell_type": "code",
   "execution_count": 10,
   "metadata": {
    "collapsed": false
   },
   "outputs": [
    {
     "data": {
      "text/plain": [
       "23"
      ]
     },
     "execution_count": 10,
     "metadata": {},
     "output_type": "execute_result"
    }
   ],
   "source": [
    "len(range(23))"
   ]
  },
  {
   "cell_type": "code",
   "execution_count": 11,
   "metadata": {
    "collapsed": false
   },
   "outputs": [],
   "source": [
    "# output=np.column_stack((range(24),(aa[0:24]/np.max(aa[0:24])),load_data['wind'].flatten()))\n",
    "# with open('BPA_data/day6.csv', 'wb') as f:\n",
    "#     f.write(b'hour,load,wind\\n')\n",
    "#     np.savetxt(f,output,'%1.6f',delimiter=',')\n"
   ]
  },
  {
   "cell_type": "code",
   "execution_count": 12,
   "metadata": {
    "collapsed": false
   },
   "outputs": [
    {
     "data": {
      "text/plain": [
       "8736"
      ]
     },
     "execution_count": 12,
     "metadata": {},
     "output_type": "execute_result"
    }
   ],
   "source": [
    "len(aa)"
   ]
  },
  {
   "cell_type": "code",
   "execution_count": 13,
   "metadata": {
    "collapsed": false,
    "scrolled": true
   },
   "outputs": [
    {
     "data": {
      "image/png": "[encoded data removed]",
      "text/plain": [
       "<matplotlib.figure.Figure at 0x7ff2c6b23710>"
      ]
     },
     "metadata": {},
     "output_type": "display_data"
    }
   ],
   "source": [
    "init=0\n",
    "final=init+len(aa)\n",
    "plt.plot(aa[init:final]/np.max(aa[init:final]))\n",
    "plt.show()"
   ]
  },
  {
   "cell_type": "code",
   "execution_count": 27,
   "metadata": {
    "collapsed": false
   },
   "outputs": [],
   "source": [
    "xl_sheet = xl_workbook.sheet_by_name(sheet_names[1])\n",
    "gen_info={}\n",
    "names={}\n",
    "technology=str(xl_sheet.col(2)[0]).split(':')[1]\n",
    "for idx in range(3,xl_sheet.ncols):\n",
    "    names[str(idx)]=str(xl_sheet.col(idx)[0]).split(':')[1]\n",
    "    ll=xl_sheet.col(idx)[1::]\n",
    "    gen_info[str(idx)]=np.zeros([len(ll)])\n",
    "    for i in range(len(ll)):\n",
    "        gen_info[str(idx)][i]=float(str(ll[i]).split(':')[1])\n",
    "n_gen=xl_sheet.nrows-1\n",
    "\n",
    "technology=[]\n",
    "for i in range (1,len(ll)+1):\n",
    "    technology.append ( str(xl_sheet.col(2)[i]).split(':')[1].split(\"'\")[1])\n",
    "\n",
    "total_capacity=np.sum(gen_info[str(3)])"
   ]
  },
  {
   "cell_type": "code",
   "execution_count": 28,
   "metadata": {
    "collapsed": false
   },
   "outputs": [],
   "source": [
    "# [(i,names[i]) for i in sorted(names,key = lambda x: int(x))]"
   ]
  },
  {
   "cell_type": "code",
   "execution_count": 29,
   "metadata": {
    "collapsed": false
   },
   "outputs": [
    {
     "data": {
      "image/png": "[encoded data removed]",
      "text/plain": [
       "<matplotlib.figure.Figure at 0x7fc56b340410>"
      ]
     },
     "metadata": {},
     "output_type": "display_data"
    }
   ],
   "source": [
    "z={}\n",
    "for gen_id in range(0,n_gen):\n",
    "    step=gen_info['16'][gen_id]\n",
    "    xx=np.linspace(0,step*3,4)\n",
    "    y=np.zeros(4)\n",
    "    for i in range (1,4):\n",
    "#         print gen_info[str(i+12)][gen_id]\n",
    "        y[i]=gen_info[str(i+12)][gen_id]*i*step + y[i-1]\n",
    "    z[str(gen_id)]=np.polyfit(xx,y,2)\n",
    "    plt.plot(xx,y)"
   ]
  },
  {
   "cell_type": "code",
   "execution_count": 30,
   "metadata": {
    "collapsed": false
   },
   "outputs": [],
   "source": [
    "\n",
    "techs=[]\n",
    "for gen_id in range(0,n_gen):\n",
    "    techs.append((technology[gen_id], #technology 0\n",
    "                  z[str(gen_id)][0],  #Q2 1\n",
    "                  z[str(gen_id)][1],  #Q1 2\n",
    "                  int (gen_info['11'][gen_id]), #p_min 3\n",
    "                  gen_info['3'][gen_id], #p_max 4\n",
    "                  gen_info['7'][gen_id], #ramp_up 5\n",
    "                  gen_info['8'][gen_id], #ramp_down 6\n",
    "                  gen_info['9'][gen_id], #min down 7\n",
    "                  gen_info['10'][gen_id], # min up 8\n",
    "                  gen_info['26'][gen_id] # start up cost\n",
    "                 ))\n",
    "    "
   ]
  },
  {
   "cell_type": "code",
   "execution_count": 31,
   "metadata": {
    "collapsed": true
   },
   "outputs": [],
   "source": [
    "name_techno=list(set([techno[0] for techno in techs]))"
   ]
  },
  {
   "cell_type": "code",
   "execution_count": 32,
   "metadata": {
    "collapsed": false
   },
   "outputs": [
    {
     "data": {
      "text/plain": [
       "1.2001575664844435"
      ]
     },
     "execution_count": 32,
     "metadata": {},
     "output_type": "execute_result"
    }
   ],
   "source": [
    "473767./394754"
   ]
  },
  {
   "cell_type": "code",
   "execution_count": 33,
   "metadata": {
    "collapsed": false
   },
   "outputs": [
    {
     "data": {
      "text/plain": [
       "426720"
      ]
     },
     "execution_count": 33,
     "metadata": {},
     "output_type": "execute_result"
    }
   ],
   "source": [
    "426720"
   ]
  },
  {
   "cell_type": "code",
   "execution_count": 34,
   "metadata": {
    "collapsed": false
   },
   "outputs": [
    {
     "data": {
      "text/plain": [
       "424791"
      ]
     },
     "execution_count": 34,
     "metadata": {},
     "output_type": "execute_result"
    }
   ],
   "source": [
    "424791"
   ]
  },
  {
   "cell_type": "code",
   "execution_count": 35,
   "metadata": {
    "collapsed": false
   },
   "outputs": [
    {
     "data": {
      "text/plain": [
       "424583"
      ]
     },
     "execution_count": 35,
     "metadata": {},
     "output_type": "execute_result"
    }
   ],
   "source": [
    "424583"
   ]
  },
  {
   "cell_type": "code",
   "execution_count": 45,
   "metadata": {
    "collapsed": false
   },
   "outputs": [
    {
     "name": "stdout",
     "output_type": "stream",
     "text": [
      "OCGT\n"
     ]
    },
    {
     "data": {
      "text/plain": [
       "[7.5,\n",
       " 7.5,\n",
       " 7.5,\n",
       " 7.5,\n",
       " 8.3333333333333339,\n",
       " 8.3333333333333339,\n",
       " 8.3333333333333339,\n",
       " 8.3333333333333339,\n",
       " 8.3333333333333339,\n",
       " 7.5,\n",
       " 7.5,\n",
       " 7.5,\n",
       " 7.5,\n",
       " 8.3333333333333339,\n",
       " 8.3333333333333339,\n",
       " 8.3333333333333339,\n",
       " 8.3333333333333339,\n",
       " 8.3333333333333339,\n",
       " 7.5,\n",
       " 7.5,\n",
       " 7.5,\n",
       " 7.5,\n",
       " 8.3333333333333339,\n",
       " 8.3333333333333339,\n",
       " 8.3333333333333339,\n",
       " 8.3333333333333339,\n",
       " 8.3333333333333339]"
      ]
     },
     "execution_count": 45,
     "metadata": {},
     "output_type": "execute_result"
    }
   ],
   "source": [
    "idx=4\n",
    "print name_techno[idx] \n",
    "[(techno[5]/techno[4])*100/60 for techno in techs \n",
    " if techno[0]==name_techno[idx]\n",
    "]"
   ]
  },
  {
   "cell_type": "code",
   "execution_count": 17,
   "metadata": {
    "collapsed": false,
    "scrolled": false
   },
   "outputs": [
    {
     "data": {
      "image/png": "[encoded data removed]",
      "text/plain": [
       "<matplotlib.figure.Figure at 0x7f6159968cd0>"
      ]
     },
     "metadata": {},
     "output_type": "display_data"
    }
   ],
   "source": [
    "n_points=4\n",
    "pwl_cost=np.zeros([n_gen,n_points-1])\n",
    "for gen_id in range(0,n_gen):\n",
    "    xx=np.linspace(gen_info['11'][gen_id]*0,gen_info['3'][gen_id],n_points)\n",
    "    p=np.poly1d(z[str(gen_id)])\n",
    "    y=np.zeros(n_points)\n",
    "    for i in range (1,n_points):\n",
    "        y[i]=p(xx[i])\n",
    "        pwl_cost[gen_id][i-1]=((y[i]-y[i-1])/((xx[i]-xx[i-1])))\n",
    "#     print y[-1]\n",
    "    plt.plot(xx,y)"
   ]
  },
  {
   "cell_type": "code",
   "execution_count": 18,
   "metadata": {
    "collapsed": false
   },
   "outputs": [],
   "source": [
    "for gen_id in range(n_gen):\n",
    "    for i in range(1,n_points-1):\n",
    "        assert pwl_cost[gen_id][i]>pwl_cost[gen_id][i-1]"
   ]
  },
  {
   "cell_type": "code",
   "execution_count": 17,
   "metadata": {
    "collapsed": false
   },
   "outputs": [],
   "source": []
  },
  {
   "cell_type": "code",
   "execution_count": 19,
   "metadata": {
    "collapsed": false
   },
   "outputs": [
    {
     "name": "stdout",
     "output_type": "stream",
     "text": [
      "Coal\n"
     ]
    },
    {
     "data": {
      "image/png": "[encoded data removed]",
      "text/plain": [
       "<matplotlib.figure.Figure at 0x7f61595b3ed0>"
      ]
     },
     "metadata": {},
     "output_type": "display_data"
    }
   ],
   "source": [
    "idg=3\n",
    "print name_techno[idg]\n",
    "for gen_id in range(0,n_gen):\n",
    "    xx=np.linspace(gen_info['11'][gen_id],gen_info['3'][gen_id],n_points)\n",
    "    p=np.poly1d(z[str(gen_id)])\n",
    "    y=np.zeros(n_points)\n",
    "    if technology[gen_id]==name_techno[idg]:\n",
    "        for i in range (n_points):\n",
    "            y[i]=p(xx[i])\n",
    "        plt.plot(xx,y)"
   ]
  },
  {
   "cell_type": "code",
   "execution_count": 20,
   "metadata": {
    "collapsed": false
   },
   "outputs": [
    {
     "name": "stdout",
     "output_type": "stream",
     "text": [
      "IGCC\n"
     ]
    },
    {
     "data": {
      "image/png": "[encoded data removed]",
      "text/plain": [
       "<matplotlib.figure.Figure at 0x7f6159459390>"
      ]
     },
     "metadata": {},
     "output_type": "display_data"
    }
   ],
   "source": [
    "idg=1\n",
    "print name_techno[idg]\n",
    "for gen_id in range(0,n_gen):\n",
    "    xx=np.linspace(gen_info['11'][gen_id],gen_info['3'][gen_id],n_points)\n",
    "    p=np.poly1d(z[str(gen_id)])\n",
    "    y=np.zeros(n_points)\n",
    "    if technology[gen_id]==name_techno[idg]:\n",
    "        for i in range (n_points):\n",
    "            y[i]=p(xx[i])\n",
    "        plt.plot(xx,y)"
   ]
  },
  {
   "cell_type": "code",
   "execution_count": 21,
   "metadata": {
    "collapsed": false
   },
   "outputs": [],
   "source": [
    "sorted_name_techno =[x[0] for x in sorted([[name,\n",
    "         np.sum([techno[4] for techno in techs if techno[0]==name ])/total_capacity, \n",
    "         [techno[4] for techno in techs if techno[0]==name][0]\n",
    "        ]\n",
    "            for name in name_techno],\n",
    "        key = lambda x: float(x[2]),reverse=True)]\n",
    "     \n"
   ]
  },
  {
   "cell_type": "code",
   "execution_count": 22,
   "metadata": {
    "collapsed": false
   },
   "outputs": [
    {
     "name": "stdout",
     "output_type": "stream",
     "text": [
      "[0.23494860499265785, 0.10279001468428781, 0.18208516886930984, 0.43906020558002939, 0.041116005873715125]\n"
     ]
    }
   ],
   "source": [
    "print [x[1] for x in sorted([[name,\n",
    "         np.sum([techno[4] for techno in techs if techno[0]==name ])/total_capacity, \n",
    "         [techno[4] for techno in techs if techno[0]==name][0]\n",
    "        ]\n",
    "            for name in name_techno],\n",
    "        key = lambda x: float(x[2]),reverse=True)]"
   ]
  },
  {
   "cell_type": "code",
   "execution_count": 24,
   "metadata": {
    "collapsed": true
   },
   "outputs": [],
   "source": [
    "max_tech={}\n",
    "for name in name_techno:\n",
    "    max_tech[name]={}\n",
    "    max_tech[name]['max']=np.max([techno[3] for techno in techs if techno[0]==name ])\n",
    "    max_tech[name]['id']=np.max([idx for idx,techno in enumerate(techs) if techno[0]==name and techno[3] == max_tech[name]['max'] ])\n"
   ]
  },
  {
   "cell_type": "code",
   "execution_count": 25,
   "metadata": {
    "collapsed": false
   },
   "outputs": [
    {
     "name": "stdout",
     "output_type": "stream",
     "text": [
      "('Nuclear', 0.029917833750000022, 3.0741044999999803, 100, 400.0, 280.0, 280.0, 24.0, 168.0, 40000.0)\n",
      "('Coal', 0.11954207142857155, 12.270104999999957, 140, 350.0, 140.0, 140.0, 5.0, 8.0, 12064.0)\n",
      "('IGCC', 0.25331129032258076, 10.655729999999988, 54, 155.0, 70.0, 80.0, 16.0, 24.0, 2058.0)\n",
      "('CCGT', 0.14437728426395943, 7.7242649999999946, 104, 197.0, 310.0, 310.0, 3.0, 4.0, 230.0)\n",
      "('OCGT', 2.2680749999999974, 13.795700000000027, 8, 20.0, 90.0, 100.0, 1.0, 2.0, 46.0)\n"
     ]
    }
   ],
   "source": [
    "for name in sorted_name_techno:\n",
    "    print techs[max_tech[name]['id']] "
   ]
  },
  {
   "cell_type": "code",
   "execution_count": 26,
   "metadata": {
    "collapsed": false
   },
   "outputs": [
    {
     "data": {
      "text/plain": [
       "[('Coal',\n",
       "  0.11954207142857155,\n",
       "  12.270104999999957,\n",
       "  140,\n",
       "  350.0,\n",
       "  140.0,\n",
       "  140.0,\n",
       "  5.0,\n",
       "  8.0,\n",
       "  12064.0)]"
      ]
     },
     "execution_count": 26,
     "metadata": {},
     "output_type": "execute_result"
    }
   ],
   "source": [
    "[techno for idx,techno in enumerate(techs) if idx == max_tech['Coal']['id']]"
   ]
  },
  {
   "cell_type": "code",
   "execution_count": 31,
   "metadata": {
    "collapsed": false
   },
   "outputs": [],
   "source": [
    "# aggregation=4\n",
    "# [(techno[1]/aggregation,techno[2]/aggregation,techno[4]*aggregation) for techno in techs ]"
   ]
  },
  {
   "cell_type": "code",
   "execution_count": 27,
   "metadata": {
    "collapsed": false
   },
   "outputs": [
    {
     "name": "stdout",
     "output_type": "stream",
     "text": [
      "100.0 400.0 Nuclear\n",
      "54.24 155.0 IGCC\n",
      "104.0 197.0 CCGT\n",
      "140.0 350.0 Coal\n",
      "8.0 20.0 OCGT\n"
     ]
    }
   ],
   "source": [
    "info=[11,3]\n",
    "for name in name_techno:\n",
    "    for i in info:\n",
    "        print gen_info[str(i)][max_tech[name]['id']],\n",
    "    print name"
   ]
  },
  {
   "cell_type": "code",
   "execution_count": 28,
   "metadata": {
    "collapsed": false
   },
   "outputs": [
    {
     "data": {
      "text/plain": [
       "[('Nuclear', 0.23494860499265785, 400.0, 0.029130333750000015),\n",
       " ('Coal', 0.10279001468428781, 350.0, 0.11868492857142855),\n",
       " ('CCGT', 0.43906020558002939, 197.0, 0.14270215736040615),\n",
       " ('IGCC', 0.18208516886930984, 155.0, 0.25108548387096785),\n",
       " ('OCGT', 0.041116005873715125, 20.0, 2.2530749999999986)]"
      ]
     },
     "execution_count": 28,
     "metadata": {},
     "output_type": "execute_result"
    }
   ],
   "source": [
    "sorted([(name,\n",
    "         np.sum([techno[4] for techno in techs if techno[0]==name ])/total_capacity,\n",
    "         np.max([techno[4] for techno in techs if techno[0]==name ]),\n",
    "         np.min([techno[1] for techno in techs if techno[0]==name ])\n",
    "        )\n",
    "        for name in name_techno],\n",
    "      key = lambda x: float(x[2]),reverse=True)\n",
    "     \n"
   ]
  },
  {
   "cell_type": "code",
   "execution_count": null,
   "metadata": {
    "collapsed": true
   },
   "outputs": [],
   "source": []
  },
  {
   "cell_type": "code",
   "execution_count": null,
   "metadata": {
    "collapsed": true
   },
   "outputs": [],
   "source": []
  }
 ],
 "metadata": {
  "kernelspec": {
   "display_name": "Python 2",
   "language": "python",
   "name": "python2"
  },
  "language_info": {
   "codemirror_mode": {
    "name": "ipython",
    "version": 2
   },
   "file_extension": ".py",
   "mimetype": "text/x-python",
   "name": "python",
   "nbconvert_exporter": "python",
   "pygments_lexer": "ipython2",
   "version": "2.7.12"
  }
 },
 "nbformat": 4,
 "nbformat_minor": 0
}
