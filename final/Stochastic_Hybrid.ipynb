{
 "cells": [
  {
   "cell_type": "code",
   "execution_count": 1,
   "metadata": {
    "collapsed": false
   },
   "outputs": [],
   "source": [
    "import numpy as np\n",
    "import pfnet as pf\n",
    "from scipy.sparse import triu,bmat,coo_matrix,eye,spdiags\n",
    "import matplotlib.pyplot as plt\n",
    "from scikits.sparse.cholmod import cholesky\n",
    "import time\n",
    "\n",
    "%matplotlib inline  "
   ]
  },
  {
   "cell_type": "code",
   "execution_count": 2,
   "metadata": {
    "collapsed": false
   },
   "outputs": [],
   "source": [
    "net=pf.Network()\n",
    "net.load('PFNET-multi_period/data/ieee14.mat')\n",
    "# net.load('PFNET-multi_period/data/ieee300.mat')\n",
    "# net.load('PFNET-multi_period/data/case3012wp.mat')\n",
    "\n",
    "# net.load('PFNET-multi_period/tools/pegase.mat')\n"
   ]
  },
  {
   "cell_type": "code",
   "execution_count": 3,
   "metadata": {
    "collapsed": false
   },
   "outputs": [],
   "source": [
    "penetration=50.\n",
    "net.add_vargens(net.get_gen_buses(),#[net.get_bus(1)], \n",
    "                penetration, 50., 10, 0.1)\n",
    "\n"
   ]
  },
  {
   "cell_type": "code",
   "execution_count": 4,
   "metadata": {
    "collapsed": false
   },
   "outputs": [
    {
     "data": {
      "text/plain": [
       "0.1"
      ]
     },
     "execution_count": 4,
     "metadata": {},
     "output_type": "execute_result"
    }
   ],
   "source": [
    "net.vargen_corr_value"
   ]
  },
  {
   "cell_type": "code",
   "execution_count": 5,
   "metadata": {
    "collapsed": false
   },
   "outputs": [],
   "source": [
    "# Problem set up\n",
    "\n",
    "total_load = sum([l.P for l in net.loads])\n",
    "total_capacity=sum([gen.P_max for gen in net.generators])\n",
    "uncertainty = 100.*sum([g.P_std for g in net.var_generators])/sum([g.P_max for g in net.var_generators])\n",
    "corr_value = net.vargen_corr_value \n",
    "corr_radius = net.vargen_corr_radius\n",
    "\n",
    "for br in net.branches:\n",
    "    if br.ratingA==0:\n",
    "        br.ratingA = 15\n",
    "\n",
    "for gen in net.generators:\n",
    "    gen.P_min = 0.\n",
    "    gen.P_max = np.maximum(gen.P_max,0.01)\n",
    "    assert(gen.P_min <= gen.P_max)\n",
    "\n",
    "\n",
    "num_w = net.num_buses-net.get_num_slack_buses() # voltage angles\n",
    "num_p = net.get_num_P_adjust_gens()             #net.get_num_generators()         # adjustable generators\n",
    "num_r = net.num_var_generators                       # renewable generators\n",
    "num_bus = net.num_buses                         # buses\n",
    "num_br = net.num_branches                       # branches\n",
    "num_l = net.num_loads\n",
    "\n"
   ]
  },
  {
   "cell_type": "code",
   "execution_count": 6,
   "metadata": {
    "collapsed": false
   },
   "outputs": [],
   "source": [
    "# [gen.P_max for gen in net.generators]"
   ]
  },
  {
   "cell_type": "code",
   "execution_count": 7,
   "metadata": {
    "collapsed": false
   },
   "outputs": [],
   "source": [
    "capacity_per=np.ones(5)/5\n",
    "# capacity_per=np.array([0.23494860499265785, 0.30279001468428781, 0.18208516886930984, 0.23906020558002939, 0.041116005873715125])\n",
    "# capacity_per=np.array([0.48, 0.06, 0.18, 0.23, 0.05 ])\n",
    "\n",
    "#([0.25, 0.50, 0.15, 0.05, 0.05 ])#\n",
    "\n",
    "capacity_per_cumsum=np.cumsum(capacity_per)\n",
    "# capacity_per_cumsum=np.append([0],np.cumsum(capacity_per))\n",
    "sorted_gen=np.array (sorted([gen.P_max  for gen in net.generators],reverse=True))\n",
    "gen_cumsum=np.cumsum(sorted_gen)\n",
    "gen_bounds=np.zeros(len(capacity_per)+1)\n",
    "gen_bounds[0]=100\n",
    "for idx,cap in enumerate(capacity_per_cumsum):\n",
    "    gen_bounds[idx+1]=np.min(sorted_gen[gen_cumsum/total_capacity>=(1-cap)])\n",
    "gen_bounds[-1]=0\n",
    "parameters=[('Nuclear', 0.029917833750000022, 3.0741044999999803, 100, 400.0, 280.0, 280.0, 24.0, 168.0, 40000.0),\n",
    "('Coal', 0.11954207142857155, 12.270104999999957, 140, 350.0, 140.0, 140.0, 5.0, 8.0, 12064.0),\n",
    "('IGCC', 0.25331129032258076, 10.655729999999988, 54, 155.0, 70.0, 80.0, 16.0, 24.0, 2058.0),\n",
    "('CCGT', 0.14437728426395943, 7.7242649999999946, 104, 197.0, 310.0, 310.0, 3.0, 4.0, 230.0),\n",
    "('OCGT', 2.2680749999999974, 13.795700000000027, 8, 20.0, 90.0, 100.0, 1.0, 2.0, 46.0)]\n"
   ]
  },
  {
   "cell_type": "code",
   "execution_count": 8,
   "metadata": {
    "collapsed": true
   },
   "outputs": [],
   "source": [
    "capacity_per=np.ones(5)/5\n",
    "# capacity_per=np.array([0.23494860499265785, 0.30279001468428781, 0.18208516886930984, 0.23906020558002939, 0.041116005873715125])\n",
    "#([0.25, 0.50, 0.15, 0.05, 0.05 ])#\n",
    "capacity_per_cumsum=np.cumsum(capacity_per)\n",
    "sorted_gen=np.array(sorted([gen.P_max  for gen in net.generators]))\n",
    "gen_cumsum=np.cumsum(sorted_gen)\n",
    "gen_bounds=np.zeros(len(capacity_per)+1)\n",
    "gen_bounds[0]=100\n",
    "for idx,cap in enumerate(capacity_per_cumsum):\n",
    "    gen_bounds[idx+1]=np.min(sorted_gen[gen_cumsum/total_capacity>=(1-cap)])\n",
    "gen_bounds[-1]=0\n",
    "parameters=[('Nuclear', 0.029917833750000022, 3.0741044999999803, 100, 400.0, 280.0, 280.0, 24.0, 168.0, 40000.0),\n",
    "('Coal', 0.11954207142857155, 12.270104999999957, 140, 350.0, 140.0, 140.0, 5.0, 8.0, 12064.0),\n",
    "('IGCC', 0.25331129032258076, 10.655729999999988, 54, 155.0, 70.0, 80.0, 16.0, 24.0, 2058.0),\n",
    "('CCGT', 0.14437728426395943, 7.7242649999999946, 104, 197.0, 310.0, 310.0, 3.0, 4.0, 230.0),\n",
    "('OCGT', 2.2680749999999974, 13.795700000000027, 8, 20.0, 90.0, 100.0, 1.0, 2.0, 46.0)]\n"
   ]
  },
  {
   "cell_type": "code",
   "execution_count": 8,
   "metadata": {
    "collapsed": true
   },
   "outputs": [],
   "source": [
    "a_list=np.array([ y for (x,y) in reversed (sorted([(gen.P_max, gen.index) for gen in net.generators]))])\n",
    "b_list=[]\n",
    "for i in range(1,len(capacity_per_cumsum)):\n",
    "    b_list.append(np.array([True if (x/total_capacity>capacity_per_cumsum[i-1] and x/total_capacity<capacity_per_cumsum[i]) else False   for x  in gen_cumsum ]))"
   ]
  },
  {
   "cell_type": "code",
   "execution_count": 11,
   "metadata": {
    "collapsed": false
   },
   "outputs": [],
   "source": [
    "# for i in range(0,len(gen_bounds)-1):\n",
    "#     print np.sum([gen.P_max/total_capacity for gen in net.generators if gen.P_max>gen_bounds[i+1] and gen.P_max < gen_bounds[i] ])"
   ]
  },
  {
   "cell_type": "code",
   "execution_count": 12,
   "metadata": {
    "collapsed": false
   },
   "outputs": [],
   "source": [
    "# np.sum([gen.P_max for gen in net.generators if gen.P_max<=gen_bounds[0] and gen.P_max>gen_bounds[1] ])/total_load"
   ]
  },
  {
   "cell_type": "code",
   "execution_count": 11,
   "metadata": {
    "collapsed": false
   },
   "outputs": [],
   "source": [
    "min_down=np.zeros([num_p])\n",
    "min_up=np.zeros([num_p])\n",
    "ramp_up=np.zeros([num_p])\n",
    "ramp_down=np.zeros([num_p])\n",
    "on_off_cost=np.zeros([num_p])\n",
    "\n",
    "gen_tech=np.chararray([num_p],itemsize=10)\n",
    "for i in range(len(b_list)): \n",
    "    for gen in net.generators:\n",
    "        if gen.index in a_list[b_list[i]]:\n",
    "            aggregator= (np.maximum(gen.P_max/(parameters[i][4]/net.base_power),0))\n",
    "#             print aggregator,parameters[i][0],gen.index\n",
    "            gen.P_max= aggregator*parameters[i][4]/net.base_power\n",
    "            gen.P_min= aggregator*parameters[i][3]/net.base_power\n",
    "            gen.cost_coeff_Q2= net.base_power**2*parameters[i][1]/aggregator\n",
    "            gen.cost_coeff_Q1= net.base_power*parameters[i][2]/aggregator\n",
    "            gen.dP_max= parameters[i][5]/net.base_power*aggregator\n",
    "            \n",
    "            ramp_up[gen.index]=(aggregator*parameters[i][5])/net.base_power\n",
    "            ramp_down[gen.index]=(aggregator*parameters[i][6])/net.base_power\n",
    "            min_down[gen.index]= parameters[i][7]\n",
    "            min_up[gen.index] = parameters[i][8]\n",
    "            on_off_cost[gen.index] =parameters[i][9]*aggregator\n",
    "            \n",
    "            gen_tech[gen.index] = parameters[i][0]\n",
    "            \n",
    "name_techno=list(set([techno[0] for techno in parameters]))"
   ]
  },
  {
   "cell_type": "code",
   "execution_count": 9,
   "metadata": {
    "collapsed": true
   },
   "outputs": [],
   "source": [
    "min_down=np.zeros([num_p])\n",
    "min_up=np.zeros([num_p])\n",
    "ramp_up=np.zeros([num_p])\n",
    "ramp_down=np.zeros([num_p])\n",
    "on_off_cost=np.zeros([num_p])\n",
    "\n",
    "gen_tech=np.chararray([num_p],itemsize=10)\n",
    "for i in reversed(range(0,len(gen_bounds)-1)): \n",
    "    for gen in net.generators:\n",
    "        if gen.P_max >= gen_bounds[i+1] and gen.P_max < gen_bounds[i]:\n",
    "            aggregator= (np.maximum(gen.P_max/(parameters[i][4]/net.base_power),0))\n",
    "#             print aggregator,parameters[i][0],gen.index\n",
    "            gen.P_max= aggregator*parameters[i][4]/net.base_power\n",
    "            gen.P_min= aggregator*parameters[i][3]/net.base_power\n",
    "            gen.cost_coeff_Q2= net.base_power**2*parameters[i][1]/aggregator\n",
    "            gen.cost_coeff_Q1= net.base_power*parameters[i][2]/aggregator\n",
    "            gen.dP_max= parameters[i][5]/net.base_power*aggregator\n",
    "            \n",
    "            ramp_up[gen.index]=(aggregator*parameters[i][5])/net.base_power\n",
    "            ramp_down[gen.index]=(aggregator*parameters[i][6])/net.base_power\n",
    "            min_down[gen.index]= parameters[i][7]\n",
    "            min_up[gen.index] = parameters[i][8]\n",
    "            on_off_cost[gen.index] =parameters[i][9]*aggregator\n",
    "            \n",
    "            gen_tech[gen.index] = parameters[i][0]\n",
    "            \n",
    "name_techno=list(set([techno[0] for techno in parameters]))"
   ]
  },
  {
   "cell_type": "code",
   "execution_count": 10,
   "metadata": {
    "collapsed": false
   },
   "outputs": [
    {
     "name": "stdout",
     "output_type": "stream",
     "text": [
      "('Nuclear', 0.43034697048161569)\n",
      "('IGCC', 0.18125323666494039)\n",
      "('CCGT', 0.38839979285344378)\n",
      "('OCGT', 0.0)\n",
      "('Coal', 0.0)\n"
     ]
    }
   ],
   "source": [
    "for name in name_techno:\n",
    "    print (name,np.sum([ gen.P_max for idx,gen in enumerate( net.generators) if gen_tech[idx]==name ])/total_capacity)"
   ]
  },
  {
   "cell_type": "code",
   "execution_count": 13,
   "metadata": {
    "collapsed": false
   },
   "outputs": [
    {
     "data": {
      "text/plain": [
       "[1.0, 1.0, 1.0, 1.3999999999999997, 3.324]"
      ]
     },
     "execution_count": 13,
     "metadata": {},
     "output_type": "execute_result"
    }
   ],
   "source": [
    "[gen.P_max for gen in net.generators]"
   ]
  },
  {
   "cell_type": "code",
   "execution_count": 11,
   "metadata": {
    "collapsed": false,
    "scrolled": true
   },
   "outputs": [
    {
     "name": "stdout",
     "output_type": "stream",
     "text": [
      "7.724 7.724\n"
     ]
    }
   ],
   "source": [
    "print sum([gen.P_max for gen in net.generators]), total_capacity"
   ]
  },
  {
   "cell_type": "code",
   "execution_count": 12,
   "metadata": {
    "collapsed": false
   },
   "outputs": [
    {
     "name": "stdout",
     "output_type": "stream",
     "text": [
      "1 Nuclear\n",
      "1 IGCC\n",
      "3 CCGT\n",
      "0 OCGT\n",
      "0 Coal\n"
     ]
    }
   ],
   "source": [
    "for idx, name in enumerate(name_techno):\n",
    "    print sum([1 for i in range(num_p) if gen_tech[i]==name]),name"
   ]
  },
  {
   "cell_type": "code",
   "execution_count": 12,
   "metadata": {
    "collapsed": false
   },
   "outputs": [
    {
     "name": "stdout",
     "output_type": "stream",
     "text": [
      "1 Nuclear\n",
      "1 IGCC\n",
      "3 CCGT\n",
      "0 OCGT\n",
      "0 Coal\n"
     ]
    }
   ],
   "source": [
    "for idx, name in enumerate(name_techno):\n",
    "    print sum([1 for i in range(num_p) if gen_tech[i]==name]),name"
   ]
  },
  {
   "cell_type": "code",
   "execution_count": 13,
   "metadata": {
    "collapsed": false
   },
   "outputs": [
    {
     "data": {
      "text/plain": [
       "120"
      ]
     },
     "execution_count": 13,
     "metadata": {},
     "output_type": "execute_result"
    }
   ],
   "source": [
    "num_p*24"
   ]
  },
  {
   "cell_type": "code",
   "execution_count": 14,
   "metadata": {
    "collapsed": false
   },
   "outputs": [],
   "source": [
    "# sorted([(gen.index , gen.P_max) for idx , gen in enumerate( net.generators)],\n",
    "#        key = lambda x: float(x[1]),reverse=True)\n",
    "    "
   ]
  },
  {
   "cell_type": "code",
   "execution_count": 15,
   "metadata": {
    "collapsed": true
   },
   "outputs": [],
   "source": [
    "net.clear_flags()\n",
    "net.set_flags(pf.OBJ_BUS,\n",
    "              pf.FLAG_VARS,\n",
    "              pf.BUS_PROP_NOT_SLACK,\n",
    "              pf.BUS_VAR_VANG)\n",
    "net.set_flags(pf.OBJ_GEN,\n",
    "              pf.FLAG_VARS,\n",
    "              pf.GEN_PROP_P_ADJUST,\n",
    "              pf.GEN_VAR_P)\n",
    "net.set_flags(pf.OBJ_VARGEN,\n",
    "              pf.FLAG_VARS,\n",
    "              pf.VARGEN_PROP_ANY,\n",
    "              pf.VARGEN_VAR_P)\n",
    "net.set_flags(pf.OBJ_LOAD,\n",
    "              pf.FLAG_VARS,\n",
    "              pf.LOAD_PROP_ANY,\n",
    "              pf.LOAD_VAR_P)\n",
    "\n"
   ]
  },
  {
   "cell_type": "code",
   "execution_count": 16,
   "metadata": {
    "collapsed": false
   },
   "outputs": [],
   "source": [
    "x = net.get_var_values()\n",
    "Pw = net.get_var_projection(pf.OBJ_BUS,pf.BUS_VAR_VANG)\n",
    "Pp = net.get_var_projection(pf.OBJ_GEN,pf.GEN_VAR_P)\n",
    "Pr = net.get_var_projection(pf.OBJ_VARGEN,pf.VARGEN_VAR_P)\n",
    "Pd = net.get_var_projection(pf.OBJ_LOAD,pf.LOAD_VAR_P)\n"
   ]
  },
  {
   "cell_type": "code",
   "execution_count": 17,
   "metadata": {
    "collapsed": false
   },
   "outputs": [],
   "source": [
    "pf_eq = pf.Constraint(pf.CONSTR_TYPE_DCPF,net)\n",
    "pf_eq.analyze()\n",
    "pf_eq.eval(x)\n",
    "AA = pf_eq.A.copy()\n",
    "bb = pf_eq.b.copy()"
   ]
  },
  {
   "cell_type": "code",
   "execution_count": 18,
   "metadata": {
    "collapsed": false
   },
   "outputs": [],
   "source": [
    "fl_lim = pf.Constraint(pf.CONSTR_TYPE_DC_FLOW_LIM,net)\n",
    "fl_lim.analyze()\n",
    "fl_lim.eval(x)\n",
    "GG = fl_lim.G.copy()\n",
    "hl = fl_lim.l.copy()\n",
    "hu = fl_lim.u.copy()"
   ]
  },
  {
   "cell_type": "code",
   "execution_count": 19,
   "metadata": {
    "collapsed": false
   },
   "outputs": [],
   "source": [
    "cost = pf.Function(pf.FUNC_TYPE_GEN_COST,1.,net)\n",
    "cost.analyze()\n",
    "cost.eval(x)\n",
    "H = (cost.Hphi + cost.Hphi.T - triu(cost.Hphi)) # symmetric\n",
    "g = cost.gphi - H*x\n",
    "l = net.get_var_values(pf.LOWER_LIMITS)\n",
    "u = net.get_var_values(pf.UPPER_LIMITS)"
   ]
  },
  {
   "cell_type": "code",
   "execution_count": 20,
   "metadata": {
    "collapsed": false
   },
   "outputs": [],
   "source": [
    "p_max = Pp*u\n",
    "p_min = Pp*l\n",
    "w_max = 5*np.ones(num_w)\n",
    "w_min = -5*np.ones(num_w)\n",
    "r_max = Pr*u\n",
    "r_base = Pr*x\n",
    "z_max = hu\n",
    "z_min = hl \n",
    "H0 = Pp*H*Pp.T # change costs\n",
    "g0 = Pp*g\n",
    "#H1 = self.H0*self.parameters['cost_factor']\n",
    "g1 = np.zeros(num_p)\n",
    "G = AA*Pp.T\n",
    "R = AA*Pr.T\n",
    "A = -AA*Pw.T\n",
    "Dm = -AA*Pd.T\n",
    "J = GG*Pw.T \n",
    "b = bb\n",
    "ll= Pd*x #np.array([l.P for l in net.loads]) # check \n",
    "\n"
   ]
  },
  {
   "cell_type": "code",
   "execution_count": 21,
   "metadata": {
    "collapsed": false
   },
   "outputs": [],
   "source": [
    "# net.create_vargen_P_sigma(int(corr_radius),corr_value)"
   ]
  },
  {
   "cell_type": "code",
   "execution_count": 22,
   "metadata": {
    "collapsed": false
   },
   "outputs": [],
   "source": [
    "rr_cov = Pr*net.create_vargen_P_sigma(int(corr_radius),corr_value)*Pr.T\n",
    "r_cov = (rr_cov+rr_cov.T-triu(rr_cov)).tocsc()\n",
    "factor = cholesky(r_cov)\n",
    "LL,D = factor.L_D()\n",
    "P = factor.P()\n",
    "PT = coo_matrix((np.ones(P.size),(P,np.arange(P.size))),shape=D.shape)\n",
    "D = D.tocoo()\n",
    "Dh = coo_matrix((np.sqrt(D.data),(D.row,D.col)),shape=D.shape)\n",
    "L = PT*LL*Dh"
   ]
  },
  {
   "cell_type": "code",
   "execution_count": 23,
   "metadata": {
    "collapsed": false
   },
   "outputs": [],
   "source": [
    "from cvxpy import *\n",
    "import mosek\n",
    "import gurobi"
   ]
  },
  {
   "cell_type": "code",
   "execution_count": 24,
   "metadata": {
    "collapsed": true
   },
   "outputs": [],
   "source": [
    "PWL=True"
   ]
  },
  {
   "cell_type": "code",
   "execution_count": 25,
   "metadata": {
    "collapsed": false
   },
   "outputs": [
    {
     "data": {
      "image/png": "[encoded data removed]",
      "text/plain": [
       "<matplotlib.figure.Figure at 0x7f647755abd0>"
      ]
     },
     "metadata": {},
     "output_type": "display_data"
    }
   ],
   "source": [
    "# PWL approximation\n",
    "pwl_cost=[]\n",
    "if PWL:\n",
    "    pwl_points=3\n",
    "    pwl_cost=np.zeros([num_p,pwl_points])\n",
    "    for gen_id in range(num_p):\n",
    "        xx=np.linspace(p_min[gen_id]*0,p_max[gen_id],pwl_points+1)\n",
    "        y=np.zeros(pwl_points+1)\n",
    "        for i in range(0,pwl_points+1):\n",
    "            y[i]=0.5*H0.diagonal()[gen_id]*xx[i]**2+g0[gen_id]*xx[i]\n",
    "            pwl_cost[gen_id][i-1]=((y[i]-y[i-1])/(xx[i]-xx[i-1]))\n",
    "        plt.plot(xx,y)\n",
    "\n",
    "    for gen_id in range(num_p):\n",
    "        for i in range(1,pwl_points):\n",
    "            assert pwl_cost[gen_id][i]>pwl_cost[gen_id][i-1]\n",
    "            \n",
    "\n",
    "plt.show()"
   ]
  },
  {
   "cell_type": "code",
   "execution_count": 26,
   "metadata": {
    "collapsed": true
   },
   "outputs": [],
   "source": [
    "norm_factor=24*num_p\n",
    "H0=H0/(norm_factor)\n",
    "g0=g0/(norm_factor)\n",
    "pwl_cost=pwl_cost/norm_factor\n",
    "on_off_cost=on_off_cost/norm_factor"
   ]
  },
  {
   "cell_type": "code",
   "execution_count": 83,
   "metadata": {
    "collapsed": false
   },
   "outputs": [],
   "source": [
    "load_data=np.genfromtxt('BPA_data/day6.csv',delimiter=',',names=True)\n",
    "r_test=np.flipud(load_data['wind'])*total_load*(penetration/100)/num_r#np.flipud("
   ]
  },
  {
   "cell_type": "code",
   "execution_count": 84,
   "metadata": {
    "collapsed": true
   },
   "outputs": [],
   "source": [
    "#verificar el rango de r_test"
   ]
  },
  {
   "cell_type": "code",
   "execution_count": 128,
   "metadata": {
    "collapsed": false
   },
   "outputs": [],
   "source": [
    "np.random.seed(seed=100)\n",
    "n_h=24\n",
    "p=Variable(num_p,n_h)\n",
    "w=Variable(num_w,n_h)\n",
    "z=Variable(num_br,n_h)\n",
    "s=Variable(num_r,n_h)\n",
    "load=Variable(num_l,n_h)\n",
    "on_off=Bool(num_p,n_h)\n",
    "on_off_param=Parameter(num_p,n_h)\n",
    "r_parameter=Parameter(num_r,n_h)\n",
    "g_k2=Parameter(2*n_h,num_p)\n",
    "\n",
    "Pforecast=total_load\n",
    "Load_Penalty=np.max(pwl_cost)*1e1#1e6\n",
    "# p_min = p_max*0.0\n",
    "rampup = ramp_up #p_max/(H0.diagonal()/np.max(H0))*0.04 # p_max*0.01\n",
    "rampdown=ramp_down #p_max/(H0.diagonal()/np.max(H0))*0.04 # p_max*0.01\n",
    "\n",
    "if PWL:\n",
    "    gk=Variable(num_p*pwl_points,n_h)\n",
    "\n",
    "\n",
    "ontime=np.zeros(num_p)-25\n",
    "on_off_init=np.zeros(num_p)"
   ]
  },
  {
   "cell_type": "code",
   "execution_count": 99,
   "metadata": {
    "collapsed": false,
    "scrolled": true
   },
   "outputs": [],
   "source": [
    "np.random.seed(seed=100)\n",
    "mult=2.5\n",
    "n_samples=1000\n",
    "n_test=1000\n",
    "scenarios=np.zeros([n_samples+n_test,n_h])\n",
    "scenarios_bus=np.zeros([num_r,n_h,n_samples+n_test])\n",
    "b=[]\n",
    "b=np.zeros([num_l,n_h])\n",
    "for i in range (n_h):\n",
    "    b[:,i]=mult*np.abs(ll)*load_data['load'][i]#/load_data['load'][0]\n"
   ]
  },
  {
   "cell_type": "code",
   "execution_count": 100,
   "metadata": {
    "collapsed": false
   },
   "outputs": [
    {
     "data": {
      "image/png": "[encoded data removed]",
      "text/plain": [
       "<matplotlib.figure.Figure at 0x7f6474d51690>"
      ]
     },
     "metadata": {},
     "output_type": "display_data"
    }
   ],
   "source": [
    "# for j in range(n_samples+n_test):\n",
    "#     r=[]\n",
    "#     r=np.zeros([num_r,n_h])\n",
    "#     for i in range (n_h):\n",
    "#         r[:,i]=mult*np.minimum(np.maximum(r_test[i]*np.ones(num_r)# +0.1 ieee14\n",
    "#                                      +L*np.random.randn(num_r)*np.sqrt((i*1.+1)/(n_h)),1e-3),r_max) #np.sqrt(r_test[i])\n",
    "#     scenarios_bus[:,:,j]=r\n",
    "#     scenarios[j,:]=sum(r)\n",
    "#     plt.plot(sum(r)/total_load,color='gray')\n",
    "\n",
    "# plt.plot(np.mean(scenarios,0)/total_load,color='r',linewidth=3.0)\n",
    "# plt.plot(mult*r_test*num_r/total_load,color='k',linewidth=3.0)\n",
    "# plt.show()"
   ]
  },
  {
   "cell_type": "code",
   "execution_count": 101,
   "metadata": {
    "collapsed": false
   },
   "outputs": [
    {
     "data": {
      "image/png": "[encoded data removed]",
      "text/plain": [
       "<matplotlib.figure.Figure at 0x7f6470472710>"
      ]
     },
     "metadata": {},
     "output_type": "display_data"
    }
   ],
   "source": [
    "for j in range(n_samples+n_test):\n",
    "    r=[]\n",
    "    r=np.zeros([num_r,n_h])\n",
    "    for i in range (n_h):\n",
    "        r[:,i]=mult*np.minimum(np.maximum(r_test[i]*np.ones(num_r)# +0.1 ieee14\n",
    "                                     +L*np.random.randn(num_r)*np.sqrt(r_test[i])*np.sqrt((i*1.+1)/(n_h)),1e-3),r_max) #np.sqrt(r_test[i])\n",
    "    scenarios_bus[:,:,j]=r\n",
    "    scenarios[j,:]=sum(r)\n",
    "    plt.plot(sum(r)/total_load,color='gray')\n",
    "\n",
    "plt.plot(np.mean(scenarios,0)/total_load,color='r',linewidth=3.0)\n",
    "plt.plot(mult*r_test*num_r/total_load,color='k',linewidth=3.0)\n",
    "plt.show()"
   ]
  },
  {
   "cell_type": "code",
   "execution_count": 69,
   "metadata": {
    "collapsed": false
   },
   "outputs": [
    {
     "data": {
      "image/png": "[encoded data removed]",
      "text/plain": [
       "<matplotlib.figure.Figure at 0x7fc83162b210>"
      ]
     },
     "metadata": {},
     "output_type": "display_data"
    }
   ],
   "source": [
    "# for j in range(n_samples+n_test):\n",
    "#     r=[]\n",
    "#     r=np.zeros([num_r,n_h])\n",
    "#     for i in range (n_h):\n",
    "#         r[:,i]=mult*np.minimum(np.maximum(r_test[i]*np.ones(num_r)*0# +0.1 ieee14\n",
    "#                                      +L*np.random.rayleigh(r_test[i]/4,size=num_r),1e-3),r_max) #np.sqrt(r_test[i])\n",
    "#     scenarios_bus[:,:,j]=r\n",
    "#     scenarios[j,:]=sum(r)\n",
    "#     plt.plot(sum(r)/total_load,color='gray')\n",
    "\n",
    "# plt.plot(np.mean(scenarios,0)/total_load,color='r',linewidth=3.0)\n",
    "# plt.plot(mult*r_test*num_r/total_load,color='k',linewidth=3.0)\n",
    "# plt.show()"
   ]
  },
  {
   "cell_type": "code",
   "execution_count": 102,
   "metadata": {
    "collapsed": false
   },
   "outputs": [],
   "source": [
    "# plt.plot(np.sum(np.mean(scenarios_bus,2),0))\n",
    "# plt.plot(np.sum(r,0))\n",
    "# plt.show()\n",
    "r=np.mean(scenarios_bus,2)*0\n",
    "rr=np.mean(scenarios_bus,2)"
   ]
  },
  {
   "cell_type": "code",
   "execution_count": 103,
   "metadata": {
    "collapsed": false
   },
   "outputs": [],
   "source": [
    "r=rr"
   ]
  },
  {
   "cell_type": "code",
   "execution_count": 104,
   "metadata": {
    "collapsed": false
   },
   "outputs": [],
   "source": [
    "def eval_on_off(on_off_value,r,prob,Constraints,duals=False,solver=GUROBI):\n",
    "    dual_multiplier_pos=np.matrix(np.zeros((n_h,num_p)))\n",
    "    dual_multiplier_neg=np.matrix(np.zeros((n_h,num_p)))\n",
    "    \n",
    "    on_off_param.value=on_off_value\n",
    "    r_parameter.value=r\n",
    "        \n",
    "    if solver==GUROBI:\n",
    "        Q=prob.solve(solver=GUROBI,BarQCPConvTol=1e-8,warm_start=True)#GUROBI,BarQCPConvTol=1e-8\n",
    "        print \"GUROBI\"\n",
    "    else:\n",
    "        print \"ECOS\"\n",
    "        Q=prob.solve(solver=ECOS,reltol=1e-8,max_iters=1000,warm_start=True)\n",
    "\n",
    "    \n",
    "    for i in range(n_h):\n",
    "        dual_multiplier_pos[i,: ]= np.squeeze( np.asarray((np.diag(p_max)*Constraints[i].dual_value).T))\n",
    "    for i in range(n_h):\n",
    "        dual_multiplier_neg[i,: ]= np.squeeze( np.asarray((np.diag(p_min)*Constraints[i+n_h].dual_value).T))\n",
    "        \n",
    "    if not duals:\n",
    "        return Q,p.value,load.value,s.value\n",
    "    else:\n",
    "        return Q, dual_multiplier_pos, dual_multiplier_neg\n",
    "    \n"
   ]
  },
  {
   "cell_type": "code",
   "execution_count": 173,
   "metadata": {
    "collapsed": true
   },
   "outputs": [],
   "source": [
    "def second_stage(on_off_value,PWL):\n",
    "    Constraints=[]\n",
    "    for i in range (n_h):\n",
    "        Constraints.append(p[:,i]<=mul_elemwise(p_max[:],on_off_value[:,i]))\n",
    "    for i in range (n_h):\n",
    "        Constraints.append(p[:,i]>=mul_elemwise(p_min[:],on_off_value[:,i]))\n",
    "    for i in range (n_h):\n",
    "        Constraints.append(s[:,i]<=r_parameter[:,i])\n",
    "\n",
    "    for i in range (n_h):\n",
    "        if PWL:\n",
    "            for j in range (pwl_points):\n",
    "                Constraints.append(gk[num_p*j:num_p*(j+1),i]<=p_max/(pwl_points))\n",
    "                Constraints.append(gk[num_p*j:num_p*(j+1),i]>=0)\n",
    "\n",
    "            Constraints.append( p[:,i]== np.sum ([gk[num_p*j:num_p*(j+1),i] for j in range(pwl_points)]) )\n",
    "\n",
    "        Constraints.append(G*p[:,i]+R*s[:,i]-A*w[:,i]==Dm*load[:,i])\n",
    "        Constraints.append(w[:,i]<=w_max)\n",
    "        Constraints.append(w[:,i]>=w_min)\n",
    "        Constraints.append(J*w[:,i]<=z_max)\n",
    "        Constraints.append(J*w[:,i]>=z_min)\n",
    "        #Changed here\n",
    "        Constraints.append(s[:,i]>=0)\n",
    "#         Constraints.append(load[:,i]>=0) # Temporary \n",
    "#         Constraints.append(load[:,i]<=b[:,i])\n",
    "    for i in range(1,n_h):\n",
    "        Constraints.append(p[:,i]-p[:,i-1]<=rampup[:])\n",
    "        Constraints.append(p[:,i]-p[:,i-1]>=-rampdown[:])   \n",
    "\n",
    "\n",
    "    # init objective secon stage\n",
    "\n",
    "    Objective=0\n",
    "    for i in range (n_h):\n",
    "        if PWL:\n",
    "            for j in range(pwl_points):\n",
    "                for k in range(num_p):\n",
    "                    Objective=Objective + gk[k+(num_p*j),i]*pwl_cost[k,j]\n",
    "        else:\n",
    "            Objective=Objective + quad_form(p[:,i],H0*0.5)\n",
    "            Objective=Objective + g0*p[:,i]# check \n",
    "\n",
    "        Objective=Objective + Load_Penalty*norm(load[:,i]-b[:,i],1)\n",
    "    \n",
    "    return Objective , Constraints\n",
    "\n"
   ]
  },
  {
   "cell_type": "code",
   "execution_count": 174,
   "metadata": {
    "collapsed": false
   },
   "outputs": [
    {
     "data": {
      "text/plain": [
       "array([   4.,    4.,    4.,   24.,  168.])"
      ]
     },
     "execution_count": 174,
     "metadata": {},
     "output_type": "execute_result"
    }
   ],
   "source": [
    "min_up-ontime[j]"
   ]
  },
  {
   "cell_type": "code",
   "execution_count": 175,
   "metadata": {
    "collapsed": false
   },
   "outputs": [
    {
     "data": {
      "text/plain": [
       "matrix([[ 0.,  0.,  0.,  0.,  0.,  0.,  0.,  0.,  1.,  1.,  1.,  1.,  1.,\n",
       "          1.,  1.,  1.,  1.,  1.,  1.,  1.,  0.,  0.,  0.,  0.],\n",
       "        [ 0.,  0.,  0.,  0.,  0.,  0.,  1.,  1.,  1.,  1.,  1.,  1.,  1.,\n",
       "          1.,  1.,  1.,  1.,  1.,  1.,  1.,  0.,  0.,  0.,  0.],\n",
       "        [ 0.,  0.,  0.,  0.,  0.,  0.,  1.,  1.,  1.,  1.,  1.,  1.,  1.,\n",
       "          1.,  1.,  1.,  1.,  1.,  1.,  1.,  0.,  0.,  0.,  0.],\n",
       "        [ 0.,  0.,  0.,  0.,  0.,  0.,  0.,  1.,  1.,  1.,  1.,  1.,  1.,\n",
       "          1.,  1.,  1.,  1.,  1.,  1.,  1.,  1.,  1.,  1.,  1.],\n",
       "        [ 1.,  1.,  1.,  1.,  1.,  1.,  1.,  1.,  1.,  1.,  1.,  1.,  1.,\n",
       "          1.,  1.,  1.,  1.,  1.,  1.,  1.,  1.,  1.,  1.,  1.]])"
      ]
     },
     "execution_count": 175,
     "metadata": {},
     "output_type": "execute_result"
    }
   ],
   "source": [
    "on_off.value"
   ]
  },
  {
   "cell_type": "code",
   "execution_count": 176,
   "metadata": {
    "collapsed": false
   },
   "outputs": [],
   "source": [
    "# on_off.value.item((j,0))"
   ]
  },
  {
   "cell_type": "code",
   "execution_count": 177,
   "metadata": {
    "collapsed": false
   },
   "outputs": [],
   "source": [
    "Objective_det=0\n",
    "Constraints_det=[]\n",
    "Objective_det, Constraints_det = second_stage(on_off_value=on_off,PWL=True )\n",
    "for j in range (num_p):\n",
    "#     if on_off.value.item((j,0))==1:\n",
    "    indi= on_off[j,0]-on_off_init[j]\n",
    "    rang= range(0,min(n_h,int(min_up[j]-ontime[j])))\n",
    "    if rang != []:\n",
    "        Constraints_det.append(on_off[j,rang]>=indi)\n",
    "#     else:\n",
    "#         indi= 1\n",
    "        #changed here\n",
    "#         rang= range(0,min(n_h,int(min_down[j]+ontime[j]-1)))\n",
    "#         if rang != []:\n",
    "#             Constraints_det.append(on_off[j,rang]<=1-indi)\n",
    "\n",
    "for i in range(1,n_h):\n",
    "    for j in range (num_p):\n",
    "        if i != 0:\n",
    "            indi=(on_off[j,i] - on_off[j,i-1])\n",
    "        else:\n",
    "            indi=on_off[j,i]\n",
    "        rang= range(i,min(n_h,int(i+min_up[j]-1)))\n",
    "        Constraints_det.append(on_off[j,rang]>=indi)\n",
    "            \n",
    "            \n",
    "for i in range(1,n_h):\n",
    "    for j in range (num_p):\n",
    "        indi=(on_off[j,i-1]-on_off[j,i] )\n",
    "        rang= range(i,min(n_h,int(i+min_down[j]-1)))\n",
    "        if rang != []:\n",
    "            Constraints_det.append(on_off[j,rang]<=1-indi)\n",
    "\n",
    "\n",
    "\n",
    "for i in range(1,n_h):\n",
    "    Objective_det=Objective_det + sum(mul_elemwise(on_off_cost[:],max_elemwise(on_off[:,i] - on_off[:,i-1],0)))\n",
    "    \n",
    "Objective_det=Objective_det + sum(mul_elemwise(on_off_cost[:],max_elemwise(on_off[:,0] - on_off_init,0)))            \n",
    "\n",
    "slope_update=0\n",
    "\n",
    "on_off_value=np.matrix(np.zeros((num_p,n_h)))\n",
    "\n",
    "Objective_approx=0\n",
    "Constraints_approx=[]\n",
    "Objective_approx, Constraints_approx=second_stage(on_off_value=on_off_param,PWL=True )\n",
    "prob_approx=[]\n",
    "prob_approx=Problem(Minimize(Objective_approx),Constraints_approx)\n",
    "\n",
    "Objective=0\n",
    "Constraints=[]\n",
    "Objective,Constraints=second_stage(on_off_value=on_off_param,PWL=False )\n",
    "prob=[]\n",
    "prob=Problem(Minimize(Objective),Constraints)\n",
    "\n",
    "slope_update=sum([-(g_k2[i,:])*(on_off[:,i]) +(g_k2[n_h+i,:])*(on_off[:,i]) for i in range(n_h) ])\n",
    "prob_det = []\n",
    "prob_det = Problem(Minimize(Objective_det+slope_update), Constraints_det)\n",
    "\n"
   ]
  },
  {
   "cell_type": "code",
   "execution_count": null,
   "metadata": {
    "collapsed": false
   },
   "outputs": [],
   "source": []
  },
  {
   "cell_type": "code",
   "execution_count": 178,
   "metadata": {
    "collapsed": false,
    "scrolled": true
   },
   "outputs": [
    {
     "name": "stdout",
     "output_type": "stream",
     "text": [
      "start\n",
      "solving MILP 1.97352790833\n",
      "solving LP\n",
      "ECOS\n",
      "solving QP\n",
      "ECOS\n",
      "time  2.83370089531\n"
     ]
    }
   ],
   "source": [
    "# Hybrid Algorithm\n",
    "det=[]\n",
    "g_k1=[]\n",
    "g_k2.value=np.zeros((2*n_h,num_p))\n",
    "on_off_array=[]\n",
    "time_eval=[]\n",
    "print \"start\"\n",
    "\n",
    "for k in range (1):\n",
    "    st=time.time()\n",
    "    r_parameter.value=r\n",
    "    print \"solving MILP\",\n",
    "    F_eval=prob_det.solve(solver=GUROBI,MIPGap=1e-2,warm_start=True,verbose=False)#GUROBI,MIPGap=1e-1,\n",
    "    print time.time()-st\n",
    "    det.append(F_eval)\n",
    "    on_off_value=np.rint(on_off.value)\n",
    "    on_off_array.append(on_off_value)\n",
    "    print \"solving LP\"\n",
    "    Q_eval_approx,delta_slope_approx1,delta_slope_approx2=eval_on_off(on_off_value=on_off_value,r=r,\n",
    "                                       prob=prob_approx,Constraints=Constraints_approx,duals=True,solver=ECOS)\n",
    "    print \"solving QP\"\n",
    "    Q_eval,delta_slope1,delta_slope2=eval_on_off(on_off_value=on_off_value,r=scenarios_bus[:,:,k],\n",
    "                                     prob=prob,Constraints=Constraints,duals=True,solver=ECOS)\n",
    "    \n",
    "\n",
    "    alpha=1./(k+1+50)\n",
    "    if k != 0:\n",
    "        dg = (np.concatenate((delta_slope1,delta_slope2),axis=0)\n",
    "        - np.concatenate((delta_slope_approx1,delta_slope_approx2),axis=0) - g_k1[-1])\n",
    "        g_k1.append(g_k1[-1] + alpha*dg )\n",
    "        g_k2.value= g_k1[-1] \n",
    "    else:\n",
    "        dg = np.concatenate((delta_slope1,delta_slope2),axis=0)- np.concatenate((delta_slope_approx1,delta_slope_approx2),axis=0)\n",
    "        g_k1.append(alpha*dg)\n",
    "        g_k2.value = g_k1[-1]\n",
    "    time_eval.append(time.time()-st)\n",
    "    print \"time \",time_eval[-1]\n",
    "    \n"
   ]
  },
  {
   "cell_type": "code",
   "execution_count": 179,
   "metadata": {
    "collapsed": false
   },
   "outputs": [
    {
     "data": {
      "text/plain": [
       "matrix([[ 0.,  0.,  0.,  0.,  0.,  0.,  0.,  1.,  1.,  1.,  1.,  1.,  1.,\n",
       "          1.,  1.,  1.,  1.,  0.,  0.,  0.,  0.,  0.,  0.,  0.],\n",
       "        [ 0.,  0.,  0.,  0.,  0.,  0.,  0.,  1.,  1.,  1.,  1.,  1.,  1.,\n",
       "          1.,  1.,  1.,  1.,  1.,  1.,  1.,  0.,  0.,  0.,  0.],\n",
       "        [ 0.,  0.,  0.,  0.,  0.,  0.,  1.,  1.,  1.,  1.,  1.,  1.,  1.,\n",
       "          1.,  1.,  1.,  1.,  1.,  1.,  1.,  0.,  0.,  0.,  0.],\n",
       "        [ 0.,  0.,  0.,  0.,  0.,  1.,  1.,  1.,  1.,  1.,  1.,  1.,  1.,\n",
       "          1.,  1.,  1.,  1.,  1.,  1.,  1.,  1.,  1.,  1.,  1.],\n",
       "        [ 1.,  1.,  1.,  1.,  1.,  1.,  1.,  1.,  1.,  1.,  1.,  1.,  1.,\n",
       "          1.,  1.,  1.,  1.,  1.,  1.,  1.,  1.,  1.,  1.,  1.]])"
      ]
     },
     "execution_count": 179,
     "metadata": {},
     "output_type": "execute_result"
    }
   ],
   "source": [
    "on_off.value"
   ]
  },
  {
   "cell_type": "code",
   "execution_count": 90,
   "metadata": {
    "collapsed": false
   },
   "outputs": [],
   "source": [
    "ind=np.zeros((n_h,num_p))\n",
    "for i in range(0,n_h):\n",
    "    for j in range (num_p):\n",
    "        if i !=0:\n",
    "            ind[i,j]=(on_off.value[j,i] - on_off.value[j,i-1])\n",
    "        else:\n",
    "            ind[i,j]=on_off.value[j,i]"
   ]
  },
  {
   "cell_type": "code",
   "execution_count": 91,
   "metadata": {
    "collapsed": false
   },
   "outputs": [
    {
     "data": {
      "text/plain": [
       "60"
      ]
     },
     "execution_count": 91,
     "metadata": {},
     "output_type": "execute_result"
    }
   ],
   "source": [
    "np.sum(ind[:,:]>0.5)"
   ]
  },
  {
   "cell_type": "code",
   "execution_count": 92,
   "metadata": {
    "collapsed": false
   },
   "outputs": [
    {
     "data": {
      "text/plain": [
       "26.0"
      ]
     },
     "execution_count": 92,
     "metadata": {},
     "output_type": "execute_result"
    }
   ],
   "source": [
    "np.sum(on_off.value[:,0])"
   ]
  },
  {
   "cell_type": "code",
   "execution_count": 44,
   "metadata": {
    "collapsed": false
   },
   "outputs": [
    {
     "data": {
      "text/plain": [
       "6240"
      ]
     },
     "execution_count": 44,
     "metadata": {},
     "output_type": "execute_result"
    }
   ],
   "source": [
    "24*260"
   ]
  },
  {
   "cell_type": "code",
   "execution_count": 35,
   "metadata": {
    "collapsed": false
   },
   "outputs": [
    {
     "data": {
      "text/plain": [
       "[81.52440595626831,\n",
       " 33.44462299346924,\n",
       " 36.87092995643616,\n",
       " 34.23790097236633,\n",
       " 35.44130301475525,\n",
       " 27.93893003463745,\n",
       " 30.16293692588806,\n",
       " 35.98348093032837,\n",
       " 30.75041890144348,\n",
       " 35.78058385848999]"
      ]
     },
     "execution_count": 35,
     "metadata": {},
     "output_type": "execute_result"
    }
   ],
   "source": [
    "time_eval"
   ]
  },
  {
   "cell_type": "code",
   "execution_count": 105,
   "metadata": {
    "collapsed": false,
    "scrolled": true
   },
   "outputs": [
    {
     "data": {
      "image/png": "[encoded data removed]",
      "text/plain": [
       "<matplotlib.figure.Figure at 0x7f08f7f58b90>"
      ]
     },
     "metadata": {},
     "output_type": "display_data"
    }
   ],
   "source": [
    "plt.plot(det)\n",
    "plt.show()"
   ]
  },
  {
   "cell_type": "code",
   "execution_count": 180,
   "metadata": {
    "collapsed": false,
    "scrolled": false
   },
   "outputs": [
    {
     "data": {
      "image/png": "[encoded data removed]",
      "text/plain": [
       "<matplotlib.figure.Figure at 0x7f646a177810>"
      ]
     },
     "metadata": {},
     "output_type": "display_data"
    }
   ],
   "source": [
    "colors=['#d7191c','#fdae61','#abdda4','#2b83ba'] #['#ef8a62','#f7f7f7','#67a9cf','#008837']\n",
    "plt.figure(figsize=(10,10))\n",
    "plt.fill_between(range(n_h),np.zeros(n_h),np.squeeze(np.asarray(sum(p.value))),color=colors[3])\n",
    "plt.fill_between(range(n_h),np.squeeze(np.asarray(sum(p.value))),\n",
    "                 np.squeeze(np.asarray(sum(p.value)+sum(s.value))),\n",
    "                 color=colors[1])\n",
    "\n",
    "plt.fill_between(range(n_h),np.squeeze(np.asarray(sum(b))),\n",
    "                 np.squeeze(np.asarray(sum(load.value))),\n",
    "                 color=colors[0])\n",
    "plt.plot(range(n_h),np.squeeze(np.asarray(sum(b))),color='k',linewidth=3.0)\n",
    "# plt.fill_between(range(n_h),np.zeros(n_h),-np.squeeze(np.asarray(-sum(s.value)+sum(r))),color=colors[2])\n",
    "plt.legend(['Demand','Generation','Renewable','Demand not served','Curtailed Renewable '],loc='best')\n",
    "plt.show()"
   ]
  },
  {
   "cell_type": "code",
   "execution_count": 181,
   "metadata": {
    "collapsed": false,
    "scrolled": false
   },
   "outputs": [
    {
     "name": "stdout",
     "output_type": "stream",
     "text": [
      "[('Nuclear', 68.03368153829436), ('IGCC', 11.079147769970158), ('CCGT', 22.013017132268672), ('OCGT', 0.0), ('Coal', 0.0)]\n"
     ]
    },
    {
     "data": {
      "image/png": "[encoded data removed]",
      "text/plain": [
       "<matplotlib.figure.Figure at 0x7f6469e79690>"
      ]
     },
     "metadata": {},
     "output_type": "display_data"
    }
   ],
   "source": [
    "total_p_gen=np.sum(p.value,1)\n",
    "total_share=[]\n",
    "n_gen_per_tech=[]\n",
    "for name in name_techno:\n",
    "    total_share.append((name,np.sum([ total_p_gen[i] for i in range(num_p) if gen_tech[i]==name  ])))\n",
    "print total_share\n",
    "# sorted_name_techno=[x[0] for x in sorted(total_share,key =lambda x: x[1],reverse=True)]\n",
    "sorted_name_techno=['Nuclear','IGCC','Coal','CCGT','OCGT']\n",
    "colors=['#1b9e77','#d95f02','#7570b3','#e7298a','#66a61e']#list((['#f0f9e8','#bae4bc','#7bccc4','#43a2ca','#0868ac']))\n",
    "share_per_hour=np.zeros([len(name_techno)+1,n_h])\n",
    "plt.figure(figsize=(10,10))\n",
    "for idx,name in enumerate(sorted_name_techno):\n",
    "    share_per_hour[idx+1]=np.sum([ np.squeeze(np.asarray(p.value[i])) for i in range(num_p) if gen_tech[i]==name ],0)\n",
    "share_per_hour=np.cumsum(share_per_hour,0)\n",
    "for idx,name in enumerate(sorted_name_techno):\n",
    "    plt.fill_between(range(n_h),share_per_hour[idx],share_per_hour[idx+1],color=colors[idx])\n",
    "plt.legend(sorted_name_techno,loc='best')\n",
    "plt.show()\n",
    "\n",
    "for idx, name in enumerate(sorted_name_techno):\n",
    "    n_gen_per_tech.append(sum([1 for i in range(num_p) if gen_tech[i]==name]))"
   ]
  },
  {
   "cell_type": "code",
   "execution_count": 182,
   "metadata": {
    "collapsed": false
   },
   "outputs": [
    {
     "data": {
      "text/plain": [
       "2.3803272549762484"
      ]
     },
     "execution_count": 182,
     "metadata": {},
     "output_type": "execute_result"
    }
   ],
   "source": [
    "np.max(J*w.value)"
   ]
  },
  {
   "cell_type": "code",
   "execution_count": 183,
   "metadata": {
    "collapsed": false
   },
   "outputs": [
    {
     "name": "stdout",
     "output_type": "stream",
     "text": [
      "Nuclear\n",
      "IGCC\n",
      "Coal\n",
      "CCGT\n",
      "OCGT\n"
     ]
    },
    {
     "data": {
      "image/png": "[encoded data removed]",
      "text/plain": [
       "<matplotlib.figure.Figure at 0x7f647077ea10>"
      ]
     },
     "metadata": {},
     "output_type": "display_data"
    }
   ],
   "source": [
    "o_test=on_off_value\n",
    "sorted_name_techno=['Nuclear','IGCC','Coal','CCGT','OCGT']\n",
    "N = n_h\n",
    "ind = np.arange(N)  # the x locations for the groups\n",
    "width = 1\n",
    "aux=[]\n",
    "aux.append(np.zeros(N).T)\n",
    "cumsum_aux=np.zeros(N)\n",
    "fig, ax = plt.subplots(figsize=(10,10))\n",
    "# rects = ax.bar(ind, strategy1_optMean, width, color=color[0])\n",
    "colors=['#1b9e77','#d95f02','#7570b3','#e7298a','#66a61e']\n",
    "for idx,name in enumerate(sorted_name_techno):\n",
    "    print name\n",
    "    aux.append(np.array([np.sum(np.ceil(o_test[j,i]) for j in range (num_p) if gen_tech[j]==name) for i in range(n_h)]))\n",
    "    cumsum_aux=np.cumsum(aux,0)\n",
    "#     print aux[-1]\n",
    "    rects = ax.bar(ind, aux[idx+1], width, color=colors[idx],bottom=cumsum_aux[idx])\n",
    "plt.legend(sorted_name_techno,loc='best')  \n",
    "plt.show()\n"
   ]
  },
  {
   "cell_type": "code",
   "execution_count": 95,
   "metadata": {
    "collapsed": true
   },
   "outputs": [],
   "source": [
    "import pickle\n"
   ]
  },
  {
   "cell_type": "code",
   "execution_count": 107,
   "metadata": {
    "collapsed": true
   },
   "outputs": [],
   "source": [
    "pickle.dump( on_off_array, open( \"pickle/Stoch_Hybrid_ieee300_ecos_init_constraint_100_iter.p\", \"wb\" ) )"
   ]
  },
  {
   "cell_type": "code",
   "execution_count": 67,
   "metadata": {
    "collapsed": false
   },
   "outputs": [
    {
     "data": {
      "text/plain": [
       "matrix([[ 1.,  1.,  1., ...,  0.,  1.,  0.],\n",
       "        [ 0.,  0.,  0., ...,  0.,  1.,  1.],\n",
       "        [ 1.,  1.,  0., ...,  0.,  1.,  0.],\n",
       "        ..., \n",
       "        [ 1.,  1.,  1., ...,  0.,  1.,  0.],\n",
       "        [ 1.,  1.,  1., ...,  0.,  1.,  0.],\n",
       "        [ 1.,  1.,  1., ...,  0.,  1.,  0.]])"
      ]
     },
     "execution_count": 67,
     "metadata": {},
     "output_type": "execute_result"
    }
   ],
   "source": [
    "on_off_array[-1]"
   ]
  },
  {
   "cell_type": "code",
   "execution_count": null,
   "metadata": {
    "collapsed": true
   },
   "outputs": [],
   "source": []
  }
 ],
 "metadata": {
  "kernelspec": {
   "display_name": "Python 2",
   "language": "python",
   "name": "python2"
  },
  "language_info": {
   "codemirror_mode": {
    "name": "ipython",
    "version": 2
   },
   "file_extension": ".py",
   "mimetype": "text/x-python",
   "name": "python",
   "nbconvert_exporter": "python",
   "pygments_lexer": "ipython2",
   "version": "2.7.12"
  }
 },
 "nbformat": 4,
 "nbformat_minor": 1
}
