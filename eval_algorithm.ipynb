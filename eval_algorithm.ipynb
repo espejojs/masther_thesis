{
 "cells": [
  {
   "cell_type": "code",
   "execution_count": 1,
   "metadata": {
    "collapsed": true
   },
   "outputs": [],
   "source": [
    "import numpy as np\n",
    "import pfnet as pf\n",
    "from scipy.sparse import triu,bmat,coo_matrix,eye,spdiags\n",
    "import matplotlib.pyplot as plt\n",
    "from scikits.sparse.cholmod import cholesky\n",
    "\n",
    "%matplotlib inline  "
   ]
  },
  {
   "cell_type": "code",
   "execution_count": 2,
   "metadata": {
    "collapsed": true
   },
   "outputs": [],
   "source": [
    "from cvxpy import *\n",
    "import mosek\n",
    "import gurobi\n",
    "import pickle\n",
    "import dill\n",
    "import time"
   ]
  },
  {
   "cell_type": "code",
   "execution_count": 3,
   "metadata": {
    "collapsed": false
   },
   "outputs": [],
   "source": [
    "# sys.setrecursionlimit(10000)"
   ]
  },
  {
   "cell_type": "code",
   "execution_count": 4,
   "metadata": {
    "collapsed": false
   },
   "outputs": [],
   "source": [
    "# dill.load_session(filename='pickle/test_sess.pkl')"
   ]
  },
  {
   "cell_type": "code",
   "execution_count": 5,
   "metadata": {
    "collapsed": false
   },
   "outputs": [],
   "source": [
    "results=dill.load( open( \"pickle/Stoch_Benders_ieee14_100iter_10loadp_significantmultiplier.p\", \"rb\" ) )\n",
    "# scenarios_bus=dill.load( open( \"pickle/scenarios_bus.p\", \"rb\" ) )\n",
    "# Constraints=list(dill.load( open( \"pickle/Constraints.p\", \"rb\" )))\n",
    "# Objective=dill.load( open( \"pickle/Objective.p\", \"rb\" ) )\n",
    "# on_off_cost=pickle.load( open( \"pickle/on_off_cost.p\", \"rb\" ) )\n",
    "# variables=dill.load( open( \"pickle/variables.p\", \"rb\" ) )\n",
    "# constants=dill.load( open( \"pickle/constants.p\", \"rb\" ) )"
   ]
  },
  {
   "cell_type": "code",
   "execution_count": 6,
   "metadata": {
    "collapsed": false
   },
   "outputs": [],
   "source": [
    "# results['time_SS']"
   ]
  },
  {
   "cell_type": "code",
   "execution_count": 7,
   "metadata": {
    "collapsed": false
   },
   "outputs": [],
   "source": [
    "# Constraints=list(results['Constraint'])\n",
    "# Objective=results['Objective']\n",
    "# variables=results['variables']\n",
    "# constants=results['constants']"
   ]
  },
  {
   "cell_type": "code",
   "execution_count": 8,
   "metadata": {
    "collapsed": false
   },
   "outputs": [],
   "source": [
    "for res in results.keys():\n",
    "    exec (res + \"= results[res]\")"
   ]
  },
  {
   "cell_type": "code",
   "execution_count": 9,
   "metadata": {
    "collapsed": false
   },
   "outputs": [],
   "source": [
    "for var in variables.keys():\n",
    "    exec (var + \"= variables[var]\")\n",
    "for cons in constants.keys():\n",
    "    exec (cons + \"= constants[cons]\")"
   ]
  },
  {
   "cell_type": "code",
   "execution_count": 10,
   "metadata": {
    "collapsed": false
   },
   "outputs": [],
   "source": [
    "# p=variables['p']\n",
    "# w=variables['w']\n",
    "# s=variables['s']\n",
    "# load=variables['load']\n",
    "# gk=variables['gk']\n",
    "\n",
    "\n",
    "# Load_Penalty=constants['Load_Penalty']\n",
    "# ontime=constants['ontime']\n",
    "# H0=constants['H0']\n",
    "# g0=constants['g0']\n",
    "# pwl_cost=constants['pwl_cost']\n",
    "# on_off_cost=constants['on_off_cost']\n",
    "# p_max=constants['p_max']\n",
    "# p_min=constants['p_min']\n",
    "# b=constants['b']\n",
    "# rampup=constants['rampup']\n",
    "# rampdown=constants['rampdown']\n",
    "# w_max=constants['w_max']\n",
    "# w_min=constants['w_min']\n",
    "# z_max=constants['z_max']\n",
    "# z_min=constants['z_min']\n",
    "# on_off_init=constants['on_off_init']\n",
    "# pwl_points=constants['pwl_points']\n",
    "# G=constants['G']\n",
    "# Dm=constants['Dm']\n",
    "# R=constants['R']\n",
    "# A=constants['A']\n",
    "# n_h=constants['n_h']\n",
    "# num_p=constants['num_p']\n",
    "\n",
    "# J=constants['J']\n",
    "# PWL=constants['PWL']\n",
    "# on_off_init=constants['on_off_init']\n",
    "# n_samples=constants['n_samples']\n",
    "# n_test=constants['n_test']\n",
    "\n",
    "\n",
    "# scenarios_bus=results['scenarios_bus']"
   ]
  },
  {
   "cell_type": "code",
   "execution_count": 11,
   "metadata": {
    "collapsed": false
   },
   "outputs": [],
   "source": [
    "p=Variable(p.size[0],p.size[1])\n",
    "w=Variable(w.size[0],w.size[1])\n",
    "s=Variable(s.size[0],s.size[1])\n",
    "load=Variable(load.size[0],load.size[1])\n",
    "on_off_param=Parameter(num_p,n_h)\n",
    "r_parameter=Parameter(s.size[0],s.size[1])\n",
    "\n",
    "\n",
    "if PWL:\n",
    "    gk=Variable(gk.size[0],gk.size[1])\n",
    "\n",
    "on_off_value=np.zeros((num_p,n_h))\n",
    "on_off_init=np.zeros(num_p)"
   ]
  },
  {
   "cell_type": "code",
   "execution_count": 12,
   "metadata": {
    "collapsed": false
   },
   "outputs": [],
   "source": [
    "r=np.mean(scenarios_bus,2)"
   ]
  },
  {
   "cell_type": "code",
   "execution_count": 13,
   "metadata": {
    "collapsed": false
   },
   "outputs": [
    {
     "data": {
      "image/png": "[encoded data removed]",
      "text/plain": [
       "<matplotlib.figure.Figure at 0x7f67bd42ca10>"
      ]
     },
     "metadata": {},
     "output_type": "display_data"
    }
   ],
   "source": [
    "optimal=2111.7#253433\n",
    "plt.plot(results['upper'][0::])\n",
    "plt.plot(results['lower'][0::])\n",
    "plt.plot(range(len(results['upper'])),np.ones(len(results['upper']))*(optimal))\n",
    "plt.ylim(1e3,5e3)\n",
    "plt.show()"
   ]
  },
  {
   "cell_type": "code",
   "execution_count": 14,
   "metadata": {
    "collapsed": false
   },
   "outputs": [],
   "source": [
    "def eval_obj (on_off,on_off_cost=on_off_cost,n_h=24):\n",
    "    obj_eval=0\n",
    "    for i in range(1,n_h):\n",
    "        obj_eval = obj_eval + np.sum(on_off_cost*np.maximum(on_off[:,i] - on_off[:,i-1],0))\n",
    "    obj_eval = obj_eval + np.sum((on_off_cost)*np.maximum(on_off[:,0].T - on_off_init,0).T)\n",
    "\n",
    "#     for i in range (n_h):\n",
    "#         if PWL:\n",
    "#             for j in range(pwl_points):\n",
    "#                 for k in range(num_p):\n",
    "#                     obj_eval=obj_eval + gk[k+(num_p*j),i]*pwl_cost[k,j]\n",
    "#         else:\n",
    "#             obj_eval=obj_eval + 0.5*p[:,i].T*H0*p[:,i]\n",
    "#             obj_eval=obj_eval + g0*p[:,i]# check \n",
    "\n",
    "#         obj_eval=obj_eval + Load_Penalty*np.linalg.norm(load[:,i]-b[:,i],1)\n",
    "        \n",
    "    return obj_eval\n"
   ]
  },
  {
   "cell_type": "code",
   "execution_count": 15,
   "metadata": {
    "collapsed": true
   },
   "outputs": [],
   "source": [
    "PWL=True"
   ]
  },
  {
   "cell_type": "code",
   "execution_count": 16,
   "metadata": {
    "collapsed": true
   },
   "outputs": [],
   "source": [
    "#         Constraints.append([gk[num_p*j:num_p*(j+1),i]<=p_max/(pwl_points) for j in range(pwl_points)][0])\n",
    "#         Constraints.append([gk[num_p*j:num_p*(j+1),i]>=0 for j in range(pwl_points)][0])"
   ]
  },
  {
   "cell_type": "code",
   "execution_count": 17,
   "metadata": {
    "collapsed": false
   },
   "outputs": [],
   "source": [
    "# init constraints second stage\n",
    "\n",
    "Constraints=[]\n",
    "for i in range (n_h):\n",
    "    Constraints.append(p[:,i]<=mul_elemwise(p_max[:],on_off_param[:,i]))\n",
    "for i in range (n_h):\n",
    "    Constraints.append(p[:,i]>=mul_elemwise(p_min[:],on_off_param[:,i]))\n",
    "for i in range (n_h):\n",
    "    Constraints.append(s[:,i]<=r_parameter[:,i])\n",
    "\n",
    "for i in range (n_h):\n",
    "    if PWL:\n",
    "        for j in range (pwl_points):\n",
    "            Constraints.append(gk[num_p*j:num_p*(j+1),i]<=p_max/(pwl_points))\n",
    "            Constraints.append(gk[num_p*j:num_p*(j+1),i]>=0)\n",
    "    \n",
    "        Constraints.append( p[:,i]== np.sum ([gk[num_p*j:num_p*(j+1),i] for j in range(pwl_points)]) )\n",
    "       \n",
    "    Constraints.append(G*p[:,i]+R*s[:,i]-A*w[:,i]==Dm*load[:,i])\n",
    "    Constraints.append(w[:,i]<=w_max)\n",
    "    Constraints.append(w[:,i]>=w_min)\n",
    "    Constraints.append(J*w[:,i]<=z_max)\n",
    "    Constraints.append(J*w[:,i]>=z_min)\n",
    "    #Changed here\n",
    "    Constraints.append(s[:,i]>=0)\n",
    "    Constraints.append(load[:,i]>=0)\n",
    "    Constraints.append(load[:,i]<=b[:,i])\n",
    "for i in range(1,n_h):\n",
    "    Constraints.append(p[:,i]-p[:,i-1]<=rampup[:])\n",
    "    Constraints.append(p[:,i]-p[:,i-1]>=-rampdown[:])   \n",
    "    \n",
    "\n",
    "# init objective secon stage\n",
    "\n",
    "Objective=0\n",
    "for i in range (n_h):\n",
    "    if PWL:\n",
    "        for j in range(pwl_points):\n",
    "            Objective=Objective + sum_entries(mul_elemwise(pwl_cost[:,j],gk[num_p*j:num_p*(j+1),i]))\n",
    "#             for k in range(num_p):\n",
    "#                 Objective=Objective + gk[k+(num_p*j),i]*pwl_cost[k,j]\n",
    "    else:\n",
    "        Objective=Objective + quad_form(p[:,i],H0*0.5)\n",
    "        Objective=Objective + g0*p[:,i]# check \n",
    "        \n",
    "    Objective=Objective + Load_Penalty*norm(load[:,i]-b[:,i],1)\n",
    "# Objective=Objective/10\n",
    "prob = []\n",
    "prob = Problem(Minimize(Objective), Constraints)"
   ]
  },
  {
   "cell_type": "code",
   "execution_count": 18,
   "metadata": {
    "collapsed": false
   },
   "outputs": [],
   "source": [
    "def plot_demand(p,load,s,r,b,n_h):\n",
    "    colors=['#d7191c','#fdae61','#abdda4','#2b83ba'] #['#ef8a62','#f7f7f7','#67a9cf','#008837']\n",
    "    plt.figure(figsize=(10,10))\n",
    "    plt.fill_between(range(n_h),np.zeros(n_h),np.squeeze(np.asarray(sum(p))),color=colors[3])\n",
    "    plt.fill_between(range(n_h),np.squeeze(np.asarray(sum(p))),\n",
    "                     np.squeeze(np.asarray(sum(p)+sum(s))),\n",
    "                     color=colors[1])\n",
    "\n",
    "    plt.fill_between(range(n_h),np.squeeze(np.asarray(sum(b))),\n",
    "                     np.squeeze(np.asarray(sum(load))),\n",
    "                     color=colors[0])\n",
    "    plt.plot(range(n_h),np.squeeze(np.asarray(sum(b))),color='k',linewidth=3.0)\n",
    "    plt.fill_between(range(n_h),np.zeros(n_h),-np.squeeze(np.asarray(np.abs(-sum(s)+sum(r)))),color=colors[2])\n",
    "    plt.legend(['Demand','Generation','Renewable','Demand not served','Curtailed Renewable '],loc='best')\n",
    "    plt.show()"
   ]
  },
  {
   "cell_type": "code",
   "execution_count": 22,
   "metadata": {
    "collapsed": false
   },
   "outputs": [],
   "source": [
    "def eval_on_off(on_off_value,r,duals=False,n_h=n_h,num_p=num_p):     \n",
    "    on_off_param.value=on_off_value\n",
    "    r_parameter.value=r\n",
    "    Q=prob.solve(solver=ECOS,verbose=False,\n",
    "                 #Method=1,#FeasibilityTol=1e-2\n",
    "                )#GUROBI,BarQCPConvTol=1e-8\n",
    "          \n",
    "    if not duals:\n",
    "        return Q,p.value,load.value,s.value"
   ]
  },
  {
   "cell_type": "code",
   "execution_count": 20,
   "metadata": {
    "collapsed": false
   },
   "outputs": [
    {
     "data": {
      "text/plain": [
       "92"
      ]
     },
     "execution_count": 20,
     "metadata": {},
     "output_type": "execute_result"
    }
   ],
   "source": [
    "np.where(results['upper']==np.min(results['upper']))[0][0]"
   ]
  },
  {
   "cell_type": "code",
   "execution_count": 51,
   "metadata": {
    "collapsed": true
   },
   "outputs": [],
   "source": [
    "on_off_value = pickle.load(open( \"pickle/ieee14_test_hybrid_gurobi.p\", \"rb\" ) )"
   ]
  },
  {
   "cell_type": "code",
   "execution_count": 40,
   "metadata": {
    "collapsed": false
   },
   "outputs": [
    {
     "name": "stdout",
     "output_type": "stream",
     "text": [
      "start 193.044145107\n"
     ]
    }
   ],
   "source": [
    "\n",
    "Q_value=[]\n",
    "p_value=[]\n",
    "load_value=[]\n",
    "s_value=[]\n",
    "test_on_off=92\n",
    "o_test=on_off_value\n",
    "ocost=eval_obj(on_off=o_test)#results['on_off_array'][0]\n",
    "st=time.time()\n",
    "print \"start\",\n",
    "st=time.time()\n",
    "for m in range(n_samples,n_samples+n_test):\n",
    "    \n",
    "\n",
    "    Qaux,paux,loadaux,saux=eval_on_off(on_off_value=o_test,r=scenarios_bus[:,:,m],)\n",
    "\n",
    "    Q_value.append(ocost+Qaux)\n",
    "    p_value.append(paux)\n",
    "    load_value.append(loadaux)\n",
    "    s_value.append(saux)\n",
    "print time.time()-st"
   ]
  },
  {
   "cell_type": "code",
   "execution_count": 31,
   "metadata": {
    "collapsed": false
   },
   "outputs": [
    {
     "name": "stdout",
     "output_type": "stream",
     "text": [
      "2068.28763712 2318.37584438 1936.5051903\n"
     ]
    }
   ],
   "source": [
    "print np.mean(Q_value),np.max(Q_value),np.min(Q_value) # Ecos "
   ]
  },
  {
   "cell_type": "code",
   "execution_count": 32,
   "metadata": {
    "collapsed": false
   },
   "outputs": [
    {
     "name": "stdout",
     "output_type": "stream",
     "text": [
      "2038.4271447 2306.63833331 1899.75377776\n"
     ]
    }
   ],
   "source": [
    "print np.mean(Q_value),np.max(Q_value),np.min(Q_value) # Ecos > tolerance e-8"
   ]
  },
  {
   "cell_type": "code",
   "execution_count": 41,
   "metadata": {
    "collapsed": false
   },
   "outputs": [
    {
     "name": "stdout",
     "output_type": "stream",
     "text": [
      "2060.73492232 2366.30689754 1927.33462384\n"
     ]
    }
   ],
   "source": [
    "print np.mean(Q_value),np.max(Q_value),np.min(Q_value) # Ecos > tolerance e-10"
   ]
  },
  {
   "cell_type": "code",
   "execution_count": 25,
   "metadata": {
    "collapsed": false
   },
   "outputs": [
    {
     "name": "stdout",
     "output_type": "stream",
     "text": [
      "2024.96844071 2750.24486394 1870.53979129\n"
     ]
    }
   ],
   "source": [
    "print np.mean(Q_value),np.max(Q_value),np.min(Q_value) # Gurobi"
   ]
  },
  {
   "cell_type": "code",
   "execution_count": 29,
   "metadata": {
    "collapsed": false
   },
   "outputs": [
    {
     "name": "stdout",
     "output_type": "stream",
     "text": [
      "2111.79667042 2245.84657986 2005.16745135\n"
     ]
    }
   ],
   "source": [
    "print np.mean(Q_value),np.max(Q_value),np.min(Q_value) # No renewables "
   ]
  },
  {
   "cell_type": "code",
   "execution_count": 42,
   "metadata": {
    "collapsed": false
   },
   "outputs": [
    {
     "data": {
      "image/png": "[encoded data removed]",
      "text/plain": [
       "<matplotlib.figure.Figure at 0x7f67ba5a94d0>"
      ]
     },
     "metadata": {},
     "output_type": "display_data"
    }
   ],
   "source": [
    "plt.hist(Q_value,bins='auto')\n",
    "plt.show()"
   ]
  },
  {
   "cell_type": "code",
   "execution_count": 32,
   "metadata": {
    "collapsed": false
   },
   "outputs": [
    {
     "data": {
      "image/png": "[encoded data removed]",
      "text/plain": [
       "<matplotlib.figure.Figure at 0x7f7ef5f4fd50>"
      ]
     },
     "metadata": {},
     "output_type": "display_data"
    }
   ],
   "source": [
    "plot_demand(p=np.mean(p_value,0),load=np.mean(load_value,0),s=np.mean(s_value,0),r=np.mean(scenarios_bus,2),b=b,n_h=n_h)"
   ]
  },
  {
   "cell_type": "code",
   "execution_count": 52,
   "metadata": {
    "collapsed": false
   },
   "outputs": [
    {
     "name": "stdout",
     "output_type": "stream",
     "text": [
      "Nuclear\n",
      "IGCC\n",
      "Coal\n",
      "CCGT\n",
      "OCGT\n"
     ]
    },
    {
     "data": {
      "image/png": "[encoded data removed]",
      "text/plain": [
       "<matplotlib.figure.Figure at 0x7f67b9e9c7d0>"
      ]
     },
     "metadata": {},
     "output_type": "display_data"
    }
   ],
   "source": [
    "gen_tech=['CCGT', 'CCGT', 'CCGT', 'IGCC', 'Nuclear'], \n",
    "\n",
    "sorted_name_techno=['Nuclear','IGCC','Coal','CCGT','OCGT']\n",
    "N = n_h\n",
    "ind = np.arange(N)  # the x locations for the groups\n",
    "width = 1\n",
    "aux=[]\n",
    "aux.append(np.zeros(N).T)\n",
    "cumsum_aux=np.zeros(N)\n",
    "fig, ax = plt.subplots(figsize=(10,10))\n",
    "# rects = ax.bar(ind, strategy1_optMean, width, color=color[0])\n",
    "colors=['#1b9e77','#d95f02','#7570b3','#e7298a','#66a61e']\n",
    "for idx,name in enumerate(sorted_name_techno):\n",
    "    print name\n",
    "    aux.append(np.array([np.sum(np.ceil(o_test[j,i]) for j in range (num_p) if gen_tech[0][j]==name) for i in range(n_h)]))\n",
    "    cumsum_aux=np.cumsum(aux,0)\n",
    "#     print aux[-1]\n",
    "    rects = ax.bar(ind, aux[idx+1], width, color=colors[idx],bottom=cumsum_aux[idx])\n",
    "plt.legend(sorted_name_techno,loc='best')  \n",
    "plt.show()\n"
   ]
  },
  {
   "cell_type": "code",
   "execution_count": 26,
   "metadata": {
    "collapsed": false
   },
   "outputs": [
    {
     "data": {
      "text/plain": [
       "array([ 0.19903695,  0.21210064,  0.29808394, ...,  0.35351166,\n",
       "        0.35422405,  0.36606628])"
      ]
     },
     "execution_count": 26,
     "metadata": {},
     "output_type": "execute_result"
    }
   ],
   "source": [
    "scenarios_bus[0,0,:]"
   ]
  },
  {
   "cell_type": "code",
   "execution_count": null,
   "metadata": {
    "collapsed": true
   },
   "outputs": [],
   "source": []
  }
 ],
 "metadata": {
  "kernelspec": {
   "display_name": "Python 2",
   "language": "python",
   "name": "python2"
  },
  "language_info": {
   "codemirror_mode": {
    "name": "ipython",
    "version": 2
   },
   "file_extension": ".py",
   "mimetype": "text/x-python",
   "name": "python",
   "nbconvert_exporter": "python",
   "pygments_lexer": "ipython2",
   "version": "2.7.12"
  }
 },
 "nbformat": 4,
 "nbformat_minor": 0
}
