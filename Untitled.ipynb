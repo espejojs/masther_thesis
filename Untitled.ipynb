{
 "cells": [
  {
   "cell_type": "code",
   "execution_count": 49,
   "metadata": {
    "collapsed": false,
    "scrolled": false
   },
   "outputs": [],
   "source": [
    "# for decimal division\n",
    "from __future__ import division\n",
    "\n",
    "# import cvxopt\n",
    "import numpy as np\n",
    "from pylab import *\n",
    "import math\n",
    "import mosek\n",
    "from cvxpy import *\n",
    "\n",
    "# Taken from CVX website http://cvxr.com/cvx/examples/\n",
    "# Example: CVX Textbook exercise 4.3: Solve a simple QP with inequality constraints\n",
    "# Ported from cvx matlab to cvxpy by Misrab Faizullah-Khan\n",
    "# Original comments below\n",
    "\n",
    "\n",
    "# From Boyd & Vandenberghe, \"Convex Optimization\"\n",
    "# Joelle Skaf - 09/26/05\n",
    "#\n",
    "# Solves the following QP with inequality constraints:\n",
    "#           minimize    1/2x'*P*x + q'*x + r\n",
    "#               s.t.    -1 <= x_i <= 1      for i = 1,2,3\n",
    "# Also shows that the given x_star is indeed optimal\n",
    "\n",
    "# Generate data\n",
    "n = 3\n",
    "P = np.matrix([[13, 12, -2,],\n",
    "                    [12, 17, 6,],\n",
    "                    [-2, 6, 12]])\n",
    "q = np.matrix([-22, -14.5, 13])\n",
    "r = 1\n",
    "x_star = np.matrix([1, 1/2, -1])\n",
    "\n",
    "# Frame and solve the problem\n",
    "\n",
    "x = Variable(n)\n",
    "objective = Minimize(  0.5 * quad_form(x, P)  + q * x  )\n",
    "constraints = [ x >= -1, x <= 1]\n",
    "mosek_params = {\n",
    "                 mosek.dparam.basis_tol_x: 1e-8,\n",
    "                 \"MSK_IPAR_INTPNT_MAX_ITERATIONS\": 20\n",
    "             }\n",
    "p = Problem(objective, constraints)\n",
    "# The optimal objective is returned by p.solve().\n",
    "result = p.solve(solver=MOSEK,mosek_params=mosek_params)"
   ]
  },
  {
   "cell_type": "code",
   "execution_count": 50,
   "metadata": {
    "collapsed": false
   },
   "outputs": [
    {
     "data": {
      "text/plain": [
       "intpnt_co_tol_infeas"
      ]
     },
     "execution_count": 50,
     "metadata": {},
     "output_type": "execute_result"
    }
   ],
   "source": [
    "mosek.dparam.intpnt_co_tol_infeas"
   ]
  },
  {
   "cell_type": "code",
   "execution_count": null,
   "metadata": {
    "collapsed": true
   },
   "outputs": [],
   "source": []
  }
 ],
 "metadata": {
  "kernelspec": {
   "display_name": "Python 2",
   "language": "python",
   "name": "python2"
  },
  "language_info": {
   "codemirror_mode": {
    "name": "ipython",
    "version": 2
   },
   "file_extension": ".py",
   "mimetype": "text/x-python",
   "name": "python",
   "nbconvert_exporter": "python",
   "pygments_lexer": "ipython2",
   "version": "2.7.12"
  }
 },
 "nbformat": 4,
 "nbformat_minor": 0
}
