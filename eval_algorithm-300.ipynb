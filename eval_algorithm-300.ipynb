{
 "cells": [
  {
   "cell_type": "code",
   "execution_count": 1,
   "metadata": {
    "collapsed": true
   },
   "outputs": [],
   "source": [
    "import numpy as np\n",
    "import pfnet as pf\n",
    "from scipy.sparse import triu,bmat,coo_matrix,eye,spdiags\n",
    "import matplotlib.pyplot as plt\n",
    "from scikits.sparse.cholmod import cholesky\n",
    "\n",
    "%matplotlib inline  "
   ]
  },
  {
   "cell_type": "code",
   "execution_count": 2,
   "metadata": {
    "collapsed": true
   },
   "outputs": [],
   "source": [
    "from multiprocess import Pool,cpu_count"
   ]
  },
  {
   "cell_type": "code",
   "execution_count": 3,
   "metadata": {
    "collapsed": true
   },
   "outputs": [],
   "source": [
    "from cvxpy import *\n",
    "import mosek\n",
    "import gurobi\n",
    "import pickle\n",
    "import dill\n",
    "import time"
   ]
  },
  {
   "cell_type": "code",
   "execution_count": 4,
   "metadata": {
    "collapsed": false
   },
   "outputs": [],
   "source": [
    "# sys.setrecursionlimit(10000)"
   ]
  },
  {
   "cell_type": "code",
   "execution_count": 5,
   "metadata": {
    "collapsed": false
   },
   "outputs": [],
   "source": [
    "# dill.load_session(filename='pickle/test_sess.pkl')"
   ]
  },
  {
   "cell_type": "code",
   "execution_count": 6,
   "metadata": {
    "collapsed": false
   },
   "outputs": [],
   "source": [
    "results=dill.load( open( \"pickle/Stoch_Hybrid_ieee300_100iter_3pwl_gurobi_mingap_cluster2.p\", \"rb\" ) )\n",
    "# scenarios_bus=dill.load( open( \"pickle/scenarios_bus.p\", \"rb\" ) )\n",
    "# Constraints=list(dill.load( open( \"pickle/Constraints.p\", \"rb\" )))\n",
    "# Objective=dill.load( open( \"pickle/Objective.p\", \"rb\" ) )\n",
    "# on_off_cost=pickle.load( open( \"pickle/on_off_cost.p\", \"rb\" ) )\n",
    "# variables=dill.load( open( \"pickle/variables.p\", \"rb\" ) )\n",
    "# constants=dill.load( open( \"pickle/constants.p\", \"rb\" ) )"
   ]
  },
  {
   "cell_type": "code",
   "execution_count": 7,
   "metadata": {
    "collapsed": false
   },
   "outputs": [],
   "source": [
    "# results['time_SS']"
   ]
  },
  {
   "cell_type": "code",
   "execution_count": 8,
   "metadata": {
    "collapsed": false
   },
   "outputs": [],
   "source": [
    "# Constraints=list(results['Constraint'])\n",
    "# Objective=results['Objective']\n",
    "# variables=results['variables']\n",
    "# constants=results['constants']"
   ]
  },
  {
   "cell_type": "code",
   "execution_count": 9,
   "metadata": {
    "collapsed": false
   },
   "outputs": [],
   "source": [
    "for res in results.keys():\n",
    "    exec (res + \"= results[res]\")"
   ]
  },
  {
   "cell_type": "code",
   "execution_count": 10,
   "metadata": {
    "collapsed": false
   },
   "outputs": [],
   "source": [
    "for var in variables.keys():\n",
    "    exec (var + \"= variables[var]\")\n",
    "for cons in constants.keys():\n",
    "    exec (cons + \"= constants[cons]\")"
   ]
  },
  {
   "cell_type": "code",
   "execution_count": 11,
   "metadata": {
    "collapsed": false
   },
   "outputs": [],
   "source": [
    "p=Variable(p.size[0],p.size[1])\n",
    "w=Variable(w.size[0],w.size[1])\n",
    "s=Variable(s.size[0],s.size[1])\n",
    "load=Variable(load.size[0],load.size[1])\n",
    "on_off_param=Parameter(num_p,n_h)\n",
    "r_parameter=Parameter(s.size[0],s.size[1])\n",
    "\n",
    "\n",
    "if PWL:\n",
    "    gk=Variable(gk.size[0],gk.size[1])\n",
    "\n",
    "on_off_value=np.zeros((num_p,n_h))\n",
    "on_off_init=np.zeros(num_p)"
   ]
  },
  {
   "cell_type": "code",
   "execution_count": 12,
   "metadata": {
    "collapsed": false
   },
   "outputs": [],
   "source": [
    "r=np.mean(scenarios_bus,2)"
   ]
  },
  {
   "cell_type": "code",
   "execution_count": 13,
   "metadata": {
    "collapsed": false
   },
   "outputs": [],
   "source": [
    "def eval_obj (on_off,on_off_cost=on_off_cost,n_h=24):\n",
    "    obj_eval=0\n",
    "    for i in range(1,n_h):\n",
    "        obj_eval = obj_eval + np.sum(on_off_cost*np.maximum(on_off[:,i] - on_off[:,i-1],0))\n",
    "    obj_eval = obj_eval + np.sum((on_off_cost)*np.maximum(on_off[:,0].T - on_off_init,0).T)\n",
    "\n",
    "#     for i in range (n_h):\n",
    "#         if PWL:\n",
    "#             for j in range(pwl_points):\n",
    "#                 for k in range(num_p):\n",
    "#                     obj_eval=obj_eval + gk[k+(num_p*j),i]*pwl_cost[k,j]\n",
    "#         else:\n",
    "#             obj_eval=obj_eval + 0.5*p[:,i].T*H0*p[:,i]\n",
    "#             obj_eval=obj_eval + g0*p[:,i]# check \n",
    "\n",
    "#         obj_eval=obj_eval + Load_Penalty*np.linalg.norm(load[:,i]-b[:,i],1)\n",
    "        \n",
    "    return obj_eval\n"
   ]
  },
  {
   "cell_type": "code",
   "execution_count": 14,
   "metadata": {
    "collapsed": true
   },
   "outputs": [],
   "source": [
    "PWL=False"
   ]
  },
  {
   "cell_type": "code",
   "execution_count": 15,
   "metadata": {
    "collapsed": true
   },
   "outputs": [],
   "source": [
    "#         Constraints.append([gk[num_p*j:num_p*(j+1),i]<=p_max/(pwl_points) for j in range(pwl_points)][0])\n",
    "#         Constraints.append([gk[num_p*j:num_p*(j+1),i]>=0 for j in range(pwl_points)][0])"
   ]
  },
  {
   "cell_type": "code",
   "execution_count": 16,
   "metadata": {
    "collapsed": false
   },
   "outputs": [],
   "source": [
    "# init constraints second stage\n",
    "\n",
    "Constraints=[]\n",
    "for i in range (n_h):\n",
    "    Constraints.append(p[:,i]<=mul_elemwise(p_max[:],on_off_param[:,i]))\n",
    "for i in range (n_h):\n",
    "    Constraints.append(p[:,i]>=mul_elemwise(p_min[:],on_off_param[:,i]))\n",
    "for i in range (n_h):\n",
    "    Constraints.append(s[:,i]<=r_parameter[:,i])\n",
    "\n",
    "for i in range (n_h):\n",
    "    if PWL:\n",
    "        for j in range (pwl_points):\n",
    "            Constraints.append(gk[num_p*j:num_p*(j+1),i]<=p_max/(pwl_points))\n",
    "            Constraints.append(gk[num_p*j:num_p*(j+1),i]>=0)\n",
    "    \n",
    "        Constraints.append( p[:,i]== np.sum ([gk[num_p*j:num_p*(j+1),i] for j in range(pwl_points)]) )\n",
    "       \n",
    "    Constraints.append(G*p[:,i]+R*s[:,i]-A*w[:,i]==Dm*load[:,i])\n",
    "    Constraints.append(w[:,i]<=w_max)\n",
    "    Constraints.append(w[:,i]>=w_min)\n",
    "    Constraints.append(J*w[:,i]<=z_max)\n",
    "    Constraints.append(J*w[:,i]>=z_min)\n",
    "    #Changed here\n",
    "    Constraints.append(s[:,i]>=0)\n",
    "    Constraints.append(load[:,i]>=0)\n",
    "    Constraints.append(load[:,i]<=b[:,i])\n",
    "for i in range(1,n_h):\n",
    "    Constraints.append(p[:,i]-p[:,i-1]<=rampup[:])\n",
    "    Constraints.append(p[:,i]-p[:,i-1]>=-rampdown[:])   \n",
    "    \n",
    "\n",
    "# init objective secon stage\n",
    "\n",
    "Objective=0\n",
    "for i in range (n_h):\n",
    "    if PWL:\n",
    "        for j in range(pwl_points):\n",
    "            Objective=Objective + sum_entries(mul_elemwise(pwl_cost[:,j],gk[num_p*j:num_p*(j+1),i]))\n",
    "#             for k in range(num_p):\n",
    "#                 Objective=Objective + gk[k+(num_p*j),i]*pwl_cost[k,j]\n",
    "    else:\n",
    "        Objective=Objective + quad_form(p[:,i],H0*0.5)\n",
    "        Objective=Objective + g0*p[:,i]# check \n",
    "        \n",
    "    Objective=Objective + Load_Penalty*norm(load[:,i]-b[:,i],1)\n",
    "# Objective=Objective/10\n",
    "prob = []\n",
    "prob = Problem(Minimize(Objective), Constraints)"
   ]
  },
  {
   "cell_type": "code",
   "execution_count": 17,
   "metadata": {
    "collapsed": false
   },
   "outputs": [],
   "source": [
    "def plot_demand(p,load,s,r,b,n_h):\n",
    "    colors=['#d7191c','#fdae61','#abdda4','#2b83ba'] #['#ef8a62','#f7f7f7','#67a9cf','#008837']\n",
    "    plt.figure(figsize=(10,10))\n",
    "    plt.fill_between(range(n_h),np.zeros(n_h),np.squeeze(np.asarray(sum(p))),color=colors[3])\n",
    "    plt.fill_between(range(n_h),np.squeeze(np.asarray(sum(p))),\n",
    "                     np.squeeze(np.asarray(sum(p)+sum(s))),\n",
    "                     color=colors[1])\n",
    "\n",
    "    plt.fill_between(range(n_h),np.squeeze(np.asarray(sum(b))),\n",
    "                     np.squeeze(np.asarray(sum(load))),\n",
    "                     color=colors[0])\n",
    "    plt.plot(range(n_h),np.squeeze(np.asarray(sum(b))),color='k',linewidth=3.0)\n",
    "    plt.fill_between(range(n_h),np.zeros(n_h),-np.squeeze(np.asarray(np.abs(-sum(s)+sum(r)))),color=colors[2])\n",
    "    plt.legend(['Demand','Generation','Renewable','Demand not served','Curtailed Renewable '],loc='best')\n",
    "    plt.show()"
   ]
  },
  {
   "cell_type": "code",
   "execution_count": 18,
   "metadata": {
    "collapsed": false
   },
   "outputs": [],
   "source": [
    "def eval_on_off(on_off_value,r,duals=False,n_h=n_h,num_p=num_p):     \n",
    "    on_off_param.value=on_off_value\n",
    "    r_parameter.value=r\n",
    "    Q=prob.solve(solver=ECOS,verbose=False,\n",
    "                 #Method=1,#FeasibilityTol=1e-2\n",
    "                )#GUROBI,BarQCPConvTol=1e-8\n",
    "          \n",
    "    if not duals:\n",
    "        return Q,p.value,load.value,s.value"
   ]
  },
  {
   "cell_type": "code",
   "execution_count": 19,
   "metadata": {
    "collapsed": false
   },
   "outputs": [],
   "source": [
    "on_off_array1=[]\n",
    "on_off_array1= pickle.load(open( \"pickle/Stoch_Hybrid_ieee300_gurobi_test_3pwl_cluster.p\", \"rb\" ) )"
   ]
  },
  {
   "cell_type": "code",
   "execution_count": 20,
   "metadata": {
    "collapsed": true
   },
   "outputs": [],
   "source": [
    "# results1= pickle.load(open( \"pickle/Stoch_Hybrid_ieee300_100iter.p\", \"rb\" ) )"
   ]
  },
  {
   "cell_type": "code",
   "execution_count": 21,
   "metadata": {
    "collapsed": false
   },
   "outputs": [],
   "source": [
    "# results1['on_off_array'][0]"
   ]
  },
  {
   "cell_type": "code",
   "execution_count": 22,
   "metadata": {
    "collapsed": false
   },
   "outputs": [],
   "source": [
    "# kk=4\n",
    "# np.sum(on_off_array[kk]!=results1['on_off_array'][kk])"
   ]
  },
  {
   "cell_type": "code",
   "execution_count": 23,
   "metadata": {
    "collapsed": false
   },
   "outputs": [
    {
     "data": {
      "text/plain": [
       "270"
      ]
     },
     "execution_count": 23,
     "metadata": {},
     "output_type": "execute_result"
    }
   ],
   "source": [
    "np.sum(on_off_array[0]!=on_off_array[-1])"
   ]
  },
  {
   "cell_type": "code",
   "execution_count": 26,
   "metadata": {
    "collapsed": true
   },
   "outputs": [],
   "source": [
    "o_test=on_off_array[0]"
   ]
  },
  {
   "cell_type": "code",
   "execution_count": 29,
   "metadata": {
    "collapsed": false
   },
   "outputs": [
    {
     "name": "stdout",
     "output_type": "stream",
     "text": [
      "start 4.2528488636\n"
     ]
    }
   ],
   "source": [
    "\n",
    "Q_value=[]\n",
    "p_value=[]\n",
    "load_value=[]\n",
    "s_value=[]\n",
    "test_on_off=92\n",
    "# o_test=results['on_off_array'][0]#on_off_value\n",
    "ocost=eval_obj(on_off=o_test)#results['on_off_array'][0]\n",
    "st=time.time()\n",
    "print \"start\",\n",
    "st=time.time()\n",
    "for m in range(n_samples,n_samples+1):\n",
    "    \n",
    "\n",
    "    Qaux,paux,loadaux,saux=eval_on_off(on_off_value=o_test,r=scenarios_bus[:,:,m],)\n",
    "\n",
    "    Q_value.append(ocost+Qaux)\n",
    "    p_value.append(paux)\n",
    "    load_value.append(loadaux)\n",
    "    s_value.append(saux)\n",
    "print time.time()-st"
   ]
  },
  {
   "cell_type": "code",
   "execution_count": 26,
   "metadata": {
    "collapsed": false
   },
   "outputs": [
    {
     "data": {
      "text/plain": [
       "[5101.0685670068851,\n",
       " 5101.7051359730649,\n",
       " 4856.1576428043791,\n",
       " 4917.978142851287,\n",
       " 4857.2426515340103,\n",
       " 4872.5862893928952,\n",
       " 4815.4457298168945,\n",
       " 5706.8774270457125,\n",
       " 4731.8450092709154,\n",
       " 5021.5035236563854]"
      ]
     },
     "execution_count": 26,
     "metadata": {},
     "output_type": "execute_result"
    }
   ],
   "source": [
    "Q_value"
   ]
  },
  {
   "cell_type": "code",
   "execution_count": 29,
   "metadata": {
    "collapsed": false
   },
   "outputs": [
    {
     "name": "stdout",
     "output_type": "stream",
     "text": [
      "5120.88810097 5314.7431914 4991.65633816\n"
     ]
    }
   ],
   "source": [
    "print np.mean(Q_value),np.max(Q_value),np.min(Q_value) # Gurobi 20 iter"
   ]
  },
  {
   "cell_type": "code",
   "execution_count": 31,
   "metadata": {
    "collapsed": false
   },
   "outputs": [
    {
     "name": "stdout",
     "output_type": "stream",
     "text": [
      "5004.49456299 6703.69091389 4639.31747618\n"
     ]
    }
   ],
   "source": [
    "print np.mean(Q_value),np.max(Q_value) ,np.min(Q_value) # Ecos 0 iter"
   ]
  },
  {
   "cell_type": "code",
   "execution_count": 33,
   "metadata": {
    "collapsed": false
   },
   "outputs": [
    {
     "name": "stdout",
     "output_type": "stream",
     "text": [
      "4998.24101194 5706.87742705 4731.84500927\n"
     ]
    }
   ],
   "source": [
    "print np.mean(Q_value),np.max(Q_value) ,np.min(Q_value) # GUROBI Cluster 0 iter"
   ]
  },
  {
   "cell_type": "code",
   "execution_count": 27,
   "metadata": {
    "collapsed": false
   },
   "outputs": [
    {
     "name": "stdout",
     "output_type": "stream",
     "text": [
      "4998.24101194 5706.87742705 4731.84500927\n"
     ]
    }
   ],
   "source": [
    "print np.mean(Q_value),np.max(Q_value),np.min(Q_value) # Gurobi 5 iter 3pwl"
   ]
  },
  {
   "cell_type": "code",
   "execution_count": 60,
   "metadata": {
    "collapsed": false
   },
   "outputs": [
    {
     "name": "stdout",
     "output_type": "stream",
     "text": [
      "5287.85041111 5514.94270239 5161.82077934\n"
     ]
    }
   ],
   "source": [
    "print np.mean(Q_value),np.max(Q_value),np.min(Q_value) # No renewables "
   ]
  },
  {
   "cell_type": "code",
   "execution_count": 32,
   "metadata": {
    "collapsed": false
   },
   "outputs": [
    {
     "data": {
      "image/png": "[encoded data removed]",
      "text/plain": [
       "<matplotlib.figure.Figure at 0x7f019dba6910>"
      ]
     },
     "metadata": {},
     "output_type": "display_data"
    }
   ],
   "source": [
    "plt.hist(Q_value,bins='auto')\n",
    "plt.show()"
   ]
  },
  {
   "cell_type": "code",
   "execution_count": 45,
   "metadata": {
    "collapsed": false
   },
   "outputs": [
    {
     "data": {
      "text/plain": [
       "[<matplotlib.lines.Line2D at 0x7fcb9141c810>]"
      ]
     },
     "execution_count": 45,
     "metadata": {},
     "output_type": "execute_result"
    },
    {
     "data": {
      "image/png": "[encoded data removed]",
      "text/plain": [
       "<matplotlib.figure.Figure at 0x7fcb918b0d50>"
      ]
     },
     "metadata": {},
     "output_type": "display_data"
    }
   ],
   "source": [
    "plt.plot(time_eval)"
   ]
  },
  {
   "cell_type": "code",
   "execution_count": 30,
   "metadata": {
    "collapsed": false
   },
   "outputs": [
    {
     "data": {
      "text/plain": [
       "array([[  8.84587646e-12,   5.89902291e-12,   1.30963108e-11, ...,\n",
       "          3.67871524e-11,   1.48138962e-12,  -7.23099757e-13],\n",
       "       [  8.27436924e-12,   4.64526171e-12,   1.35164962e-11, ...,\n",
       "          4.20409401e-11,  -7.69988810e-13,  -3.45515433e-12],\n",
       "       [  8.62532239e-12,   5.73218618e-12,   1.28013647e-11, ...,\n",
       "          3.61762619e-11,   1.39731012e-12,  -7.65358259e-13],\n",
       "       ..., \n",
       "       [  8.62277732e-12,   5.73057824e-12,   1.27979482e-11, ...,\n",
       "          2.39057456e-11,   1.35693394e-12,  -7.63930118e-13],\n",
       "       [  8.62286927e-12,   5.73062600e-12,   1.27980686e-11, ...,\n",
       "          2.35822535e-11,   1.36322333e-12,  -7.64010654e-13],\n",
       "       [  8.62295734e-12,   5.73068632e-12,   1.27982141e-11, ...,\n",
       "          9.99999999e-01,   1.34239984e-12,  -7.64184346e-13]])"
      ]
     },
     "execution_count": 30,
     "metadata": {},
     "output_type": "execute_result"
    }
   ],
   "source": [
    "np.mean(p_value,0)"
   ]
  },
  {
   "cell_type": "code",
   "execution_count": 31,
   "metadata": {
    "collapsed": false
   },
   "outputs": [
    {
     "data": {
      "image/png": "[encoded data removed]",
      "text/plain": [
       "<matplotlib.figure.Figure at 0x7f72420e66d0>"
      ]
     },
     "metadata": {},
     "output_type": "display_data"
    }
   ],
   "source": [
    "plot_demand(p=np.mean(p_value,0),load=np.mean(load_value,0),s=np.mean(s_value,0),r=np.mean(scenarios_bus,2),b=b,n_h=n_h)"
   ]
  },
  {
   "cell_type": "code",
   "execution_count": 92,
   "metadata": {
    "collapsed": false
   },
   "outputs": [
    {
     "data": {
      "text/plain": [
       "8.79722222222222"
      ]
     },
     "execution_count": 92,
     "metadata": {},
     "output_type": "execute_result"
    }
   ],
   "source": [
    "3167./60*10/60"
   ]
  },
  {
   "cell_type": "code",
   "execution_count": 32,
   "metadata": {
    "collapsed": false
   },
   "outputs": [
    {
     "name": "stdout",
     "output_type": "stream",
     "text": [
      "Nuclear\n",
      "IGCC\n",
      "Coal\n",
      "CCGT\n",
      "OCGT\n"
     ]
    },
    {
     "data": {
      "image/png": "[encoded data removed]",
      "text/plain": [
       "<matplotlib.figure.Figure at 0x7f85ba1afd50>"
      ]
     },
     "metadata": {},
     "output_type": "display_data"
    }
   ],
   "source": [
    "# gen_tech=['CCGT', 'CCGT', 'CCGT', 'IGCC', 'Nuclear'], \n",
    "o_test=on_off_array[0]\n",
    "sorted_name_techno=['Nuclear','IGCC','Coal','CCGT','OCGT']\n",
    "N = n_h\n",
    "ind = np.arange(N)  # the x locations for the groups\n",
    "width = 1\n",
    "aux=[]\n",
    "aux.append(np.zeros(N).T)\n",
    "cumsum_aux=np.zeros(N)\n",
    "fig, ax = plt.subplots(figsize=(10,10))\n",
    "# rects = ax.bar(ind, strategy1_optMean, width, color=color[0])\n",
    "colors=['#1b9e77','#d95f02','#7570b3','#e7298a','#66a61e']\n",
    "for idx,name in enumerate(sorted_name_techno):\n",
    "    print name\n",
    "    aux.append(np.array([np.sum(np.ceil(o_test[j,i]) for j in range (num_p) if gen_tech[j]==name) for i in range(n_h)]))\n",
    "    cumsum_aux=np.cumsum(aux,0)\n",
    "#     print aux[-1]\n",
    "    rects = ax.bar(ind, aux[idx+1], width, color=colors[idx],bottom=cumsum_aux[idx])\n",
    "plt.legend(sorted_name_techno,loc='best')  \n",
    "plt.show()\n"
   ]
  },
  {
   "cell_type": "code",
   "execution_count": 27,
   "metadata": {
    "collapsed": false
   },
   "outputs": [
    {
     "name": "stdout",
     "output_type": "stream",
     "text": [
      "Nuclear\n",
      "IGCC\n",
      "Coal\n",
      "CCGT\n",
      "OCGT\n"
     ]
    },
    {
     "data": {
      "image/png": "[encoded data removed]",
      "text/plain": [
       "<matplotlib.figure.Figure at 0x7f7241fbe690>"
      ]
     },
     "metadata": {},
     "output_type": "display_data"
    }
   ],
   "source": [
    "sorted_name_techno=['Nuclear','IGCC','Coal','CCGT','OCGT']\n",
    "N = n_h\n",
    "ind = np.arange(N)  # the x locations for the groups\n",
    "width = 1\n",
    "aux=[]\n",
    "aux.append(np.zeros(N).T)\n",
    "cumsum_aux=np.zeros(N)\n",
    "fig, ax = plt.subplots(figsize=(10,10))\n",
    "# rects = ax.bar(ind, strategy1_optMean, width, color=color[0])\n",
    "colors=['#1b9e77','#d95f02','#7570b3','#e7298a','#66a61e']\n",
    "for idx,name in enumerate(sorted_name_techno):\n",
    "    print name\n",
    "    aux.append(np.array([np.sum(np.ceil(o_test[j,i]) for j in range (num_p) if gen_tech[j]==name) for i in range(n_h)]))\n",
    "    cumsum_aux=np.cumsum(aux,0)\n",
    "#     print aux[-1]\n",
    "    rects = ax.bar(ind, aux[idx+1], width, color=colors[idx],bottom=cumsum_aux[idx])\n",
    "plt.legend(sorted_name_techno,loc='best')  \n",
    "plt.show()\n"
   ]
  },
  {
   "cell_type": "code",
   "execution_count": 29,
   "metadata": {
    "collapsed": false
   },
   "outputs": [
    {
     "data": {
      "text/plain": [
       "-1.2468791646107404"
      ]
     },
     "execution_count": 29,
     "metadata": {},
     "output_type": "execute_result"
    }
   ],
   "source": [
    "(4942.-5004.4)/5004.49456299*100"
   ]
  },
  {
   "cell_type": "code",
   "execution_count": null,
   "metadata": {
    "collapsed": true
   },
   "outputs": [],
   "source": [
    "import numpy as np\n",
    "from multiprocess import Pool,cpu_count\n",
    "from cvxpy import *\n",
    "import dill\n",
    "import time\n",
    "import sys\n",
    "\n",
    "results=dill.load( open( sys.argv[0], \"rb\" ))\n",
    "\n",
    "for res in results.keys():\n",
    "    exec (res + \"= results[res]\")\n",
    "    \n",
    "for var in variables.keys():\n",
    "    exec (var + \"= variables[var]\")\n",
    "for cons in constants.keys():\n",
    "    exec (cons + \"= constants[cons]\")\n",
    "    \n",
    "p=Variable(p.size[0],p.size[1])\n",
    "w=Variable(w.size[0],w.size[1])\n",
    "s=Variable(s.size[0],s.size[1])\n",
    "load=Variable(load.size[0],load.size[1])\n",
    "on_off_param=Parameter(num_p,n_h)\n",
    "r_parameter=Parameter(s.size[0],s.size[1])\n",
    "\n",
    "\n",
    "if PWL:\n",
    "    gk=Variable(gk.size[0],gk.size[1])\n",
    "\n",
    "on_off_value=np.zeros((num_p,n_h))\n",
    "on_off_init=np.zeros(num_p)\n",
    "\n",
    "r=np.mean(scenarios_bus,2)\n",
    "\n",
    "def eval_obj (on_off,on_off_cost=on_off_cost,n_h=24):\n",
    "    obj_eval=0\n",
    "    for i in range(1,n_h):\n",
    "        obj_eval = obj_eval + np.sum(on_off_cost*np.maximum(on_off[:,i] - on_off[:,i-1],0))\n",
    "    obj_eval = obj_eval + np.sum((on_off_cost)*np.maximum(on_off[:,0].T - on_off_init,0).T)\n",
    "        \n",
    "    return obj_eval\n",
    "\n",
    "\n",
    "PWL=False\n",
    "\n",
    "# init constraints second stage\n",
    "\n",
    "Constraints=[]\n",
    "for i in range (n_h):\n",
    "    Constraints.append(p[:,i]<=mul_elemwise(p_max[:],on_off_param[:,i]))\n",
    "for i in range (n_h):\n",
    "    Constraints.append(p[:,i]>=mul_elemwise(p_min[:],on_off_param[:,i]))\n",
    "for i in range (n_h):\n",
    "    Constraints.append(s[:,i]<=r_parameter[:,i])\n",
    "\n",
    "for i in range (n_h):\n",
    "    if PWL:\n",
    "        for j in range (pwl_points):\n",
    "            Constraints.append(gk[num_p*j:num_p*(j+1),i]<=p_max/(pwl_points))\n",
    "            Constraints.append(gk[num_p*j:num_p*(j+1),i]>=0)\n",
    "    \n",
    "        Constraints.append( p[:,i]== np.sum ([gk[num_p*j:num_p*(j+1),i] for j in range(pwl_points)]) )\n",
    "       \n",
    "    Constraints.append(G*p[:,i]+R*s[:,i]-A*w[:,i]==Dm*load[:,i])\n",
    "    Constraints.append(w[:,i]<=w_max)\n",
    "    Constraints.append(w[:,i]>=w_min)\n",
    "    Constraints.append(J*w[:,i]<=z_max)\n",
    "    Constraints.append(J*w[:,i]>=z_min)\n",
    "    #Changed here\n",
    "    Constraints.append(s[:,i]>=0)\n",
    "    Constraints.append(load[:,i]>=0)\n",
    "    Constraints.append(load[:,i]<=b[:,i])\n",
    "for i in range(1,n_h):\n",
    "    Constraints.append(p[:,i]-p[:,i-1]<=rampup[:])\n",
    "    Constraints.append(p[:,i]-p[:,i-1]>=-rampdown[:])   \n",
    "    \n",
    "\n",
    "# init objective secon stage\n",
    "\n",
    "Objective=0\n",
    "for i in range (n_h):\n",
    "    if PWL:\n",
    "        for j in range(pwl_points):\n",
    "            Objective=Objective + sum_entries(mul_elemwise(pwl_cost[:,j],gk[num_p*j:num_p*(j+1),i]))\n",
    "#             for k in range(num_p):\n",
    "#                 Objective=Objective + gk[k+(num_p*j),i]*pwl_cost[k,j]\n",
    "    else:\n",
    "        Objective=Objective + quad_form(p[:,i],H0*0.5)\n",
    "        Objective=Objective + g0*p[:,i]# check \n",
    "        \n",
    "    Objective=Objective + Load_Penalty*norm(load[:,i]-b[:,i],1)\n",
    "# Objective=Objective/10\n",
    "prob = []\n",
    "prob = Problem(Minimize(Objective), Constraints)\n",
    "\n",
    "\n",
    "def eval_on_off(on_off_value,r,j,k,duals=False,n_h=n_h,num_p=num_p):     \n",
    "    on_off_param.value=on_off_value[k]\n",
    "    r_parameter.value=r[:,:,j]\n",
    "    Q=prob.solve(solver=ECOS,verbose=False,)\n",
    "    if not duals:\n",
    "        return Q,p.value,load.value,s.value\n",
    "    \n",
    "Q_dict={}\n",
    "p_dict={}\n",
    "load_dict={}\n",
    "s_dict={}\n",
    "for k in range(0,len(on_off_array),5)+[-1]:\n",
    "    print \"start\",\n",
    "    st=time.time()\n",
    "    Q_value=[]\n",
    "    p_value=[]\n",
    "    load_value=[]\n",
    "    s_value=[]\n",
    "    pool=Pool(4,initargs=(k,))\n",
    "    ocost=eval_obj(on_off=on_off_array[k])#results['on_off_array'][0]\n",
    "    st=time.time()\n",
    "    res = list(zip(*pool.map(lambda i: eval_on_off(on_off_value=on_off_array,\n",
    "                                                   r=scenarios_bus[:,:,n_samples:n_samples+n_test],j=i,k=k),\n",
    "                                                   range(n_test),\n",
    "                                                    chunksize=1)))\n",
    "    Q_dict[str(k)]=list(res[0])+ocost\n",
    "    p_dict[str(k)]=list(res[1])\n",
    "    load_dict[str(k)]=list(res[2])\n",
    "    s_dict[str(k)]=list(res[3])\n",
    "    pool.close()\n",
    "    pool.join()\n",
    "    print time.time()-st\n",
    "    print np.mean(Q_dict[str(k)])\n",
    "                        \n",
    "    \n",
    "results={}\n",
    "results['Q_dict']=Q_dict\n",
    "results['p_dict']=p_dict\n",
    "results['load_dict']=load_dict\n",
    "results['s_dict']=s_dict\n",
    "\n",
    "dill.dump( results, open( \"eval/\"+sys.argv[0], \"wb\" ) )      \n",
    "\n",
    "                        \n",
    "\n"
   ]
  }
 ],
 "metadata": {
  "kernelspec": {
   "display_name": "Python 2",
   "language": "python",
   "name": "python2"
  },
  "language_info": {
   "codemirror_mode": {
    "name": "ipython",
    "version": 2
   },
   "file_extension": ".py",
   "mimetype": "text/x-python",
   "name": "python",
   "nbconvert_exporter": "python",
   "pygments_lexer": "ipython2",
   "version": "2.7.12"
  }
 },
 "nbformat": 4,
 "nbformat_minor": 0
}
