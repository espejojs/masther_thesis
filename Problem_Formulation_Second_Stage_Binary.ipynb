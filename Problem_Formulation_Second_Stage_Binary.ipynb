{
 "cells": [
  {
   "cell_type": "code",
   "execution_count": 1,
   "metadata": {
    "collapsed": false
   },
   "outputs": [],
   "source": [
    "import numpy as np\n",
    "import pfnet as pf\n",
    "from scipy.sparse import triu,bmat,coo_matrix,eye,spdiags\n",
    "import matplotlib.pyplot as plt\n",
    "\n",
    "%matplotlib inline  "
   ]
  },
  {
   "cell_type": "code",
   "execution_count": 2,
   "metadata": {
    "collapsed": false
   },
   "outputs": [],
   "source": [
    "net=pf.Network()\n",
    "net.load('PFNET-multi_period/data/ieee14.mat')"
   ]
  },
  {
   "cell_type": "code",
   "execution_count": 3,
   "metadata": {
    "collapsed": false
   },
   "outputs": [],
   "source": [
    "# Problem set up\n",
    "\n",
    "total_load = sum([l.P for l in net.loads])\n",
    "# uncertainty = 100.*sum([g.P_std for g in net.var_generators])/sum([g.P_max for g in net.var_generators])\n",
    "corr_value = net.vargen_corr_value+0.5\n",
    "corr_radius = net.vargen_corr_radius\n",
    "\n",
    "for br in net.branches:\n",
    "    br.ratingA = 1e10\n",
    "\n",
    "for gen in net.generators:\n",
    "    gen.P_min = 0.\n",
    "    gen.P_max = np.maximum(gen.P_max,0.)\n",
    "    assert(gen.P_min <= gen.P_max)\n",
    "\n",
    "\n",
    "num_w = net.num_buses-net.get_num_slack_buses() # voltage angles\n",
    "num_p = net.get_num_P_adjust_gens()             #net.get_num_generators()         # adjustable generators\n",
    "# num_r = net.num_vargens                         # renewable generators\n",
    "num_bus = net.num_buses                         # buses\n",
    "num_br = net.num_branches                       # branches\n"
   ]
  },
  {
   "cell_type": "code",
   "execution_count": 4,
   "metadata": {
    "collapsed": true
   },
   "outputs": [],
   "source": [
    "net.clear_flags()\n",
    "net.set_flags(pf.OBJ_BUS,\n",
    "              pf.FLAG_VARS,\n",
    "              pf.BUS_PROP_NOT_SLACK,\n",
    "              pf.BUS_VAR_VANG)\n",
    "net.set_flags(pf.OBJ_GEN,\n",
    "              pf.FLAG_VARS,\n",
    "              pf.GEN_PROP_P_ADJUST,\n",
    "              pf.GEN_VAR_P)"
   ]
  },
  {
   "cell_type": "code",
   "execution_count": 5,
   "metadata": {
    "collapsed": false
   },
   "outputs": [],
   "source": [
    "x = net.get_var_values()\n",
    "Pw = net.get_var_projection(pf.OBJ_BUS,pf.BUS_VAR_VANG)\n",
    "Pp = net.get_var_projection(pf.OBJ_GEN,pf.GEN_VAR_P)\n"
   ]
  },
  {
   "cell_type": "code",
   "execution_count": 6,
   "metadata": {
    "collapsed": false
   },
   "outputs": [],
   "source": [
    "pf_eq = pf.Constraint(pf.CONSTR_TYPE_DCPF,net)\n",
    "pf_eq.analyze()\n",
    "pf_eq.eval(x)\n",
    "AA = pf_eq.A.copy()\n",
    "bb = pf_eq.b.copy()"
   ]
  },
  {
   "cell_type": "code",
   "execution_count": 7,
   "metadata": {
    "collapsed": false
   },
   "outputs": [],
   "source": [
    "fl_lim = pf.Constraint(pf.CONSTR_TYPE_DC_FLOW_LIM,net)\n",
    "fl_lim.analyze()\n",
    "fl_lim.eval(x)\n",
    "GG = fl_lim.G.copy()\n",
    "hl = fl_lim.l.copy()\n",
    "hu = fl_lim.u.copy()"
   ]
  },
  {
   "cell_type": "code",
   "execution_count": 8,
   "metadata": {
    "collapsed": false
   },
   "outputs": [],
   "source": [
    "cost = pf.Function(pf.FUNC_TYPE_GEN_COST,1.,net)\n",
    "cost.analyze()\n",
    "cost.eval(x)\n",
    "H = (cost.Hphi + cost.Hphi.T - triu(cost.Hphi))/net.base_power # symmetric\n",
    "g = cost.gphi/net.base_power - H*x\n",
    "l = net.get_var_values(pf.LOWER_LIMITS)\n",
    "u = net.get_var_values(pf.UPPER_LIMITS)"
   ]
  },
  {
   "cell_type": "code",
   "execution_count": 9,
   "metadata": {
    "collapsed": false
   },
   "outputs": [],
   "source": [
    "p_max = Pp*u\n",
    "p_min = Pp*l\n",
    "w_max = 1e6*np.ones(num_w)\n",
    "w_min = -1e6*np.ones(num_w)\n",
    "#r_max = Pr*u\n",
    "#r_base = Pr*x\n",
    "z_max = hu\n",
    "z_min = hl \n",
    "H0 = Pp*H*Pp.T\n",
    "g0 = Pp*g\n",
    "#H1 = self.H0*self.parameters['cost_factor']\n",
    "g1 = np.zeros(num_p)\n",
    "G = AA*Pp.T\n",
    "#R = AA*Pr.T\n",
    "A = -AA*Pw.T\n",
    "J = GG*Pw.T  # check\n",
    "b = bb\n"
   ]
  },
  {
   "cell_type": "code",
   "execution_count": 10,
   "metadata": {
    "collapsed": false
   },
   "outputs": [],
   "source": [
    "from cvxpy import *\n",
    "import mosek\n",
    "import gurobi"
   ]
  },
  {
   "cell_type": "code",
   "execution_count": 11,
   "metadata": {
    "collapsed": true
   },
   "outputs": [],
   "source": [
    "n_h=24\n",
    "p=Variable(num_p,n_h)\n",
    "w=Variable(num_w,n_h)\n",
    "z=Variable(num_br,n_h)\n",
    "on_off=Bool(num_p,n_h)\n",
    "load=Variable(num_bus,n_h)\n",
    "Pforecast=total_load\n",
    "Load_Penalty=1e10\n",
    "OnOffCost=np.ones([1,num_p])*0.5\n",
    "p_min=np.ones([1,num_p])*0.9\n",
    "minup=np.ones([1,num_p])*10 #[5,10,20,3,5]\n",
    "rampup=np.ones([1,num_p])*1\n",
    "rampdown=np.ones([1,num_p])*1\n"
   ]
  },
  {
   "cell_type": "code",
   "execution_count": 12,
   "metadata": {
    "collapsed": false
   },
   "outputs": [],
   "source": [
    "b=[]\n",
    "b=np.zeros([num_bus,n_h])\n",
    "for i in range (n_h):\n",
    "    b[:,i]=bb+0.1*np.sin(i*2*np.pi/24)"
   ]
  },
  {
   "cell_type": "code",
   "execution_count": 13,
   "metadata": {
    "collapsed": false
   },
   "outputs": [],
   "source": [
    "Constraints=[]\n",
    "for i in range (n_h):\n",
    "    \n",
    "    Constraints.append(G*p[:,i]-A*w[:,i]==load[:,i])\n",
    "    Constraints.append(J*w[:,i]==z[:,i])\n",
    "    Constraints.append(w[:,i]<=1)\n",
    "    Constraints.append(w[:,i]>=-1)\n",
    "    Constraints.append(z[:,i]<=1)\n",
    "    Constraints.append(z[:,i]>=-1)\n",
    "#     Constraints.append(load[:,i]>=0)\n",
    "#     Constraints.append(load[:,i]<=b[:,i])\n",
    "    \n",
    "\n",
    "for i in range(n_h):\n",
    "    for j in range (num_p):\n",
    "        Constraints.append(p[j,i]<=p_max[j]*on_off[j,i])\n",
    "        Constraints.append(p[j,i]>=p_min[0][j]*on_off[j,i])\n",
    "    "
   ]
  },
  {
   "cell_type": "code",
   "execution_count": 14,
   "metadata": {
    "collapsed": true
   },
   "outputs": [],
   "source": [
    "for i in range(1,n_h):\n",
    "    for j in range (num_p):\n",
    "        Constraints.append(p[j,i]-p[j,i-1]<=rampup[0][j])\n",
    "        Constraints.append(p[j,i]-p[j,i-1]>=-rampdown[0][j])"
   ]
  },
  {
   "cell_type": "code",
   "execution_count": 20,
   "metadata": {
    "collapsed": false
   },
   "outputs": [
    {
     "data": {
      "text/plain": [
       "array([[ 10.,  10.,  10.,  10.,  10.]])"
      ]
     },
     "execution_count": 20,
     "metadata": {},
     "output_type": "execute_result"
    }
   ],
   "source": [
    "minup"
   ]
  },
  {
   "cell_type": "code",
   "execution_count": 15,
   "metadata": {
    "collapsed": false
   },
   "outputs": [],
   "source": [
    "for i in range(1,n_h):\n",
    "    for j in range (num_p):\n",
    "        indi=(on_off[j,i] - on_off[j,i-1])\n",
    "        rang= range(i,min(n_h,int(i+minup[0][j]-1)))\n",
    "        Constraints.append(on_off[j,rang]>=indi)"
   ]
  },
  {
   "cell_type": "code",
   "execution_count": 16,
   "metadata": {
    "collapsed": false
   },
   "outputs": [],
   "source": [
    "Objective=0\n",
    "for i in range (n_h):\n",
    "    Objective=Objective + quad_form(p[:,i],H0)\n",
    "    Objective=Objective + g0*p[:,i]\n",
    "    Objective=Objective + Load_Penalty*norm(load[:,i]-b[:,i])\n",
    "    \n",
    "    "
   ]
  },
  {
   "cell_type": "code",
   "execution_count": 17,
   "metadata": {
    "collapsed": false
   },
   "outputs": [],
   "source": [
    "for i in range(1,n_h):\n",
    "    for j in range (num_p):\n",
    "        Objective=Objective + np.max(on_off[j,i] - on_off[j,i-1],0)*OnOffCost[0][j]"
   ]
  },
  {
   "cell_type": "code",
   "execution_count": 19,
   "metadata": {
    "collapsed": false
   },
   "outputs": [
    {
     "data": {
      "text/plain": [
       "array([ 10.,  10.,  10.,  10.,  10.])"
      ]
     },
     "execution_count": 19,
     "metadata": {},
     "output_type": "execute_result"
    }
   ],
   "source": [
    "minup[0]"
   ]
  },
  {
   "cell_type": "code",
   "execution_count": 50,
   "metadata": {
    "collapsed": false
   },
   "outputs": [],
   "source": [
    "prob = []\n",
    "prob = Problem(Minimize(Objective), Constraints)"
   ]
  },
  {
   "cell_type": "code",
   "execution_count": 51,
   "metadata": {
    "collapsed": false
   },
   "outputs": [
    {
     "data": {
      "text/plain": [
       "1068181231.7905595"
      ]
     },
     "execution_count": 51,
     "metadata": {},
     "output_type": "execute_result"
    }
   ],
   "source": [
    "prob.solve(solver=GUROBI)"
   ]
  },
  {
   "cell_type": "code",
   "execution_count": 52,
   "metadata": {
    "collapsed": false
   },
   "outputs": [
    {
     "data": {
      "text/plain": [
       "matrix([[ 0.,  1.,  1.,  1.,  1.,  1.,  1.,  1.,  1.,  1.,  1.,  1.,  0.,\n",
       "          0.,  0.,  0.,  0.,  0.,  0.,  0.,  0.,  0.,  0.,  0.],\n",
       "        [ 0.,  0.,  0.,  0.,  0.,  0.,  0.,  0.,  0.,  0.,  0.,  0.,  0.,\n",
       "          0.,  0.,  0.,  0.,  0.,  0.,  0.,  0.,  0.,  0.,  0.],\n",
       "        [ 0.,  0.,  0.,  0.,  0.,  0.,  0.,  0.,  0.,  0.,  0.,  0.,  0.,\n",
       "          0.,  0.,  0.,  0.,  0.,  0.,  0.,  0.,  0.,  0.,  1.],\n",
       "        [ 1.,  1.,  1.,  1.,  1.,  1.,  1.,  1.,  1.,  1.,  1.,  1.,  1.,\n",
       "          1.,  1.,  1.,  1.,  1.,  1.,  1.,  1.,  1.,  1.,  0.],\n",
       "        [ 1.,  1.,  1.,  1.,  1.,  1.,  1.,  1.,  1.,  1.,  1.,  1.,  1.,\n",
       "          1.,  1.,  1.,  0.,  0.,  0.,  0.,  0.,  1.,  1.,  1.]])"
      ]
     },
     "execution_count": 52,
     "metadata": {},
     "output_type": "execute_result"
    }
   ],
   "source": [
    "on_off.value"
   ]
  },
  {
   "cell_type": "code",
   "execution_count": 42,
   "metadata": {
    "collapsed": false
   },
   "outputs": [
    {
     "data": {
      "text/plain": [
       "[<matplotlib.lines.Line2D at 0x7fdd182bc950>]"
      ]
     },
     "execution_count": 42,
     "metadata": {},
     "output_type": "execute_result"
    },
    {
     "data": {
      "image/png": "[encoded data removed]",
      "text/plain": [
       "<matplotlib.figure.Figure at 0x7fdd182bc9d0>"
      ]
     },
     "metadata": {},
     "output_type": "display_data"
    }
   ],
   "source": [
    "for i in range (num_p):\n",
    "    plt.step(range(n_h),np.squeeze(np.asarray(p.value[i,:])))\n",
    "\n",
    "plt.step(range(n_h),np.squeeze(np.asarray((sum((load.value-b))))))"
   ]
  },
  {
   "cell_type": "code",
   "execution_count": null,
   "metadata": {
    "collapsed": true
   },
   "outputs": [],
   "source": []
  },
  {
   "cell_type": "code",
   "execution_count": null,
   "metadata": {
    "collapsed": true
   },
   "outputs": [],
   "source": []
  }
 ],
 "metadata": {
  "kernelspec": {
   "display_name": "Python 2",
   "language": "python",
   "name": "python2"
  },
  "language_info": {
   "codemirror_mode": {
    "name": "ipython",
    "version": 2
   },
   "file_extension": ".py",
   "mimetype": "text/x-python",
   "name": "python",
   "nbconvert_exporter": "python",
   "pygments_lexer": "ipython2",
   "version": "2.7.12"
  }
 },
 "nbformat": 4,
 "nbformat_minor": 1
}
