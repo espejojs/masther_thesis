{
 "cells": [
  {
   "cell_type": "code",
   "execution_count": 1,
   "metadata": {
    "collapsed": false
   },
   "outputs": [],
   "source": [
    "import numpy as np\n",
    "import pfnet as pf\n",
    "from scipy.sparse import triu,bmat,coo_matrix,eye,spdiags\n",
    "import matplotlib.pyplot as plt\n",
    "from scikits.sparse.cholmod import cholesky\n",
    "\n",
    "%matplotlib inline  "
   ]
  },
  {
   "cell_type": "code",
   "execution_count": 2,
   "metadata": {
    "collapsed": false
   },
   "outputs": [],
   "source": [
    "net=pf.Network()\n",
    "net.load('PFNET-multi_period/data/ieee14.mat')\n",
    "# net.load('PFNET-multi_period/data/ieee300.mat')\n"
   ]
  },
  {
   "cell_type": "code",
   "execution_count": 3,
   "metadata": {
    "collapsed": false
   },
   "outputs": [],
   "source": [
    "penetration=50.\n",
    "net.add_vargens(net.get_gen_buses(),#[net.get_bus(1)], \n",
    "                penetration, 50., 10, 0.1)"
   ]
  },
  {
   "cell_type": "code",
   "execution_count": 4,
   "metadata": {
    "collapsed": false
   },
   "outputs": [],
   "source": [
    "# Problem set up\n",
    "\n",
    "total_load = sum([l.P for l in net.loads])\n",
    "total_capacity=sum([gen.P_max for gen in net.generators])\n",
    "uncertainty = 100.*sum([g.P_std for g in net.var_generators])/sum([g.P_max for g in net.var_generators])\n",
    "corr_value = net.vargen_corr_value \n",
    "corr_radius = net.vargen_corr_radius\n",
    "\n",
    "for br in net.branches:\n",
    "    if br.ratingA==0:\n",
    "        br.ratingA = 15\n",
    "\n",
    "for gen in net.generators:\n",
    "    gen.P_min = 0.\n",
    "    gen.P_max = np.maximum(gen.P_max,0.)\n",
    "    assert(gen.P_min <= gen.P_max)\n",
    "\n",
    "\n",
    "num_w = net.num_buses-net.get_num_slack_buses() # voltage angles\n",
    "num_p = net.get_num_P_adjust_gens()             #net.get_num_generators()         # adjustable generators\n",
    "num_r = net.num_var_generators                       # renewable generators\n",
    "num_bus = net.num_buses                         # buses\n",
    "num_br = net.num_branches                       # branches\n",
    "num_l = net.num_loads"
   ]
  },
  {
   "cell_type": "code",
   "execution_count": 5,
   "metadata": {
    "collapsed": false
   },
   "outputs": [],
   "source": [
    "# [gen.P_max for gen in net.generators]\n"
   ]
  },
  {
   "cell_type": "code",
   "execution_count": 6,
   "metadata": {
    "collapsed": false
   },
   "outputs": [],
   "source": [
    "capacity_per=np.ones(5)/5\n",
    "# capacity_per=np.array([0.23494860499265785, 0.30279001468428781, 0.18208516886930984, 0.23906020558002939, 0.041116005873715125])\n",
    "#([0.25, 0.50, 0.15, 0.05, 0.05 ])#\n",
    "capacity_per_cumsum=np.cumsum(capacity_per)\n",
    "sorted_gen=np.array(sorted([gen.P_max  for gen in net.generators]))\n",
    "gen_cumsum=np.cumsum(sorted_gen)\n",
    "gen_bounds=np.zeros(len(capacity_per)+1)\n",
    "gen_bounds[0]=100\n",
    "for idx,cap in enumerate(capacity_per_cumsum):\n",
    "    gen_bounds[idx+1]=np.min(sorted_gen[gen_cumsum/total_capacity>=(1-cap)])\n",
    "gen_bounds[-1]=0\n",
    "parameters=[('Nuclear', 0.029917833750000022, 3.0741044999999803, 100, 400.0, 280.0, 280.0, 24.0, 168.0, 40000.0),\n",
    "('Coal', 0.11954207142857155, 12.270104999999957, 140, 350.0, 140.0, 140.0, 5.0, 8.0, 12064.0),\n",
    "('IGCC', 0.25331129032258076, 10.655729999999988, 54, 155.0, 70.0, 80.0, 16.0, 24.0, 2058.0),\n",
    "('CCGT', 0.14437728426395943, 7.7242649999999946, 104, 197.0, 310.0, 310.0, 3.0, 4.0, 230.0),\n",
    "('OCGT', 2.2680749999999974, 13.795700000000027, 8, 20.0, 90.0, 100.0, 1.0, 2.0, 46.0)]\n"
   ]
  },
  {
   "cell_type": "code",
   "execution_count": 7,
   "metadata": {
    "collapsed": false
   },
   "outputs": [],
   "source": [
    "# sorted_gen"
   ]
  },
  {
   "cell_type": "code",
   "execution_count": 8,
   "metadata": {
    "collapsed": false
   },
   "outputs": [],
   "source": [
    "# for i in range(0,len(gen_bounds)-1):\n",
    "#     print np.sum([gen.P_max/total_capacity for gen in net.generators if gen.P_max>gen_bounds[i+1] and gen.P_max < gen_bounds[i] ])"
   ]
  },
  {
   "cell_type": "code",
   "execution_count": 9,
   "metadata": {
    "collapsed": false
   },
   "outputs": [],
   "source": [
    "min_down=np.zeros([num_p])\n",
    "min_up=np.zeros([num_p])\n",
    "ramp_up=np.zeros([num_p])\n",
    "ramp_down=np.zeros([num_p])\n",
    "on_off_cost=np.zeros([num_p])\n",
    "\n",
    "gen_tech=np.chararray([num_p],itemsize=10)\n",
    "for i in reversed(range(0,len(gen_bounds)-1)): \n",
    "    for gen in net.generators:\n",
    "        if gen.P_max >= gen_bounds[i+1] and gen.P_max < gen_bounds[i]:\n",
    "            aggregator= (np.maximum(gen.P_max/(parameters[i][4]/net.base_power),0))\n",
    "#             print aggregator,parameters[i][0],gen.index\n",
    "            gen.P_max= aggregator*parameters[i][4]/net.base_power\n",
    "            gen.P_min= aggregator*parameters[i][3]/net.base_power\n",
    "            gen.cost_coeff_Q2= net.base_power**2*parameters[i][1]/aggregator\n",
    "            gen.cost_coeff_Q1= net.base_power*parameters[i][2]/aggregator\n",
    "            gen.dP_max= parameters[i][5]/net.base_power*aggregator\n",
    "            \n",
    "            ramp_up[gen.index]=(aggregator*parameters[i][5])/net.base_power\n",
    "            ramp_down[gen.index]=(aggregator*parameters[i][6])/net.base_power\n",
    "            min_down[gen.index]= parameters[i][7]\n",
    "            min_up[gen.index] = parameters[i][8]\n",
    "            on_off_cost[gen.index] =parameters[i][9]*aggregator\n",
    "            \n",
    "            gen_tech[gen.index] = parameters[i][0]\n",
    "            \n",
    "name_techno=list(set([techno[0] for techno in parameters]))"
   ]
  },
  {
   "cell_type": "code",
   "execution_count": 10,
   "metadata": {
    "collapsed": false
   },
   "outputs": [
    {
     "data": {
      "text/plain": [
       "chararray(['CCGT', 'CCGT', 'CCGT', 'IGCC', 'Nuclear'], \n",
       "      dtype='|S10')"
      ]
     },
     "execution_count": 10,
     "metadata": {},
     "output_type": "execute_result"
    }
   ],
   "source": [
    "gen_tech"
   ]
  },
  {
   "cell_type": "code",
   "execution_count": 11,
   "metadata": {
    "collapsed": false
   },
   "outputs": [
    {
     "name": "stdout",
     "output_type": "stream",
     "text": [
      "('Nuclear', 0.43034697048161569)\n",
      "('IGCC', 0.18125323666494039)\n",
      "('CCGT', 0.38839979285344378)\n",
      "('OCGT', 0.0)\n",
      "('Coal', 0.0)\n"
     ]
    }
   ],
   "source": [
    "for name in name_techno:\n",
    "    print (name,np.sum([ gen.P_max for idx,gen in enumerate( net.generators) if gen_tech[idx]==name ])/total_capacity)"
   ]
  },
  {
   "cell_type": "code",
   "execution_count": 12,
   "metadata": {
    "collapsed": false
   },
   "outputs": [
    {
     "name": "stdout",
     "output_type": "stream",
     "text": [
      "1 Nuclear\n",
      "1 IGCC\n",
      "3 CCGT\n",
      "0 OCGT\n",
      "0 Coal\n"
     ]
    }
   ],
   "source": [
    "for idx, name in enumerate(name_techno):\n",
    "    print sum([1 for i in range(num_p) if gen_tech[i]==name]),name"
   ]
  },
  {
   "cell_type": "code",
   "execution_count": 13,
   "metadata": {
    "collapsed": false
   },
   "outputs": [],
   "source": [
    "# sorted([(gen.index , gen.P_max) for idx , gen in enumerate( net.generators)],\n",
    "#        key = lambda x: float(x[1]),reverse=True)\n",
    "    "
   ]
  },
  {
   "cell_type": "code",
   "execution_count": 14,
   "metadata": {
    "collapsed": true
   },
   "outputs": [],
   "source": [
    "net.clear_flags()\n",
    "net.set_flags(pf.OBJ_BUS,\n",
    "              pf.FLAG_VARS,\n",
    "              pf.BUS_PROP_NOT_SLACK,\n",
    "              pf.BUS_VAR_VANG)\n",
    "net.set_flags(pf.OBJ_GEN,\n",
    "              pf.FLAG_VARS,\n",
    "              pf.GEN_PROP_P_ADJUST,\n",
    "              pf.GEN_VAR_P)\n",
    "net.set_flags(pf.OBJ_VARGEN,\n",
    "              pf.FLAG_VARS,\n",
    "              pf.VARGEN_PROP_ANY,\n",
    "              pf.VARGEN_VAR_P)\n",
    "net.set_flags(pf.OBJ_LOAD,\n",
    "              pf.FLAG_VARS,\n",
    "              pf.LOAD_PROP_ANY,\n",
    "              pf.LOAD_VAR_P)"
   ]
  },
  {
   "cell_type": "code",
   "execution_count": 15,
   "metadata": {
    "collapsed": false
   },
   "outputs": [],
   "source": [
    "x = net.get_var_values()\n",
    "Pw = net.get_var_projection(pf.OBJ_BUS,pf.BUS_VAR_VANG)\n",
    "Pp = net.get_var_projection(pf.OBJ_GEN,pf.GEN_VAR_P)\n",
    "Pr = net.get_var_projection(pf.OBJ_VARGEN,pf.VARGEN_VAR_P)\n",
    "Pd = net.get_var_projection(pf.OBJ_LOAD,pf.LOAD_VAR_P)\n"
   ]
  },
  {
   "cell_type": "code",
   "execution_count": 16,
   "metadata": {
    "collapsed": false
   },
   "outputs": [],
   "source": [
    "pf_eq = pf.Constraint(pf.CONSTR_TYPE_DCPF,net)\n",
    "pf_eq.analyze()\n",
    "pf_eq.eval(x)\n",
    "AA = pf_eq.A.copy()\n",
    "bb = pf_eq.b.copy()"
   ]
  },
  {
   "cell_type": "code",
   "execution_count": 17,
   "metadata": {
    "collapsed": false
   },
   "outputs": [],
   "source": [
    "fl_lim = pf.Constraint(pf.CONSTR_TYPE_DC_FLOW_LIM,net)\n",
    "fl_lim.analyze()\n",
    "fl_lim.eval(x)\n",
    "GG = fl_lim.G.copy()\n",
    "hl = fl_lim.l.copy()\n",
    "hu = fl_lim.u.copy()"
   ]
  },
  {
   "cell_type": "code",
   "execution_count": 18,
   "metadata": {
    "collapsed": false
   },
   "outputs": [],
   "source": [
    "cost = pf.Function(pf.FUNC_TYPE_GEN_COST,1.,net)\n",
    "cost.analyze()\n",
    "cost.eval(x)\n",
    "H = (cost.Hphi + cost.Hphi.T - triu(cost.Hphi)) # symmetric\n",
    "g = cost.gphi - H*x\n",
    "l = net.get_var_values(pf.LOWER_LIMITS)\n",
    "u = net.get_var_values(pf.UPPER_LIMITS)"
   ]
  },
  {
   "cell_type": "code",
   "execution_count": 19,
   "metadata": {
    "collapsed": false
   },
   "outputs": [],
   "source": [
    "p_max = Pp*u\n",
    "p_min = Pp*l\n",
    "w_max = 5*np.ones(num_w)\n",
    "w_min = -5*np.ones(num_w)\n",
    "r_max = Pr*u\n",
    "r_base = Pr*x\n",
    "z_max = hu\n",
    "z_min = hl \n",
    "H0 = Pp*H*Pp.T # change costs\n",
    "g0 = Pp*g\n",
    "#H1 = self.H0*self.parameters['cost_factor']\n",
    "g1 = np.zeros(num_p)\n",
    "G = AA*Pp.T\n",
    "R = AA*Pr.T\n",
    "A = -AA*Pw.T\n",
    "Dm = -AA*Pd.T\n",
    "J = GG*Pw.T \n",
    "b = bb\n",
    "ll= Pd*x #np.array([l.P for l in net.loads]) # check "
   ]
  },
  {
   "cell_type": "code",
   "execution_count": 20,
   "metadata": {
    "collapsed": false
   },
   "outputs": [],
   "source": [
    "rr_cov = Pr*net.create_vargen_P_sigma(corr_radius,corr_value)*Pr.T\n",
    "r_cov = (rr_cov+rr_cov.T-triu(rr_cov)).tocsc()\n",
    "factor = cholesky(r_cov)\n",
    "LL,D = factor.L_D()\n",
    "P = factor.P()\n",
    "PT = coo_matrix((np.ones(P.size),(P,np.arange(P.size))),shape=D.shape)\n",
    "D = D.tocoo()\n",
    "Dh = coo_matrix((np.sqrt(D.data),(D.row,D.col)),shape=D.shape)\n",
    "L = PT*LL*Dh"
   ]
  },
  {
   "cell_type": "code",
   "execution_count": 21,
   "metadata": {
    "collapsed": false
   },
   "outputs": [],
   "source": [
    "from cvxpy import *\n",
    "import mosek\n",
    "import gurobi\n",
    "import pickle"
   ]
  },
  {
   "cell_type": "code",
   "execution_count": 22,
   "metadata": {
    "collapsed": true
   },
   "outputs": [],
   "source": [
    "# opt_res=pickle.load( open( \"deterministic_pwl.p\", \"rb\" ) )"
   ]
  },
  {
   "cell_type": "code",
   "execution_count": 23,
   "metadata": {
    "collapsed": true
   },
   "outputs": [],
   "source": [
    "PWL=True"
   ]
  },
  {
   "cell_type": "code",
   "execution_count": 24,
   "metadata": {
    "collapsed": false
   },
   "outputs": [
    {
     "data": {
      "image/png": "[encoded data removed]",
      "text/plain": [
       "<matplotlib.figure.Figure at 0x7fde9dd8ca50>"
      ]
     },
     "metadata": {},
     "output_type": "display_data"
    }
   ],
   "source": [
    "# PWL approximation\n",
    "pwl_cost=[]\n",
    "if PWL:\n",
    "    pwl_points=3\n",
    "    pwl_cost=np.zeros([num_p,pwl_points])\n",
    "    for gen_id in range(num_p):\n",
    "        xx=np.linspace(p_min[gen_id]*0,p_max[gen_id],pwl_points+1)\n",
    "        y=np.zeros(pwl_points+1)\n",
    "        for i in range(0,pwl_points+1):\n",
    "            y[i]=0.5*H0.diagonal()[gen_id]*xx[i]**2+g0[gen_id]*xx[i]\n",
    "            pwl_cost[gen_id][i-1]=((y[i]-y[i-1])/(xx[i]-xx[i-1]))\n",
    "        plt.plot(xx,y)\n",
    "\n",
    "    for gen_id in range(num_p):\n",
    "        for i in range(1,pwl_points):\n",
    "            assert pwl_cost[gen_id][i]>pwl_cost[gen_id][i-1]"
   ]
  },
  {
   "cell_type": "code",
   "execution_count": 25,
   "metadata": {
    "collapsed": false
   },
   "outputs": [],
   "source": [
    "norm_factor=24*num_p\n",
    "H0=H0/(norm_factor)\n",
    "g0=g0/(norm_factor)\n",
    "pwl_cost=pwl_cost/norm_factor\n",
    "on_off_cost=on_off_cost/norm_factor"
   ]
  },
  {
   "cell_type": "code",
   "execution_count": 26,
   "metadata": {
    "collapsed": false
   },
   "outputs": [],
   "source": [
    "load_data=np.genfromtxt('BPA_data/day6.csv',delimiter=',',names=True)\n",
    "r_test=np.flipud(load_data['wind'])*total_load*(penetration/100)/num_r"
   ]
  },
  {
   "cell_type": "code",
   "execution_count": 27,
   "metadata": {
    "collapsed": false
   },
   "outputs": [],
   "source": [
    "np.random.seed(seed=100)\n",
    "n_h=24\n",
    "p=Variable(num_p,n_h)\n",
    "w=Variable(num_w,n_h)\n",
    "# z=Variable(num_br,n_h)\n",
    "s=Variable(num_r,n_h)\n",
    "load=Variable(num_l,n_h)\n",
    "# on_off=Variable(num_p,n_h)\n",
    "\n",
    "on_off=Bool(num_p,n_h)\n",
    "Pforecast=total_load\n",
    "Load_Penalty=np.max(pwl_cost)*2\n",
    "# p_min = p_max*0.0\n",
    "rampup = ramp_up #p_max/(H0.diagonal()/np.max(H0))*0.04 \n",
    "rampdown=  ramp_down #p_max/(H0.diagonal()/np.max(H0))*0.04 \n",
    "\n",
    "if PWL:\n",
    "    gk=Variable(num_p*pwl_points,n_h)\n",
    "\n",
    "theta=Variable(1)\n",
    "on_off_value=np.zeros((num_p,n_h))\n",
    "\n",
    "ontime=np.zeros(num_p)-25\n",
    "on_off_init=np.zeros(num_p)"
   ]
  },
  {
   "cell_type": "code",
   "execution_count": 28,
   "metadata": {
    "collapsed": false
   },
   "outputs": [],
   "source": [
    "PWL=True"
   ]
  },
  {
   "cell_type": "code",
   "execution_count": 29,
   "metadata": {
    "collapsed": false
   },
   "outputs": [],
   "source": [
    "def eval_obj (on_off=on_off.value,p=p.value,on_off_init=on_off_init,PWL=PWL,\n",
    "              on_off_cost=on_off_cost,pwl_cost=pwl_cost,H0=H0,g0=g0,\n",
    "              load=load.value,b=b):\n",
    "    obj_eval=0\n",
    "    for i in range(1,n_h):\n",
    "        obj_eval = obj_eval + np.sum(on_off_cost*np.maximum(on_off[:,i] - on_off[:,i-1],0))\n",
    "    obj_eval = obj_eval + np.sum((on_off_cost)*np.maximum(on_off[:,0].T - on_off_init,0).T)\n",
    "\n",
    "#     for i in range (n_h):\n",
    "#         if PWL:\n",
    "#             for j in range(pwl_points):\n",
    "#                 for k in range(num_p):\n",
    "#                     obj_eval=obj_eval + gk[k+(num_p*j),i]*pwl_cost[k,j]\n",
    "#         else:\n",
    "#             obj_eval=obj_eval + 0.5*p[:,i].T*H0*p[:,i]\n",
    "#             obj_eval=obj_eval + g0*p[:,i]# check \n",
    "\n",
    "#         obj_eval=obj_eval + Load_Penalty*np.linalg.norm(load[:,i]-b[:,i],1)\n",
    "        \n",
    "    return obj_eval\n",
    "\n",
    "def max_bend(lam,lmax=1e6):\n",
    "    return np.maximum(np.minimum(lam,lmax),0.)"
   ]
  },
  {
   "cell_type": "code",
   "execution_count": 31,
   "metadata": {
    "collapsed": false,
    "scrolled": true
   },
   "outputs": [
    {
     "data": {
      "image/png": "[encoded data removed]",
      "text/plain": [
       "<matplotlib.figure.Figure at 0x7fde9bd4cd10>"
      ]
     },
     "metadata": {},
     "output_type": "display_data"
    }
   ],
   "source": [
    "np.random.seed(seed=100)\n",
    "mult=2.5\n",
    "n_samples=100\n",
    "n_test=1000\n",
    "scenarios=np.zeros([n_samples+n_test,n_h])\n",
    "scenarios_bus=np.zeros([num_r,n_h,n_samples+n_test])\n",
    "b=[]\n",
    "b=np.zeros([num_l,n_h])\n",
    "for i in range (n_h):\n",
    "    b[:,i]=mult*np.abs(ll)*load_data['load'][i]#/load_data['load'][0]\n",
    "\n",
    "for j in range(n_samples+n_test):\n",
    "    r=[]\n",
    "    r=np.zeros([num_r,n_h])\n",
    "    for i in range (n_h):\n",
    "        r[:,i]=mult*np.minimum(np.maximum(r_test[i]*np.ones(num_r)\n",
    "                                     +L*np.random.randn(num_r)*np.sqrt(r_test[i]+0.1)*np.sqrt((i*1.+1)/(n_h)),1e-3),r_max)\n",
    "    scenarios_bus[:,:,j]=r\n",
    "    scenarios[j,:]=sum(r)\n",
    "    plt.plot(sum(r)/total_load,color='gray')\n",
    "\n",
    "plt.plot(np.mean(scenarios,0)/total_load,color='r',linewidth=3.0)\n",
    "plt.plot(mult*r_test*num_r/total_load,color='k',linewidth=3.0)\n",
    "plt.show()"
   ]
  },
  {
   "cell_type": "code",
   "execution_count": 32,
   "metadata": {
    "collapsed": true
   },
   "outputs": [],
   "source": [
    "# pickle.dump( scenarios_bus, open( \"pickle/scenarios_bus.p\", \"wb\" ) )"
   ]
  },
  {
   "cell_type": "code",
   "execution_count": 33,
   "metadata": {
    "collapsed": false
   },
   "outputs": [],
   "source": [
    "# np.mean(load_value,0)"
   ]
  },
  {
   "cell_type": "code",
   "execution_count": 34,
   "metadata": {
    "collapsed": false
   },
   "outputs": [],
   "source": [
    "# plt.plot(np.sum(np.mean(scenarios_bus,2),0))\n",
    "# plt.plot(np.sum(r,0))\n",
    "# plt.show()\n",
    "# r=np.mean(scenarios_bus,2)"
   ]
  },
  {
   "cell_type": "code",
   "execution_count": 35,
   "metadata": {
    "collapsed": false
   },
   "outputs": [],
   "source": [
    "# ((rampup/p_max)/60)*100"
   ]
  },
  {
   "cell_type": "code",
   "execution_count": 36,
   "metadata": {
    "collapsed": false
   },
   "outputs": [],
   "source": [
    "def sensitivity(on_off_value,Constraints,Objective,Q_eval,n_h=n_h,p_max=p_max,p_min=p_min):\n",
    "    delta_u=[]\n",
    "    u_plus_delta_u=[]\n",
    "    \n",
    "    Constraints=list(Constraints)\n",
    "    for i in range(n_h):\n",
    "        delta_u.append(np.matrix(np.random.randn(num_p)).T)\n",
    "        u_plus_delta_u.append(np.minimum(np.maximum(on_off_value[:,i]+delta_u[-1]/20,0),5))\n",
    "        delta_u[-1]=- on_off_value[:,i] + u_plus_delta_u[-1]\n",
    "        \n",
    "#     zeta_du=np.sum([np.dot((Constraints[i].dual_value).T,delta_u[i])\n",
    "#             +np.dot((Constraints[i+n_h].dual_value).T,delta_u[i])\n",
    "#             for i in range(n_h) ])\n",
    "    \n",
    "    zeta_du=np.sum([-(np.diag(p_max)*Constraints[i].dual_value).T*(delta_u[i]) \n",
    "                    +(np.diag(p_min)*Constraints[i+n_h].dual_value).T*(delta_u[i])\n",
    "                    for i in range(n_h) ])\n",
    "\n",
    "    \n",
    "    for i in range (n_h):\n",
    "        Constraints[i]=(p[:,i]<=mul_elemwise(p_max[:],u_plus_delta_u[i]))\n",
    "    for i in range (n_h):\n",
    "        Constraints[i+n_h]=(p[:,i]>=mul_elemwise(p_min[:],u_plus_delta_u[i]))\n",
    "        \n",
    "    prob = []\n",
    "    prob = Problem(Minimize(Objective), Constraints)\n",
    "    Q_deltau=prob.solve(solver=GUROBI)\n",
    "    \n",
    "    return Q_deltau >= Q_eval + zeta_du\n",
    "\n"
   ]
  },
  {
   "cell_type": "code",
   "execution_count": 56,
   "metadata": {
    "collapsed": true
   },
   "outputs": [],
   "source": [
    "def eval_on_off(on_off_value,r,Constraints,Objective,duals=False):\n",
    "    dual_multiplier_pos=np.matrix(np.zeros((n_h,num_p)))\n",
    "    dual_multiplier_neg=np.matrix(np.zeros((n_h,num_p)))\n",
    "    Constraints=list(Constraints)      \n",
    "    for i in range (n_h):\n",
    "        Constraints[i]=(p[:,i]<=mul_elemwise(p_max[:],on_off_value[:,i]))\n",
    "    for i in range (n_h):\n",
    "        Constraints[i+n_h]=(p[:,i]>=mul_elemwise(p_min[:],on_off_value[:,i]))\n",
    "    for i in range (n_h):\n",
    "        Constraints[i+2*n_h]=(s[:,i]<=r[:,i])\n",
    "        \n",
    "    prob = []\n",
    "    prob = Problem(Minimize(Objective), Constraints)\n",
    "    Q=prob.solve(solver=MOSEK)#GUROBI,BarQCPConvTol=1e-8\n",
    "    \n",
    "#     for i in range (2*n_h):\n",
    "#         for j in range (num_p):\n",
    "#             if Constraints[i].dual_value[j] <=20:\n",
    "#                 Constraints[i].dual_value[j]=0\n",
    "    \n",
    "#     sens=np.all([sensitivity(on_off_value=on_off_value,Constraints=Constraints,Objective=Objective,Q_eval=Q_eval) \n",
    "#                  for i in range(20)])\n",
    "    \n",
    "    for i in range(n_h):\n",
    "        dual_multiplier_pos[i,: ]= np.squeeze( np.asarray((np.diag(p_max)*Constraints[i].dual_value).T))\n",
    "    for i in range(n_h):\n",
    "        dual_multiplier_neg[i,: ]= np.squeeze( np.asarray((np.diag(p_min)*Constraints[i+n_h].dual_value).T))\n",
    "        \n",
    "    if not duals:\n",
    "        return Q,p.value,load.value,s.value\n",
    "    else:\n",
    "        return Q, dual_multiplier_pos, dual_multiplier_neg"
   ]
  },
  {
   "cell_type": "code",
   "execution_count": 38,
   "metadata": {
    "collapsed": false
   },
   "outputs": [],
   "source": [
    "# sensitivity(on_off_value=on_off_value,Constraints=Constraints,Objective=Objective,Q_eval=Q_eval) "
   ]
  },
  {
   "cell_type": "code",
   "execution_count": 73,
   "metadata": {
    "collapsed": false
   },
   "outputs": [],
   "source": [
    "#Benders\n",
    "Q=[]\n",
    "Qd=[]\n",
    "T=[]\n",
    "T.append(-1e9)\n",
    "cost=[]\n",
    "upper=[]\n",
    "lower=[]\n",
    "o1=[]\n",
    "o2=[]\n",
    "lower.append(-1e9)\n",
    "tr_reg=1\n",
    "\n",
    "# init constraints first stage\n",
    "Constraints_FS=[]\n",
    "\n",
    "# for i in range(n_h):\n",
    "#     Constraints_FS.append(sum(abs(on_off[:,i]-on_off_value[:,i]))<=tr_reg)\n",
    "\n",
    "for j in range (num_p):\n",
    "    if on_off_init[j]==1:\n",
    "        indi= 1\n",
    "        rang= range(0,min(n_h,int(min_up[j]-ontime[j]-1)))\n",
    "        if rang != []:\n",
    "            Constraints_FS.append(on_off[j,rang]>=indi)\n",
    "    else:\n",
    "        indi= 1\n",
    "        rang= range(0,min(n_h,int(min_down[j]+ontime[j]-1)))\n",
    "        if rang != []:\n",
    "            Constraints_FS.append(on_off[j,rang]<=1-indi)\n",
    "    \n",
    "for i in range(1,n_h):\n",
    "    for j in range (num_p):\n",
    "        indi=(on_off[j,i] - on_off[j,i-1])\n",
    "        rang= range(i,min(n_h,int(i+min_up[j]-1)))\n",
    "#         affected=on_off[j,rang]\n",
    "#         print type(affected)\n",
    "        Constraints_FS.append(on_off[j,rang]>=indi)\n",
    "        \n",
    "for i in range(1,n_h):\n",
    "    for j in range (num_p):\n",
    "        indi=(on_off[j,i-1]-on_off[j,i] )\n",
    "        rang= range(i,min(n_h,int(i+min_down[j]-1)))\n",
    "        if rang != []:\n",
    "            Constraints_FS.append(on_off[j,rang]<=1-indi)\n",
    "            \n",
    "# for i in range(n_h):\n",
    "#     Constraints_FS.append(on_off[:,i]<=1)\n",
    "#     Constraints_FS.append(on_off[:,i]>=0)\n",
    "\n",
    "#init objective first stage\n",
    "Objective_FS=0\n",
    "\n",
    "for i in range(1,n_h):\n",
    "    Objective_FS=Objective_FS + sum(mul_elemwise(on_off_cost[:],max_elemwise(on_off[:,i] - on_off[:,i-1],0)))\n",
    "\n",
    "Objective_FS=Objective_FS + sum(mul_elemwise(on_off_cost[:],max_elemwise(on_off[:,0] - on_off_init,0)))\n",
    "Objective_FS=Objective_FS+theta  \n",
    "Objective_FS=Objective_FS\n",
    "\n",
    "# init constraints second stage\n",
    "\n",
    "Constraints=[]\n",
    "for i in range (n_h):\n",
    "    Constraints.append(p[:,i]<=mul_elemwise(p_max[:],on_off_value[:,i]))\n",
    "for i in range (n_h):\n",
    "    Constraints.append(p[:,i]>=mul_elemwise(p_min[:],on_off_value[:,i]))\n",
    "for i in range (n_h):\n",
    "    Constraints.append(s[:,i]<=r[:,i])\n",
    "\n",
    "for i in range (n_h):\n",
    "    if PWL:\n",
    "        for j in range (pwl_points):\n",
    "            Constraints.append(gk[num_p*j:num_p*(j+1),i]<=p_max/(pwl_points))\n",
    "            Constraints.append(gk[num_p*j:num_p*(j+1),i]>=0)\n",
    "    \n",
    "        Constraints.append( p[:,i]== np.sum ([gk[num_p*j:num_p*(j+1),i] for j in range(pwl_points)]) )\n",
    "       \n",
    "    Constraints.append(G*p[:,i]+R*s[:,i]-A*w[:,i]==Dm*load[:,i])\n",
    "    Constraints.append(w[:,i]<=w_max)\n",
    "    Constraints.append(w[:,i]>=w_min)\n",
    "    Constraints.append(J*w[:,i]<=z_max)\n",
    "    Constraints.append(J*w[:,i]>=z_min)\n",
    "    #Changed here\n",
    "    Constraints.append(s[:,i]>=0)\n",
    "    Constraints.append(load[:,i]>=0)\n",
    "    Constraints.append(load[:,i]<=b[:,i])\n",
    "for i in range(1,n_h):\n",
    "    Constraints.append(p[:,i]-p[:,i-1]<=rampup[:])\n",
    "    Constraints.append(p[:,i]-p[:,i-1]>=-rampdown[:])   \n",
    "    \n",
    "\n",
    "# init objective secon stage\n",
    "\n",
    "Objective=0\n",
    "for i in range (n_h):\n",
    "    if PWL:\n",
    "        for j in range(pwl_points):\n",
    "            Objective=Objective + sum_entries(mul_elemwise(pwl_cost[:,j],gk[num_p*j:num_p*(j+1),i]))\n",
    "#             for k in range(num_p):\n",
    "#                 Objective=Objective + gk[k+(num_p*j),i]*pwl_cost[k,j]\n",
    "    else:\n",
    "        Objective=Objective + quad_form(p[:,i],H0*0.5)\n",
    "        Objective=Objective + g0*p[:,i]# check \n",
    "        \n",
    "    Objective=Objective + Load_Penalty*norm(load[:,i]-b[:,i],1)\n",
    "Objective=Objective#/10"
   ]
  },
  {
   "cell_type": "code",
   "execution_count": 40,
   "metadata": {
    "collapsed": false
   },
   "outputs": [],
   "source": [
    "results=pickle.load( open( \"pickle/Stoch_Benders_200_iter_2_load_shedd.p\", \"rb\" ) )"
   ]
  },
  {
   "cell_type": "code",
   "execution_count": 44,
   "metadata": {
    "collapsed": true
   },
   "outputs": [],
   "source": [
    "import dill"
   ]
  },
  {
   "cell_type": "code",
   "execution_count": 45,
   "metadata": {
    "collapsed": false
   },
   "outputs": [],
   "source": [
    "scenarios_bus=dill.load( open( \"pickle/scenarios_bus.p\", \"rb\" ) )"
   ]
  },
  {
   "cell_type": "code",
   "execution_count": 68,
   "metadata": {
    "collapsed": false
   },
   "outputs": [
    {
     "data": {
      "image/png": "[encoded data removed]",
      "text/plain": [
       "<matplotlib.figure.Figure at 0x7fde9b97ae10>"
      ]
     },
     "metadata": {},
     "output_type": "display_data"
    }
   ],
   "source": [
    "optimal=1974.#2111.7#253433\n",
    "plt.plot(results['upper'][0::])\n",
    "plt.plot(results['lower'][0::])\n",
    "plt.plot(range(len(results['upper'])),np.ones(len(results['upper']))*(optimal))\n",
    "plt.ylim(1e3,5e3)\n",
    "plt.show()"
   ]
  },
  {
   "cell_type": "code",
   "execution_count": 84,
   "metadata": {
    "collapsed": false
   },
   "outputs": [
    {
     "data": {
      "text/plain": [
       "128.72694226190478"
      ]
     },
     "execution_count": 84,
     "metadata": {},
     "output_type": "execute_result"
    }
   ],
   "source": [
    "Load_Penalty"
   ]
  },
  {
   "cell_type": "code",
   "execution_count": 54,
   "metadata": {
    "collapsed": false
   },
   "outputs": [],
   "source": [
    "# results['upper'][0:99]"
   ]
  },
  {
   "cell_type": "code",
   "execution_count": 85,
   "metadata": {
    "collapsed": false
   },
   "outputs": [
    {
     "data": {
      "text/plain": [
       "92"
      ]
     },
     "execution_count": 85,
     "metadata": {},
     "output_type": "execute_result"
    }
   ],
   "source": [
    "np.where(results['upper']==np.min(results['upper']))[0][0]"
   ]
  },
  {
   "cell_type": "code",
   "execution_count": 86,
   "metadata": {
    "collapsed": false
   },
   "outputs": [],
   "source": [
    "Q_value=[]\n",
    "p_value=[]\n",
    "load_value=[]\n",
    "s_value=[]\n",
    "test_on_off=92\n",
    "ocost=eval_obj(on_off=results['on_off_array'][test_on_off])\n",
    "for m in range(n_samples,n_samples+n_test):\n",
    "    Qaux,paux,loadaux,saux=eval_on_off(on_off_value=results['on_off_array'][test_on_off],r=scenarios_bus[:,:,m],\n",
    "                                       Constraints=Constraints,Objective=Objective)\n",
    "    Q_value.append(Qaux+ocost)\n",
    "    p_value.append(paux)\n",
    "    load_value.append(loadaux)\n",
    "    s_value.append(saux)\n",
    "    "
   ]
  },
  {
   "cell_type": "code",
   "execution_count": 87,
   "metadata": {
    "collapsed": false
   },
   "outputs": [
    {
     "name": "stdout",
     "output_type": "stream",
     "text": [
      "2102.59945138 2390.96020756 1879.59363641\n"
     ]
    }
   ],
   "source": [
    "print np.mean(Q_value),np.max(Q_value),np.min(Q_value)"
   ]
  },
  {
   "cell_type": "code",
   "execution_count": 58,
   "metadata": {
    "collapsed": false
   },
   "outputs": [
    {
     "name": "stdout",
     "output_type": "stream",
     "text": [
      "2270.17897754 2396.79183501 2156.3308781\n"
     ]
    }
   ],
   "source": [
    "print np.mean(Q_value),np.max(Q_value),np.min(Q_value)"
   ]
  },
  {
   "cell_type": "code",
   "execution_count": 52,
   "metadata": {
    "collapsed": false
   },
   "outputs": [],
   "source": [
    "# eval_obj(on_off=opt_res['on_off'],p=opt_res['p'],PWL=False).tolist()"
   ]
  },
  {
   "cell_type": "code",
   "execution_count": 59,
   "metadata": {
    "collapsed": false,
    "scrolled": false
   },
   "outputs": [],
   "source": [
    "def plot_demand(p,load,s,r,b,n_h):\n",
    "    colors=['#d7191c','#fdae61','#abdda4','#2b83ba'] #['#ef8a62','#f7f7f7','#67a9cf','#008837']\n",
    "    plt.figure(figsize=(10,10))\n",
    "    plt.fill_between(range(n_h),np.zeros(n_h),np.squeeze(np.asarray(sum(p))),color=colors[3])\n",
    "    plt.fill_between(range(n_h),np.squeeze(np.asarray(sum(p))),\n",
    "                     np.squeeze(np.asarray(sum(p)+sum(s))),\n",
    "                     color=colors[1])\n",
    "\n",
    "    plt.fill_between(range(n_h),np.squeeze(np.asarray(sum(b))),\n",
    "                     np.squeeze(np.asarray(sum(load))),\n",
    "                     color=colors[0])\n",
    "    plt.plot(range(n_h),np.squeeze(np.asarray(sum(b))),color='k',linewidth=3.0)\n",
    "    plt.fill_between(range(n_h),np.zeros(n_h),-np.squeeze(np.asarray(np.abs(-sum(s)+sum(r)))),color=colors[2])\n",
    "    plt.legend(['Demand','Generation','Renewable','Demand not served','Curtailed Renewable '],loc='best')\n",
    "    plt.show()"
   ]
  },
  {
   "cell_type": "code",
   "execution_count": 47,
   "metadata": {
    "collapsed": false
   },
   "outputs": [
    {
     "data": {
      "image/png": "[encoded data removed]",
      "text/plain": [
       "<matplotlib.figure.Figure at 0x7efd5997f2d0>"
      ]
     },
     "metadata": {},
     "output_type": "display_data"
    }
   ],
   "source": [
    "plot_demand(p=p.value,load=load.value,s=s.value,r=r,b=b,n_h=n_h)"
   ]
  },
  {
   "cell_type": "code",
   "execution_count": 60,
   "metadata": {
    "collapsed": false
   },
   "outputs": [],
   "source": [
    "# Q_value[0:10]"
   ]
  },
  {
   "cell_type": "code",
   "execution_count": 61,
   "metadata": {
    "collapsed": false
   },
   "outputs": [
    {
     "name": "stdout",
     "output_type": "stream",
     "text": [
      "2270.17897754 2396.79183501 2156.3308781\n"
     ]
    }
   ],
   "source": [
    "print np.mean(Q_value),np.max(Q_value),np.min(Q_value)"
   ]
  },
  {
   "cell_type": "code",
   "execution_count": 88,
   "metadata": {
    "collapsed": false
   },
   "outputs": [
    {
     "data": {
      "image/png": "[encoded data removed]",
      "text/plain": [
       "<matplotlib.figure.Figure at 0x7fde99ea5c50>"
      ]
     },
     "metadata": {},
     "output_type": "display_data"
    }
   ],
   "source": [
    "plot_demand(p=np.mean(p_value,0),load=np.mean(load_value,0),s=np.mean(s_value,0),r=np.mean(scenarios_bus,2),b=b,n_h=n_h)"
   ]
  },
  {
   "cell_type": "code",
   "execution_count": 64,
   "metadata": {
    "collapsed": false,
    "scrolled": false
   },
   "outputs": [
    {
     "name": "stdout",
     "output_type": "stream",
     "text": [
      "[('Nuclear', 54.390694140154665), ('IGCC', 12.587498558783118), ('CCGT', 40.585399247392822), ('OCGT', 0.0), ('Coal', 0.0)]\n"
     ]
    },
    {
     "data": {
      "image/png": "[encoded data removed]",
      "text/plain": [
       "<matplotlib.figure.Figure at 0x7fde9bc16590>"
      ]
     },
     "metadata": {},
     "output_type": "display_data"
    }
   ],
   "source": [
    "total_p_gen=np.sum(p.value,1)\n",
    "total_share=[]\n",
    "\n",
    "for name in name_techno:\n",
    "    total_share.append((name,np.sum([ total_p_gen[i] for i in range(num_p) if gen_tech[i]==name  ])))\n",
    "print total_share\n",
    "# sorted_name_techno=[x[0] for x in sorted(total_share,key =lambda x: x[1],reverse=True)]\n",
    "sorted_name_techno=['Nuclear','IGCC','Coal','CCGT','OCGT']\n",
    "colors=['#1b9e77','#d95f02','#7570b3','#e7298a','#66a61e']#list((['#f0f9e8','#bae4bc','#7bccc4','#43a2ca','#0868ac']))\n",
    "share_per_hour=np.zeros([len(name_techno)+1,n_h])\n",
    "plt.figure(figsize=(10,10))\n",
    "for idx,name in enumerate(sorted_name_techno):\n",
    "    share_per_hour[idx+1]=np.sum([ np.squeeze(np.asarray(p.value[i])) for i in range(num_p) if gen_tech[i]==name ],0)\n",
    "share_per_hour=np.cumsum(share_per_hour,0)\n",
    "for idx,name in enumerate(sorted_name_techno):\n",
    "    plt.fill_between(range(n_h),share_per_hour[idx],share_per_hour[idx+1],color=colors[idx])\n",
    "plt.legend(sorted_name_techno,loc='best')\n",
    "plt.show()"
   ]
  },
  {
   "cell_type": "code",
   "execution_count": 89,
   "metadata": {
    "collapsed": false,
    "scrolled": false
   },
   "outputs": [
    {
     "data": {
      "image/png": "[encoded data removed]",
      "text/plain": [
       "<matplotlib.figure.Figure at 0x7fde9a6c3850>"
      ]
     },
     "metadata": {},
     "output_type": "display_data"
    }
   ],
   "source": [
    "\n",
    "N = n_h\n",
    "ind = np.arange(N)  # the x locations for the groups\n",
    "width = 1\n",
    "aux=[]\n",
    "aux.append(np.zeros(N).T)\n",
    "cumsum_aux=np.zeros(N)\n",
    "fig, ax = plt.subplots(figsize=(10,10))\n",
    "# rects = ax.bar(ind, strategy1_optMean, width, color=color[0])\n",
    "for idx,name in enumerate(sorted_name_techno):\n",
    "#     print name\n",
    "    aux.append(np.array([np.sum(np.ceil(results['on_off_array'][test_on_off][j,i]) for j in range (num_p) if gen_tech[j]==name) for i in range(n_h)]))\n",
    "    cumsum_aux=np.cumsum(aux,0)\n",
    "#     print aux[-1]\n",
    "    rects = ax.bar(ind, aux[idx+1], width, color=colors[idx],bottom=cumsum_aux[idx])\n",
    "plt.legend(sorted_name_techno,loc='best')  \n",
    "plt.show()\n"
   ]
  },
  {
   "cell_type": "code",
   "execution_count": 263,
   "metadata": {
    "collapsed": false
   },
   "outputs": [],
   "source": [
    "def magnanti_cut(Q_eval,p,on_off_value,p_max=p_max,p_min=p_min,n_h=n_h):\n",
    "    p_value=p.value\n",
    "    dual_u=Variable(num_p,2*n_h)\n",
    "    Cons_dual=[]\n",
    "    Cons_dual.append(np.sum([dual_u[:,i].T*((np.diag(p_max)*on_off_value[:,i])) \n",
    "                        +dual_u[:,i+n_h].T*(-(np.diag(p_min)*on_off_value[:,i]))\n",
    "                        for i in range(n_h) ]) == Q_eval )\n",
    "    for i in range(2*n_h):\n",
    "        Cons_dual.append(dual_u[:,i]>=0)\n",
    "    \n",
    "    Obj_dual=0\n",
    "    for i in range(n_h):\n",
    "        Obj_dual=Obj_dual + sum(mul_elemwise(p_max,dual_u[:,i]))\n",
    "        Obj_dual=Obj_dual + sum(mul_elemwise(p_min,dual_u[:,i+n_h]))\n",
    "        \n",
    "    dual_problem=[]\n",
    "    dual_problem=Problem(Minimize(Obj_dual), Cons_dual)\n",
    "    dual_sol=dual_problem.solve(solver=MOSEK)\n",
    "    return dual_u"
   ]
  },
  {
   "cell_type": "code",
   "execution_count": null,
   "metadata": {
    "collapsed": true
   },
   "outputs": [],
   "source": [
    "import sys\n",
    "sys.setrecursionlimit(10000)\n",
    "\n",
    "variables={}\n",
    "variables['p']=p\n",
    "variables['w']=w\n",
    "variables['s']=s\n",
    "variables['load']=load\n",
    "variables['gk']=gk\n",
    "\n",
    "constants={}\n",
    "constants['Load_Penalty']=Load_Penalty\n",
    "constants['ontime']=ontime\n",
    "constants['H0']=H0\n",
    "constants['g0']=g0\n",
    "constants['pwl_cost']=pwl_cost\n",
    "constants['on_off_cost']=on_off_cost\n",
    "constants['p_max']=p_max\n",
    "constants['p_min']=p_min\n",
    "constants['b']=b\n",
    "constants['rampup']=rampup\n",
    "constants['rampdown']=rampdown\n",
    "constants['w_max']=w_max\n",
    "constants['w_min']=w_min\n",
    "constants['z_max']=z_max\n",
    "constants['z_min']=z_min\n",
    "constants['on_off_init']=on_off_init\n",
    "constants['pwl_points']=pwl_points\n",
    "constants['G']=G\n",
    "constants['Dm']=Dm\n",
    "constants['R']=R\n",
    "constants['A']=A\n",
    "constants['n_h']=n_h\n",
    "constants['num_p']=num_p\n",
    "\n",
    "constants['J']=J\n",
    "constants['PWL']=PWL\n",
    "\n",
    "\n",
    "\n",
    "dill.dump( variables, open( \"pickle/variables.p\", \"wb\" ) )\n",
    "dill.dump( constants, open( \"pickle/constants.p\", \"wb\" ) )\n",
    "dill.dump(Objective,open(\"pickle/Objective.p\", \"wb\"))\n",
    "dill.dump(Constraints,open(\"pickle/Constraints.p\",\"wb\"))\n",
    "\n"
   ]
  }
 ],
 "metadata": {
  "kernelspec": {
   "display_name": "Python 2",
   "language": "python",
   "name": "python2"
  },
  "language_info": {
   "codemirror_mode": {
    "name": "ipython",
    "version": 2
   },
   "file_extension": ".py",
   "mimetype": "text/x-python",
   "name": "python",
   "nbconvert_exporter": "python",
   "pygments_lexer": "ipython2",
   "version": "2.7.12"
  }
 },
 "nbformat": 4,
 "nbformat_minor": 1
}
