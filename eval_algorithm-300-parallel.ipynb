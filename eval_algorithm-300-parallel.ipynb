{
 "cells": [
  {
   "cell_type": "code",
   "execution_count": 1,
   "metadata": {
    "collapsed": true
   },
   "outputs": [],
   "source": [
    "import numpy as np\n",
    "import pfnet as pf\n",
    "from scipy.sparse import triu,bmat,coo_matrix,eye,spdiags\n",
    "import matplotlib.pyplot as plt\n",
    "from scikits.sparse.cholmod import cholesky\n",
    "\n",
    "%matplotlib inline  "
   ]
  },
  {
   "cell_type": "code",
   "execution_count": 3,
   "metadata": {
    "collapsed": true
   },
   "outputs": [],
   "source": [
    "from multiprocess import Pool,cpu_count"
   ]
  },
  {
   "cell_type": "code",
   "execution_count": 4,
   "metadata": {
    "collapsed": true
   },
   "outputs": [],
   "source": [
    "from cvxpy import *\n",
    "import mosek\n",
    "import gurobi\n",
    "import pickle\n",
    "import dill\n",
    "import time"
   ]
  },
  {
   "cell_type": "code",
   "execution_count": 5,
   "metadata": {
    "collapsed": false
   },
   "outputs": [],
   "source": [
    "# sys.setrecursionlimit(10000)"
   ]
  },
  {
   "cell_type": "code",
   "execution_count": 6,
   "metadata": {
    "collapsed": false
   },
   "outputs": [],
   "source": [
    "# dill.load_session(filename='pickle/test_sess.pkl')"
   ]
  },
  {
   "cell_type": "code",
   "execution_count": 7,
   "metadata": {
    "collapsed": false
   },
   "outputs": [],
   "source": [
    "results=dill.load( open( \"pickle/Stoch_Hybrid_ieee300_20iter_3pwl_gurobi_cluster.p\", \"rb\" ) )\n",
    "# scenarios_bus=dill.load( open( \"pickle/scenarios_bus.p\", \"rb\" ) )\n",
    "# Constraints=list(dill.load( open( \"pickle/Constraints.p\", \"rb\" )))\n",
    "# Objective=dill.load( open( \"pickle/Objective.p\", \"rb\" ) )\n",
    "# on_off_cost=pickle.load( open( \"pickle/on_off_cost.p\", \"rb\" ) )\n",
    "# variables=dill.load( open( \"pickle/variables.p\", \"rb\" ) )\n",
    "# constants=dill.load( open( \"pickle/constants.p\", \"rb\" ) )"
   ]
  },
  {
   "cell_type": "code",
   "execution_count": 8,
   "metadata": {
    "collapsed": false
   },
   "outputs": [],
   "source": [
    "# results['time_SS']"
   ]
  },
  {
   "cell_type": "code",
   "execution_count": 9,
   "metadata": {
    "collapsed": false
   },
   "outputs": [],
   "source": [
    "# Constraints=list(results['Constraint'])\n",
    "# Objective=results['Objective']\n",
    "# variables=results['variables']\n",
    "# constants=results['constants']"
   ]
  },
  {
   "cell_type": "code",
   "execution_count": 10,
   "metadata": {
    "collapsed": false
   },
   "outputs": [],
   "source": [
    "for res in results.keys():\n",
    "    exec (res + \"= results[res]\")"
   ]
  },
  {
   "cell_type": "code",
   "execution_count": 11,
   "metadata": {
    "collapsed": false
   },
   "outputs": [],
   "source": [
    "for var in variables.keys():\n",
    "    exec (var + \"= variables[var]\")\n",
    "for cons in constants.keys():\n",
    "    exec (cons + \"= constants[cons]\")\n",
    "    \n"
   ]
  },
  {
   "cell_type": "code",
   "execution_count": 12,
   "metadata": {
    "collapsed": false
   },
   "outputs": [],
   "source": [
    "p=Variable(p.size[0],p.size[1])\n",
    "w=Variable(w.size[0],w.size[1])\n",
    "s=Variable(s.size[0],s.size[1])\n",
    "load=Variable(load.size[0],load.size[1])\n",
    "on_off_param=Parameter(num_p,n_h)\n",
    "r_parameter=Parameter(s.size[0],s.size[1])\n",
    "\n",
    "\n",
    "if PWL:\n",
    "    gk=Variable(gk.size[0],gk.size[1])\n",
    "\n",
    "on_off_value=np.zeros((num_p,n_h))\n",
    "on_off_init=np.zeros(num_p)\n"
   ]
  },
  {
   "cell_type": "code",
   "execution_count": 13,
   "metadata": {
    "collapsed": false
   },
   "outputs": [],
   "source": [
    "r=np.mean(scenarios_bus,2)"
   ]
  },
  {
   "cell_type": "code",
   "execution_count": 14,
   "metadata": {
    "collapsed": false
   },
   "outputs": [],
   "source": [
    "def eval_obj (on_off,on_off_cost=on_off_cost,n_h=24):\n",
    "    obj_eval=0\n",
    "    for i in range(1,n_h):\n",
    "        obj_eval = obj_eval + np.sum(on_off_cost*np.maximum(on_off[:,i] - on_off[:,i-1],0))\n",
    "    obj_eval = obj_eval + np.sum((on_off_cost)*np.maximum(on_off[:,0].T - on_off_init,0).T)\n",
    "\n",
    "#     for i in range (n_h):\n",
    "#         if PWL:\n",
    "#             for j in range(pwl_points):\n",
    "#                 for k in range(num_p):\n",
    "#                     obj_eval=obj_eval + gk[k+(num_p*j),i]*pwl_cost[k,j]\n",
    "#         else:\n",
    "#             obj_eval=obj_eval + 0.5*p[:,i].T*H0*p[:,i]\n",
    "#             obj_eval=obj_eval + g0*p[:,i]# check \n",
    "\n",
    "#         obj_eval=obj_eval + Load_Penalty*np.linalg.norm(load[:,i]-b[:,i],1)\n",
    "        \n",
    "    return obj_eval\n"
   ]
  },
  {
   "cell_type": "code",
   "execution_count": 15,
   "metadata": {
    "collapsed": true
   },
   "outputs": [],
   "source": [
    "PWL=False"
   ]
  },
  {
   "cell_type": "code",
   "execution_count": 16,
   "metadata": {
    "collapsed": true
   },
   "outputs": [],
   "source": [
    "#         Constraints.append([gk[num_p*j:num_p*(j+1),i]<=p_max/(pwl_points) for j in range(pwl_points)][0])\n",
    "#         Constraints.append([gk[num_p*j:num_p*(j+1),i]>=0 for j in range(pwl_points)][0])"
   ]
  },
  {
   "cell_type": "code",
   "execution_count": 17,
   "metadata": {
    "collapsed": false
   },
   "outputs": [],
   "source": [
    "# init constraints second stage\n",
    "\n",
    "Constraints=[]\n",
    "for i in range (n_h):\n",
    "    Constraints.append(p[:,i]<=mul_elemwise(p_max[:],on_off_param[:,i]))\n",
    "for i in range (n_h):\n",
    "    Constraints.append(p[:,i]>=mul_elemwise(p_min[:],on_off_param[:,i]))\n",
    "for i in range (n_h):\n",
    "    Constraints.append(s[:,i]<=r_parameter[:,i])\n",
    "\n",
    "for i in range (n_h):\n",
    "    if PWL:\n",
    "        for j in range (pwl_points):\n",
    "            Constraints.append(gk[num_p*j:num_p*(j+1),i]<=p_max/(pwl_points))\n",
    "            Constraints.append(gk[num_p*j:num_p*(j+1),i]>=0)\n",
    "    \n",
    "        Constraints.append( p[:,i]== np.sum ([gk[num_p*j:num_p*(j+1),i] for j in range(pwl_points)]) )\n",
    "       \n",
    "    Constraints.append(G*p[:,i]+R*s[:,i]-A*w[:,i]==Dm*load[:,i])\n",
    "    Constraints.append(w[:,i]<=w_max)\n",
    "    Constraints.append(w[:,i]>=w_min)\n",
    "    Constraints.append(J*w[:,i]<=z_max)\n",
    "    Constraints.append(J*w[:,i]>=z_min)\n",
    "    #Changed here\n",
    "    Constraints.append(s[:,i]>=0)\n",
    "    Constraints.append(load[:,i]>=0)\n",
    "    Constraints.append(load[:,i]<=b[:,i])\n",
    "for i in range(1,n_h):\n",
    "    Constraints.append(p[:,i]-p[:,i-1]<=rampup[:])\n",
    "    Constraints.append(p[:,i]-p[:,i-1]>=-rampdown[:])   \n",
    "    \n",
    "\n",
    "# init objective secon stage\n",
    "\n",
    "Objective=0\n",
    "for i in range (n_h):\n",
    "    if PWL:\n",
    "        for j in range(pwl_points):\n",
    "            Objective=Objective + sum_entries(mul_elemwise(pwl_cost[:,j],gk[num_p*j:num_p*(j+1),i]))\n",
    "#             for k in range(num_p):\n",
    "#                 Objective=Objective + gk[k+(num_p*j),i]*pwl_cost[k,j]\n",
    "    else:\n",
    "        Objective=Objective + quad_form(p[:,i],H0*0.5)\n",
    "        Objective=Objective + g0*p[:,i]# check \n",
    "        \n",
    "    Objective=Objective + Load_Penalty*norm(load[:,i]-b[:,i],1)\n",
    "# Objective=Objective/10\n",
    "prob = []\n",
    "prob = Problem(Minimize(Objective), Constraints)\n",
    "\n"
   ]
  },
  {
   "cell_type": "code",
   "execution_count": 54,
   "metadata": {
    "collapsed": false
   },
   "outputs": [],
   "source": [
    "def plot_demand(p,load,s,r,b,n_h):\n",
    "    colors=['#d7191c','#fdae61','#abdda4','#2b83ba'] #['#ef8a62','#f7f7f7','#67a9cf','#008837']\n",
    "    plt.figure(figsize=(10,10))\n",
    "    plt.fill_between(range(n_h),np.zeros(n_h),np.squeeze(np.asarray(sum(p))),color=colors[3])\n",
    "    plt.fill_between(range(n_h),np.squeeze(np.asarray(sum(p))),\n",
    "                     np.squeeze(np.asarray(sum(p)+sum(s))),\n",
    "                     color=colors[1])\n",
    "\n",
    "    plt.fill_between(range(n_h),np.squeeze(np.asarray(sum(b))),\n",
    "                     np.squeeze(np.asarray(sum(load))),\n",
    "                     color=colors[0])\n",
    "    plt.plot(range(n_h),np.squeeze(np.asarray(sum(b))),color='k',linewidth=3.0)\n",
    "    plt.fill_between(range(n_h),np.zeros(n_h),-np.squeeze(np.asarray(np.abs(-sum(s)+sum(r)))),color=colors[2])\n",
    "    plt.legend(['Demand','Generation','Renewable','Demand not served','Curtailed Renewable '],loc='best')\n",
    "    plt.show()"
   ]
  },
  {
   "cell_type": "code",
   "execution_count": 29,
   "metadata": {
    "collapsed": false
   },
   "outputs": [],
   "source": [
    "def eval_on_off(on_off_value,r,j,k,duals=False,n_h=n_h,num_p=num_p):     \n",
    "    on_off_param.value=on_off_value[k]\n",
    "    r_parameter.value=r[:,:,j]\n",
    "    Q=prob.solve(solver=ECOS,verbose=False,)\n",
    "    if not duals:\n",
    "        return Q,p.value,load.value,s.value\n",
    "    \n"
   ]
  },
  {
   "cell_type": "code",
   "execution_count": 20,
   "metadata": {
    "collapsed": false
   },
   "outputs": [],
   "source": [
    "on_off_array1=[]\n",
    "on_off_array1= pickle.load(open( \"pickle/Stoch_Hybrid_ieee300_gurobi_test_3pwl_cluster.p\", \"rb\" ) )"
   ]
  },
  {
   "cell_type": "code",
   "execution_count": 21,
   "metadata": {
    "collapsed": true
   },
   "outputs": [],
   "source": [
    "# results1= pickle.load(open( \"pickle/Stoch_Hybrid_ieee300_100iter.p\", \"rb\" ) )"
   ]
  },
  {
   "cell_type": "code",
   "execution_count": 22,
   "metadata": {
    "collapsed": false
   },
   "outputs": [],
   "source": [
    "# results1['on_off_array'][0]"
   ]
  },
  {
   "cell_type": "code",
   "execution_count": 23,
   "metadata": {
    "collapsed": false
   },
   "outputs": [],
   "source": [
    "# kk=4\n",
    "# np.sum(on_off_array[kk]!=results1['on_off_array'][kk])"
   ]
  },
  {
   "cell_type": "code",
   "execution_count": 26,
   "metadata": {
    "collapsed": false
   },
   "outputs": [
    {
     "ename": "NameError",
     "evalue": "name 'k' is not defined",
     "output_type": "error",
     "traceback": [
      "\u001b[1;31m---------------------------------------------------------------------------\u001b[0m",
      "\u001b[1;31mNameError\u001b[0m                                 Traceback (most recent call last)",
      "\u001b[1;32m<ipython-input-26-8131e5d9ea60>\u001b[0m in \u001b[0;36m<module>\u001b[1;34m()\u001b[0m\n\u001b[1;32m----> 1\u001b[1;33m \u001b[0mpool\u001b[0m\u001b[1;33m=\u001b[0m\u001b[0mPool\u001b[0m\u001b[1;33m(\u001b[0m\u001b[1;36m4\u001b[0m\u001b[1;33m,\u001b[0m\u001b[0margs\u001b[0m\u001b[1;33m=\u001b[0m\u001b[1;33m(\u001b[0m\u001b[0mk\u001b[0m\u001b[1;33m,\u001b[0m\u001b[1;33m)\u001b[0m\u001b[1;33m)\u001b[0m\u001b[1;33m\u001b[0m\u001b[0m\n\u001b[0m",
      "\u001b[1;31mNameError\u001b[0m: name 'k' is not defined"
     ]
    }
   ],
   "source": [
    "pool=Pool(4,args=(k,))"
   ]
  },
  {
   "cell_type": "code",
   "execution_count": 36,
   "metadata": {
    "collapsed": false
   },
   "outputs": [
    {
     "data": {
      "text/plain": [
       "20"
      ]
     },
     "execution_count": 36,
     "metadata": {},
     "output_type": "execute_result"
    }
   ],
   "source": [
    "len(on_off_array)"
   ]
  },
  {
   "cell_type": "code",
   "execution_count": 37,
   "metadata": {
    "collapsed": false
   },
   "outputs": [
    {
     "data": {
      "text/plain": [
       "[0, 5, 10, 15, -1]"
      ]
     },
     "execution_count": 37,
     "metadata": {},
     "output_type": "execute_result"
    }
   ],
   "source": [
    "range(0,len(on_off_array),5)+[-1]"
   ]
  },
  {
   "cell_type": "code",
   "execution_count": 26,
   "metadata": {
    "collapsed": false
   },
   "outputs": [],
   "source": [
    "# partial_func=partial(eval_on_off,on_off_value=on_off_array[0])\n",
    "# partial_func(r=scenarios_bus[:,:,n_samples:n_samples+10],j=1)"
   ]
  },
  {
   "cell_type": "code",
   "execution_count": 30,
   "metadata": {
    "collapsed": false
   },
   "outputs": [
    {
     "name": "stdout",
     "output_type": "stream",
     "text": [
      "start\n",
      "13.9100089073\n",
      "start\n",
      "14.1202001572\n"
     ]
    }
   ],
   "source": [
    "Q_dict={}\n",
    "p_dict={}\n",
    "load_dict={}\n",
    "s_dict={}\n",
    "for k in range(2):\n",
    "    Q_value=[]\n",
    "    p_value=[]\n",
    "    load_value=[]\n",
    "    s_value=[]\n",
    "    pool=Pool(4,initargs=(k,))\n",
    "    ocost=eval_obj(on_off=on_off_array[k])#results['on_off_array'][0]\n",
    "    st=time.time()\n",
    "    print \"start\"\n",
    "    st=time.time()\n",
    "    res = list(zip(*pool.map(lambda i: eval_on_off(on_off_value=on_off_array,\n",
    "                                                   r=scenarios_bus[:,:,n_samples:n_samples+10],j=i,k=k),\n",
    "                                                   range(10),\n",
    "                                                    chunksize=1)\n",
    "                  ))\n",
    "    print time.time()-st\n",
    "    Q_dict[str(k)]=list(res[0])+ocost\n",
    "    p_dict[str(k)]=np.mean(res[1],0)\n",
    "    load_dict[str(k)]=np.mean(res[2],0)\n",
    "    s_dict[str(k)]=np.mean(res[3],0)\n",
    "    pool.close()\n",
    "    pool.join()"
   ]
  },
  {
   "cell_type": "code",
   "execution_count": 75,
   "metadata": {
    "collapsed": false
   },
   "outputs": [
    {
     "data": {
      "text/plain": [
       "matrix([[  1.23701515e-11,   8.24822808e-12,   1.83182213e-11, ...,\n",
       "           9.36931840e-11,   3.68638374e-12,  -1.00506790e-12],\n",
       "        [  1.15712957e-11,   6.49531659e-12,   1.89065850e-11, ...,\n",
       "           1.05128376e-10,   8.98406237e-13,  -4.82317968e-12],\n",
       "        [  1.20616679e-11,   8.01493148e-12,   1.79055641e-11, ...,\n",
       "           9.26179043e-11,   3.53826831e-12,  -1.06426646e-12],\n",
       "        ..., \n",
       "        [  1.20571840e-11,   8.01241333e-12,   1.78983550e-11, ...,\n",
       "           9.28893861e-11,   3.58628200e-12,  -1.05739767e-12],\n",
       "        [  1.20573921e-11,   8.01250837e-12,   1.78986700e-11, ...,\n",
       "           9.28902842e-11,   3.58693199e-12,  -1.05751062e-12],\n",
       "        [  1.20575639e-11,   8.01261450e-12,   1.78990335e-11, ...,\n",
       "           1.00000000e+00,   3.57541262e-12,  -1.05805522e-12]])"
      ]
     },
     "execution_count": 75,
     "metadata": {},
     "output_type": "execute_result"
    }
   ],
   "source": [
    "res[1][0]"
   ]
  },
  {
   "cell_type": "code",
   "execution_count": 40,
   "metadata": {
    "collapsed": false
   },
   "outputs": [
    {
     "name": "stdout",
     "output_type": "stream",
     "text": [
      "5374.8168167\n"
     ]
    }
   ],
   "source": [
    "print np.mean(Q_dict[str(1)])"
   ]
  },
  {
   "cell_type": "code",
   "execution_count": 49,
   "metadata": {
    "collapsed": false
   },
   "outputs": [
    {
     "data": {
      "text/plain": [
       "array([ 5108.3075405 ,  5108.94410946,  4863.3966163 ,  4925.21711634,\n",
       "        4864.48162503,  4879.82526288,  4822.68470331,  5714.11640054,\n",
       "        4739.08398276,  5028.74249715])"
      ]
     },
     "execution_count": 49,
     "metadata": {},
     "output_type": "execute_result"
    }
   ],
   "source": [
    "Q_value"
   ]
  },
  {
   "cell_type": "code",
   "execution_count": 29,
   "metadata": {
    "collapsed": false
   },
   "outputs": [
    {
     "name": "stdout",
     "output_type": "stream",
     "text": [
      "5120.88810097 5314.7431914 4991.65633816\n"
     ]
    }
   ],
   "source": [
    "print np.mean(Q_value),np.max(Q_value),np.min(Q_value) # Gurobi 20 iter"
   ]
  },
  {
   "cell_type": "code",
   "execution_count": 31,
   "metadata": {
    "collapsed": false
   },
   "outputs": [
    {
     "name": "stdout",
     "output_type": "stream",
     "text": [
      "5004.49456299 6703.69091389 4639.31747618\n"
     ]
    }
   ],
   "source": [
    "print np.mean(Q_value),np.max(Q_value) ,np.min(Q_value) # Ecos 0 iter"
   ]
  },
  {
   "cell_type": "code",
   "execution_count": 33,
   "metadata": {
    "collapsed": false
   },
   "outputs": [
    {
     "name": "stdout",
     "output_type": "stream",
     "text": [
      "4998.24101194 5706.87742705 4731.84500927\n"
     ]
    }
   ],
   "source": [
    "print np.mean(Q_value),np.max(Q_value) ,np.min(Q_value) # GUROBI Cluster 0 iter"
   ]
  },
  {
   "cell_type": "code",
   "execution_count": 31,
   "metadata": {
    "collapsed": false
   },
   "outputs": [
    {
     "name": "stdout",
     "output_type": "stream",
     "text": [
      "4998.24101194 5706.87742705 4731.84500927\n"
     ]
    }
   ],
   "source": [
    "print np.mean(Q_value),np.max(Q_value),np.min(Q_value) # Gurobi 5 iter 3pwl"
   ]
  },
  {
   "cell_type": "code",
   "execution_count": 63,
   "metadata": {
    "collapsed": false
   },
   "outputs": [
    {
     "name": "stdout",
     "output_type": "stream",
     "text": [
      "4257.66597705 4966.30239216 3991.26997438\n"
     ]
    }
   ],
   "source": [
    "print np.mean(Q_value),np.max(Q_value),np.min(Q_value) # No renewables "
   ]
  },
  {
   "cell_type": "code",
   "execution_count": 32,
   "metadata": {
    "collapsed": false
   },
   "outputs": [
    {
     "data": {
      "image/png": "[encoded data removed]",
      "text/plain": [
       "<matplotlib.figure.Figure at 0x7f019dba6910>"
      ]
     },
     "metadata": {},
     "output_type": "display_data"
    }
   ],
   "source": [
    "plt.hist(Q_value,bins='auto')\n",
    "plt.show()"
   ]
  },
  {
   "cell_type": "code",
   "execution_count": 45,
   "metadata": {
    "collapsed": false
   },
   "outputs": [
    {
     "data": {
      "text/plain": [
       "[<matplotlib.lines.Line2D at 0x7fcb9141c810>]"
      ]
     },
     "execution_count": 45,
     "metadata": {},
     "output_type": "execute_result"
    },
    {
     "data": {
      "image/png": "[encoded data removed]",
      "text/plain": [
       "<matplotlib.figure.Figure at 0x7fcb918b0d50>"
      ]
     },
     "metadata": {},
     "output_type": "display_data"
    }
   ],
   "source": [
    "plt.plot(time_eval)"
   ]
  },
  {
   "cell_type": "code",
   "execution_count": 76,
   "metadata": {
    "collapsed": false
   },
   "outputs": [
    {
     "data": {
      "image/png": "[encoded data removed]",
      "text/plain": [
       "<matplotlib.figure.Figure at 0x7fce6ac2b0d0>"
      ]
     },
     "metadata": {},
     "output_type": "display_data"
    }
   ],
   "source": [
    "plot_demand(p=np.mean(res[1],0),load=np.mean(res[2],0),s=np.mean(res[3],0),r=np.mean(scenarios_bus,2),b=b,n_h=n_h)"
   ]
  },
  {
   "cell_type": "code",
   "execution_count": 27,
   "metadata": {
    "collapsed": false
   },
   "outputs": [
    {
     "name": "stdout",
     "output_type": "stream",
     "text": [
      "Nuclear\n",
      "IGCC\n",
      "Coal\n",
      "CCGT\n",
      "OCGT\n"
     ]
    },
    {
     "data": {
      "image/png": "[encoded data removed]",
      "text/plain": [
       "<matplotlib.figure.Figure at 0x7f4783028e90>"
      ]
     },
     "metadata": {},
     "output_type": "display_data"
    }
   ],
   "source": [
    "# gen_tech=['CCGT', 'CCGT', 'CCGT', 'IGCC', 'Nuclear'], \n",
    "\n",
    "sorted_name_techno=['Nuclear','IGCC','Coal','CCGT','OCGT']\n",
    "N = n_h\n",
    "ind = np.arange(N)  # the x locations for the groups\n",
    "width = 1\n",
    "aux=[]\n",
    "aux.append(np.zeros(N).T)\n",
    "cumsum_aux=np.zeros(N)\n",
    "fig, ax = plt.subplots(figsize=(10,10))\n",
    "# rects = ax.bar(ind, strategy1_optMean, width, color=color[0])\n",
    "colors=['#1b9e77','#d95f02','#7570b3','#e7298a','#66a61e']\n",
    "for idx,name in enumerate(sorted_name_techno):\n",
    "    print name\n",
    "    aux.append(np.array([np.sum(np.ceil(o_test[j,i]) for j in range (num_p) if gen_tech[j]==name) for i in range(n_h)]))\n",
    "    cumsum_aux=np.cumsum(aux,0)\n",
    "#     print aux[-1]\n",
    "    rects = ax.bar(ind, aux[idx+1], width, color=colors[idx],bottom=cumsum_aux[idx])\n",
    "plt.legend(sorted_name_techno,loc='best')  \n",
    "plt.show()\n"
   ]
  },
  {
   "cell_type": "code",
   "execution_count": 32,
   "metadata": {
    "collapsed": false
   },
   "outputs": [
    {
     "name": "stdout",
     "output_type": "stream",
     "text": [
      "Nuclear\n",
      "IGCC\n",
      "Coal\n",
      "CCGT\n",
      "OCGT\n"
     ]
    },
    {
     "data": {
      "image/png": "[encoded data removed]",
      "text/plain": [
       "<matplotlib.figure.Figure at 0x7f95f5c317d0>"
      ]
     },
     "metadata": {},
     "output_type": "display_data"
    }
   ],
   "source": [
    "sorted_name_techno=['Nuclear','IGCC','Coal','CCGT','OCGT']\n",
    "N = n_h\n",
    "ind = np.arange(N)  # the x locations for the groups\n",
    "width = 1\n",
    "aux=[]\n",
    "aux.append(np.zeros(N).T)\n",
    "cumsum_aux=np.zeros(N)\n",
    "fig, ax = plt.subplots(figsize=(10,10))\n",
    "# rects = ax.bar(ind, strategy1_optMean, width, color=color[0])\n",
    "colors=['#1b9e77','#d95f02','#7570b3','#e7298a','#66a61e']\n",
    "for idx,name in enumerate(sorted_name_techno):\n",
    "    print name\n",
    "    aux.append(np.array([np.sum(np.ceil(o_test[j,i]) for j in range (num_p) if gen_tech[j]==name) for i in range(n_h)]))\n",
    "    cumsum_aux=np.cumsum(aux,0)\n",
    "#     print aux[-1]\n",
    "    rects = ax.bar(ind, aux[idx+1], width, color=colors[idx],bottom=cumsum_aux[idx])\n",
    "plt.legend(sorted_name_techno,loc='best')  \n",
    "plt.show()\n"
   ]
  },
  {
   "cell_type": "code",
   "execution_count": 91,
   "metadata": {
    "collapsed": false
   },
   "outputs": [
    {
     "name": "stdout",
     "output_type": "stream",
     "text": [
      "paila\n"
     ]
    }
   ],
   "source": [
    "try:\n",
    "    1/0\n",
    "except:\n",
    "    print \"paila\"\n",
    "else:\n",
    "    print \"1\""
   ]
  },
  {
   "cell_type": "code",
   "execution_count": null,
   "metadata": {
    "collapsed": true
   },
   "outputs": [],
   "source": []
  }
 ],
 "metadata": {
  "kernelspec": {
   "display_name": "Python 2",
   "language": "python",
   "name": "python2"
  },
  "language_info": {
   "codemirror_mode": {
    "name": "ipython",
    "version": 2
   },
   "file_extension": ".py",
   "mimetype": "text/x-python",
   "name": "python",
   "nbconvert_exporter": "python",
   "pygments_lexer": "ipython2",
   "version": "2.7.12"
  }
 },
 "nbformat": 4,
 "nbformat_minor": 0
}
