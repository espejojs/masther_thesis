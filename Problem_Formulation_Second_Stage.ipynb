{
 "cells": [
  {
   "cell_type": "code",
   "execution_count": 1,
   "metadata": {
    "collapsed": false
   },
   "outputs": [],
   "source": [
    "import numpy as np\n",
    "import pfnet as pf\n",
    "from scipy.sparse import triu,bmat,coo_matrix,eye,spdiags\n",
    "import matplotlib.pyplot as plt\n",
    "from scikits.sparse.cholmod import cholesky\n",
    "\n",
    "%matplotlib inline  "
   ]
  },
  {
   "cell_type": "code",
   "execution_count": 2,
   "metadata": {
    "collapsed": false
   },
   "outputs": [],
   "source": [
    "net=pf.Network()\n",
    "# net.load('PFNET-multi_period/data/ieee14.mat')\n",
    "net.load('PFNET-multi_period/data/ieee300.mat')\n"
   ]
  },
  {
   "cell_type": "code",
   "execution_count": 3,
   "metadata": {
    "collapsed": false
   },
   "outputs": [],
   "source": [
    "penetration=50.\n",
    "net.add_vargens(net.get_gen_buses(),#[net.get_bus(1)], \n",
    "                penetration, 50., 10, 0.1)"
   ]
  },
  {
   "cell_type": "code",
   "execution_count": 4,
   "metadata": {
    "collapsed": false
   },
   "outputs": [],
   "source": [
    "# Problem set up\n",
    "\n",
    "total_load = sum([l.P for l in net.loads])\n",
    "total_capacity=sum([gen.P_max for gen in net.generators])\n",
    "uncertainty = 100.*sum([g.P_std for g in net.var_generators])/sum([g.P_max for g in net.var_generators])\n",
    "corr_value = net.vargen_corr_value \n",
    "corr_radius = net.vargen_corr_radius\n",
    "\n",
    "for br in net.branches:\n",
    "    if br.ratingA==0:\n",
    "        br.ratingA = 15\n",
    "\n",
    "for gen in net.generators:\n",
    "    gen.P_min = 0.\n",
    "    gen.P_max = np.maximum(gen.P_max,0.)\n",
    "    assert(gen.P_min <= gen.P_max)\n",
    "\n",
    "\n",
    "num_w = net.num_buses-net.get_num_slack_buses() # voltage angles\n",
    "num_p = net.get_num_P_adjust_gens()             #net.get_num_generators()         # adjustable generators\n",
    "num_r = net.num_var_generators                       # renewable generators\n",
    "num_bus = net.num_buses                         # buses\n",
    "num_br = net.num_branches                       # branches\n",
    "num_l = net.num_loads"
   ]
  },
  {
   "cell_type": "code",
   "execution_count": 5,
   "metadata": {
    "collapsed": false
   },
   "outputs": [],
   "source": [
    "capacity_per=np.array([0.23494860499265785, 0.30279001468428781, 0.18208516886930984, 0.23906020558002939, 0.041116005873715125])#([0.25, 0.50, 0.15, 0.05, 0.05 ])#\n",
    "capacity_per_cumsum=np.cumsum(capacity_per)\n",
    "sorted_gen=np.array(sorted([gen.P_max  for gen in net.generators]))\n",
    "gen_cumsum=np.cumsum(sorted_gen)\n",
    "gen_bounds=np.zeros(len(capacity_per)+1)\n",
    "gen_bounds[0]=100\n",
    "for idx,cap in enumerate(capacity_per_cumsum):\n",
    "    gen_bounds[idx+1]=np.min(sorted_gen[gen_cumsum/total_capacity>=(1-cap)])\n",
    "gen_bounds[-1]=0\n",
    "parameters=[('Nuclear', 0.029917833750000022, 3.0741044999999803, 100, 400.0, 280.0, 280.0, 24.0, 168.0, 40000.0),\n",
    "('Coal', 0.11954207142857155, 12.270104999999957, 140, 350.0, 140.0, 140.0, 5.0, 8.0, 12064.0),\n",
    "('IGCC', 0.25331129032258076, 10.655729999999988, 54, 155.0, 70.0, 80.0, 16.0, 24.0, 2058.0),\n",
    "('CCGT', 0.14437728426395943, 7.7242649999999946, 104, 197.0, 310.0, 310.0, 3.0, 4.0, 230.0),\n",
    "('OCGT', 2.2680749999999974, 13.795700000000027, 8, 20.0, 90.0, 100.0, 1.0, 2.0, 46.0)]\n"
   ]
  },
  {
   "cell_type": "code",
   "execution_count": 6,
   "metadata": {
    "collapsed": false
   },
   "outputs": [],
   "source": [
    "# for i in range(0,len(gen_bounds)-1):\n",
    "#     print np.sum([gen.P_max/total_capacity for gen in net.generators if gen.P_max>gen_bounds[i+1] and gen.P_max < gen_bounds[i] ])"
   ]
  },
  {
   "cell_type": "code",
   "execution_count": 7,
   "metadata": {
    "collapsed": false
   },
   "outputs": [],
   "source": [
    "min_down=np.zeros([num_p])\n",
    "min_up=np.zeros([num_p])\n",
    "ramp_up=np.zeros([num_p])\n",
    "ramp_down=np.zeros([num_p])\n",
    "on_off_cost=np.zeros([num_p])\n",
    "\n",
    "gen_tech=np.chararray([num_p],itemsize=10)\n",
    "for i in reversed(range(0,len(gen_bounds)-1)): \n",
    "    for gen in net.generators:\n",
    "        if gen.P_max > gen_bounds[i+1] and gen.P_max <= gen_bounds[i]:\n",
    "            aggregator= np.ceil(np.maximum(gen.P_max/(parameters[i][4]/net.base_power),1))\n",
    "#             print aggregator,parameters[i][0],gen.index\n",
    "            gen.P_max= aggregator*parameters[i][4]/net.base_power\n",
    "            gen.P_min= aggregator*parameters[i][3]/net.base_power\n",
    "            gen.cost_coeff_Q2= net.base_power**2*parameters[i][1]/aggregator\n",
    "            gen.cost_coeff_Q1= net.base_power*parameters[i][2]/aggregator\n",
    "            gen.dP_max= parameters[i][5]/net.base_power*aggregator\n",
    "            \n",
    "            ramp_up[gen.index]=(aggregator*parameters[i][5])/net.base_power\n",
    "            ramp_down[gen.index]=(aggregator*parameters[i][6])/net.base_power\n",
    "            min_down[gen.index]= parameters[i][7]\n",
    "            min_up[gen.index] = parameters[i][8]\n",
    "            on_off_cost[gen.index] =parameters[i][9]\n",
    "            \n",
    "            gen_tech[gen.index] = parameters[i][0]\n",
    "            \n",
    "name_techno=list(set([techno[0] for techno in parameters]))"
   ]
  },
  {
   "cell_type": "code",
   "execution_count": 8,
   "metadata": {
    "collapsed": false
   },
   "outputs": [],
   "source": [
    "# sorted([(gen.index , gen.P_max) for idx , gen in enumerate( net.generators)],\n",
    "#        key = lambda x: float(x[1]),reverse=True)\n",
    "    "
   ]
  },
  {
   "cell_type": "code",
   "execution_count": 9,
   "metadata": {
    "collapsed": true
   },
   "outputs": [],
   "source": [
    "net.clear_flags()\n",
    "net.set_flags(pf.OBJ_BUS,\n",
    "              pf.FLAG_VARS,\n",
    "              pf.BUS_PROP_NOT_SLACK,\n",
    "              pf.BUS_VAR_VANG)\n",
    "net.set_flags(pf.OBJ_GEN,\n",
    "              pf.FLAG_VARS,\n",
    "              pf.GEN_PROP_P_ADJUST,\n",
    "              pf.GEN_VAR_P)\n",
    "net.set_flags(pf.OBJ_VARGEN,\n",
    "              pf.FLAG_VARS,\n",
    "              pf.VARGEN_PROP_ANY,\n",
    "              pf.VARGEN_VAR_P)\n",
    "net.set_flags(pf.OBJ_LOAD,\n",
    "              pf.FLAG_VARS,\n",
    "              pf.LOAD_PROP_ANY,\n",
    "              pf.LOAD_VAR_P)"
   ]
  },
  {
   "cell_type": "code",
   "execution_count": 10,
   "metadata": {
    "collapsed": false
   },
   "outputs": [],
   "source": [
    "x = net.get_var_values()\n",
    "Pw = net.get_var_projection(pf.OBJ_BUS,pf.BUS_VAR_VANG)\n",
    "Pp = net.get_var_projection(pf.OBJ_GEN,pf.GEN_VAR_P)\n",
    "Pr = net.get_var_projection(pf.OBJ_VARGEN,pf.VARGEN_VAR_P)\n",
    "Pd = net.get_var_projection(pf.OBJ_LOAD,pf.LOAD_VAR_P)\n"
   ]
  },
  {
   "cell_type": "code",
   "execution_count": 11,
   "metadata": {
    "collapsed": false
   },
   "outputs": [],
   "source": [
    "pf_eq = pf.Constraint(pf.CONSTR_TYPE_DCPF,net)\n",
    "pf_eq.analyze()\n",
    "pf_eq.eval(x)\n",
    "AA = pf_eq.A.copy()\n",
    "bb = pf_eq.b.copy()"
   ]
  },
  {
   "cell_type": "code",
   "execution_count": 12,
   "metadata": {
    "collapsed": false
   },
   "outputs": [],
   "source": [
    "fl_lim = pf.Constraint(pf.CONSTR_TYPE_DC_FLOW_LIM,net)\n",
    "fl_lim.analyze()\n",
    "fl_lim.eval(x)\n",
    "GG = fl_lim.G.copy()\n",
    "hl = fl_lim.l.copy()\n",
    "hu = fl_lim.u.copy()"
   ]
  },
  {
   "cell_type": "code",
   "execution_count": 13,
   "metadata": {
    "collapsed": false
   },
   "outputs": [],
   "source": [
    "cost = pf.Function(pf.FUNC_TYPE_GEN_COST,1.,net)\n",
    "cost.analyze()\n",
    "cost.eval(x)\n",
    "H = (cost.Hphi + cost.Hphi.T - triu(cost.Hphi)) # symmetric\n",
    "g = cost.gphi - H*x\n",
    "l = net.get_var_values(pf.LOWER_LIMITS)\n",
    "u = net.get_var_values(pf.UPPER_LIMITS)"
   ]
  },
  {
   "cell_type": "code",
   "execution_count": 14,
   "metadata": {
    "collapsed": false
   },
   "outputs": [],
   "source": [
    "p_max = Pp*u\n",
    "p_min = Pp*l\n",
    "w_max = 5*np.ones(num_w)\n",
    "w_min = -5*np.ones(num_w)\n",
    "r_max = Pr*u\n",
    "r_base = Pr*x\n",
    "z_max = hu\n",
    "z_min = hl \n",
    "H0 = Pp*H*Pp.T # change costs\n",
    "g0 = Pp*g\n",
    "#H1 = self.H0*self.parameters['cost_factor']\n",
    "g1 = np.zeros(num_p)\n",
    "G = AA*Pp.T\n",
    "R = AA*Pr.T\n",
    "A = -AA*Pw.T\n",
    "Dm = -AA*Pd.T\n",
    "J = GG*Pw.T \n",
    "b = bb\n",
    "ll= Pd*x #np.array([l.P for l in net.loads]) # check "
   ]
  },
  {
   "cell_type": "code",
   "execution_count": 15,
   "metadata": {
    "collapsed": false
   },
   "outputs": [],
   "source": [
    "rr_cov = Pr*net.create_vargen_P_sigma(corr_radius,corr_value)*Pr.T\n",
    "r_cov = (rr_cov+rr_cov.T-triu(rr_cov)).tocsc()\n",
    "factor = cholesky(r_cov)\n",
    "LL,D = factor.L_D()\n",
    "P = factor.P()\n",
    "PT = coo_matrix((np.ones(P.size),(P,np.arange(P.size))),shape=D.shape)\n",
    "D = D.tocoo()\n",
    "Dh = coo_matrix((np.sqrt(D.data),(D.row,D.col)),shape=D.shape)\n",
    "L = PT*LL*Dh"
   ]
  },
  {
   "cell_type": "code",
   "execution_count": 16,
   "metadata": {
    "collapsed": false
   },
   "outputs": [],
   "source": [
    "from cvxpy import *\n",
    "import mosek\n",
    "import gurobi"
   ]
  },
  {
   "cell_type": "code",
   "execution_count": 17,
   "metadata": {
    "collapsed": false
   },
   "outputs": [],
   "source": [
    "load_data=np.genfromtxt('BPA_data/day0.csv',delimiter=',',names=True)\n",
    "r_test=np.flipud(load_data['wind'])*total_load*(penetration/100)/num_r"
   ]
  },
  {
   "cell_type": "code",
   "execution_count": 33,
   "metadata": {
    "collapsed": false
   },
   "outputs": [],
   "source": [
    "np.random.seed(seed=100)\n",
    "n_h=24\n",
    "p=Variable(num_p,n_h)\n",
    "w=Variable(num_w,n_h)\n",
    "z=Variable(num_br,n_h)\n",
    "s=Variable(num_r,n_h)\n",
    "load=Variable(num_l,n_h)\n",
    "Pforecast=total_load\n",
    "Load_Penalty=1e6\n",
    "# p_min = p_max*0.0\n",
    "rampup = ramp_up #p_max/(H0.diagonal()/np.max(H0))*0.04 # p_max*0.01\n",
    "rampdown=ramp_down #p_max/(H0.diagonal()/np.max(H0))*0.04 # p_max*0.01\n"
   ]
  },
  {
   "cell_type": "code",
   "execution_count": 34,
   "metadata": {
    "collapsed": false
   },
   "outputs": [
    {
     "data": {
      "text/plain": [
       "0.73227203117607498"
      ]
     },
     "execution_count": 34,
     "metadata": {},
     "output_type": "execute_result"
    }
   ],
   "source": [
    "(total_load/np.sum([gen.P_max for gen in net.generators]))/0.8"
   ]
  },
  {
   "cell_type": "code",
   "execution_count": 35,
   "metadata": {
    "collapsed": false,
    "scrolled": true
   },
   "outputs": [
    {
     "data": {
      "image/png": "[encoded data removed]",
      "text/plain": [
       "<matplotlib.figure.Figure at 0x7fdb62bda690>"
      ]
     },
     "metadata": {},
     "output_type": "display_data"
    }
   ],
   "source": [
    "n_samples=50\n",
    "scenarios=np.zeros([n_samples,n_h])\n",
    "for j in range(n_samples):\n",
    "    b=[]\n",
    "    b=np.zeros([num_l,n_h])\n",
    "    r=[]\n",
    "    r=np.zeros([num_r,n_h])\n",
    "    for i in range (n_h):\n",
    "        b[:,i]=ll*load_data['load'][i]/load_data['load'][0]\n",
    "        r[:,i]=0*np.minimum(np.maximum(r_test[i]*np.ones(num_r)\n",
    "                                     +L*np.random.randn(num_r)*np.sqrt(r_test[i])*np.sqrt((i*1.+1)/(n_h)),1e-3),r_max)\n",
    "    scenarios[j,:]=sum(r)\n",
    "    plt.plot(sum(r)/total_load,color='gray')\n",
    "\n",
    "plt.plot(np.mean(scenarios,0)/total_load,color='r',linewidth=3.0)\n",
    "plt.plot(r_test*num_r/total_load,color='k',linewidth=3.0)\n",
    "plt.show()"
   ]
  },
  {
   "cell_type": "code",
   "execution_count": 36,
   "metadata": {
    "collapsed": false
   },
   "outputs": [],
   "source": [
    "Constraints=[]\n",
    "for i in range (n_h):\n",
    "    \n",
    "#     Constraints.append(G*p[:,i]-A*w[:,i]-b[:,i]==0)\n",
    "#     Constraints.append(G*p[:,i]-A*w[:,i]==load[:,i])\n",
    "    Constraints.append(G*p[:,i]+R*s[:,i]-A*w[:,i]==Dm*load[:,i])\n",
    "    Constraints.append(J*w[:,i]==z[:,i])\n",
    "    Constraints.append(p[:,i]<=p_max)\n",
    "    Constraints.append(p[:,i]>=p_min)\n",
    "    Constraints.append(w[:,i]<=w_max)\n",
    "    Constraints.append(w[:,i]>=w_min)\n",
    "    Constraints.append(z[:,i]<=z_max)\n",
    "    Constraints.append(z[:,i]>=z_min)\n",
    "    Constraints.append(s[:,i]<=r[:,i])\n",
    "    Constraints.append(s[:,i]>=0)\n",
    "    \n",
    "#     Constraints.append(load[:,i]>=0)\n",
    "    Constraints.append(load[:,i]<=b[:,i])\n",
    "\n",
    "\n"
   ]
  },
  {
   "cell_type": "code",
   "execution_count": 37,
   "metadata": {
    "collapsed": false
   },
   "outputs": [],
   "source": [
    "for i in range(1,n_h):\n",
    "    for j in range (num_p):\n",
    "        Constraints.append(p[j,i]-p[j,i-1]<=rampup[j])\n",
    "        Constraints.append(p[j,i]-p[j,i-1]>=-rampdown[j])"
   ]
  },
  {
   "cell_type": "code",
   "execution_count": 38,
   "metadata": {
    "collapsed": false
   },
   "outputs": [],
   "source": [
    "Objective=0\n",
    "for i in range (n_h):\n",
    "    Objective=Objective + quad_form(p[:,i],H0*0.5)\n",
    "    Objective=Objective + g0*p[:,i]# check \n",
    "    Objective=Objective + Load_Penalty*norm(load[:,i]-b[:,i],1)\n",
    "   "
   ]
  },
  {
   "cell_type": "code",
   "execution_count": 39,
   "metadata": {
    "collapsed": false
   },
   "outputs": [],
   "source": [
    "prob = []\n",
    "prob = Problem(Minimize(Objective), Constraints)"
   ]
  },
  {
   "cell_type": "code",
   "execution_count": 40,
   "metadata": {
    "collapsed": false
   },
   "outputs": [
    {
     "data": {
      "text/plain": [
       "12609938.018686436"
      ]
     },
     "execution_count": 40,
     "metadata": {},
     "output_type": "execute_result"
    }
   ],
   "source": [
    "prob.solve(solver=MOSEK)"
   ]
  },
  {
   "cell_type": "code",
   "execution_count": 41,
   "metadata": {
    "collapsed": false,
    "scrolled": false
   },
   "outputs": [
    {
     "data": {
      "image/png": "[encoded data removed]",
      "text/plain": [
       "<matplotlib.figure.Figure at 0x7fdb63ae1750>"
      ]
     },
     "metadata": {},
     "output_type": "display_data"
    }
   ],
   "source": [
    "colors=['#d7191c','#fdae61','#abdda4','#2b83ba'] #['#ef8a62','#f7f7f7','#67a9cf','#008837']\n",
    "plt.figure(figsize=(10,10))\n",
    "plt.fill_between(range(n_h),np.zeros(n_h),np.squeeze(np.asarray(sum(p.value))),color=colors[3])\n",
    "plt.fill_between(range(n_h),np.squeeze(np.asarray(sum(p.value))),\n",
    "                 np.squeeze(np.asarray(sum(p.value)+sum(s.value))),\n",
    "                 color=colors[1])\n",
    "\n",
    "plt.fill_between(range(n_h),np.squeeze(np.asarray(sum(b))),\n",
    "                 np.squeeze(np.asarray(sum(load.value))),\n",
    "                 color=colors[0])\n",
    "plt.plot(range(n_h),np.squeeze(np.asarray(sum(b))),color='k',linewidth=3.0)\n",
    "plt.fill_between(range(n_h),np.zeros(n_h),-np.squeeze(np.asarray(-sum(s.value)+sum(r))),color=colors[2])\n",
    "plt.legend(['Demand','Generation','Renewable','Demand not served','Curtailed Renewable '],loc='best')\n",
    "plt.show()"
   ]
  },
  {
   "cell_type": "code",
   "execution_count": 42,
   "metadata": {
    "collapsed": false,
    "scrolled": false
   },
   "outputs": [
    {
     "data": {
      "image/png": "[encoded data removed]",
      "text/plain": [
       "<matplotlib.figure.Figure at 0x7fdb619baed0>"
      ]
     },
     "metadata": {},
     "output_type": "display_data"
    }
   ],
   "source": [
    "total_p_gen=np.sum(p.value,1)\n",
    "total_share=[]\n",
    "\n",
    "for name in name_techno:\n",
    "    total_share.append((name,np.sum([ total_p_gen[i] for i in range(num_p) if gen_tech[i]==name  ])))\n",
    "sorted_name_techno=[x[0] for x in sorted(total_share,key =lambda x: x[1],reverse=True)]\n",
    "colors=list(reversed(['#f0f9e8','#bae4bc','#7bccc4','#43a2ca','#0868ac']))\n",
    "share_per_hour=np.zeros([len(name_techno)+1,n_h])\n",
    "plt.figure(figsize=(10,10))\n",
    "for idx,name in enumerate(sorted_name_techno):\n",
    "    share_per_hour[idx+1]=np.sum([ np.squeeze(np.asarray(p.value[i])) for i in range(num_p) if gen_tech[i]==name ],0)\n",
    "share_per_hour=np.cumsum(share_per_hour,0)\n",
    "for idx,name in enumerate(sorted_name_techno):\n",
    "    plt.fill_between(range(n_h),share_per_hour[idx],share_per_hour[idx+1],color=colors[idx])\n",
    "plt.legend(sorted_name_techno,loc='best')\n",
    "plt.show()"
   ]
  },
  {
   "cell_type": "code",
   "execution_count": 28,
   "metadata": {
    "collapsed": false
   },
   "outputs": [
    {
     "data": {
      "image/png": "[encoded data removed]",
      "text/plain": [
       "<matplotlib.figure.Figure at 0x7f1ebd028510>"
      ]
     },
     "metadata": {},
     "output_type": "display_data"
    }
   ],
   "source": [
    "n_points=50\n",
    "for gen_id in range(num_p):\n",
    "#     gen_id=10\n",
    "    xx=np.linspace(p_min[gen_id]*net.base_power,p_max[gen_id]*net.base_power,n_points)\n",
    "    y=np.zeros(n_points)\n",
    "    for i in range(n_points):\n",
    "        y[i]=0.5*H0.diagonal()[gen_id]*xx[i]**2+g0[gen_id]*xx[i]\n",
    "    plt.plot(xx,y)"
   ]
  },
  {
   "cell_type": "code",
   "execution_count": 63,
   "metadata": {
    "collapsed": false
   },
   "outputs": [],
   "source": [
    "assert((p.value<=np.transpose([p_max*1.1 for i in range (n_h)])).all())\n",
    "assert((p.value>=np.transpose([p_min[0]*0.9 for i in range (n_h)])).all())\n",
    "assert((w.value<=np.transpose([w_max for i in range (n_h)])).all())\n",
    "assert((w.value>=np.transpose([w_min for i in range (n_h)])).all())\n",
    "assert((z.value<=np.transpose([z_max for i in range (n_h)])).all())\n",
    "assert((z.value>=np.transpose([z_min for i in range (n_h)])).all())\n"
   ]
  }
 ],
 "metadata": {
  "kernelspec": {
   "display_name": "Python 2",
   "language": "python",
   "name": "python2"
  },
  "language_info": {
   "codemirror_mode": {
    "name": "ipython",
    "version": 2
   },
   "file_extension": ".py",
   "mimetype": "text/x-python",
   "name": "python",
   "nbconvert_exporter": "python",
   "pygments_lexer": "ipython2",
   "version": "2.7.12"
  }
 },
 "nbformat": 4,
 "nbformat_minor": 1
}
